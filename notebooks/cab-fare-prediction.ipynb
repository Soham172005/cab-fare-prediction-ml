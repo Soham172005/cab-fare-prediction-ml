{
 "cells": [
  {
   "cell_type": "markdown",
   "metadata": {
    "papermill": {
     "duration": 0.123483,
     "end_time": "2020-11-02T11:19:22.140792",
     "exception": false,
     "start_time": "2020-11-02T11:19:22.017309",
     "status": "completed"
    },
    "tags": []
   },
   "source": [
    "IMPORT OF LIBRARIES AND DATASETS\n",
    "\n",
    "Pandas: For performing basic operations on dataset \n",
    "\n",
    "Numpy : For mathematical calculations \n",
    "\n",
    "Matplotlib & Seaborn: For visualizations & plots\n"
   ]
  },
  {
   "cell_type": "code",
   "execution_count": 14,
   "metadata": {
    "_cell_guid": "79c7e3d0-c299-4dcb-8224-4455121ee9b0",
    "_uuid": "d629ff2d2480ee46fbb7e2d37f6b5fab8052498a",
    "execution": {
     "iopub.execute_input": "2020-11-02T11:19:22.441574Z",
     "iopub.status.busy": "2020-11-02T11:19:22.440726Z",
     "iopub.status.idle": "2020-11-02T11:19:24.096937Z",
     "shell.execute_reply": "2020-11-02T11:19:24.096080Z"
    },
    "papermill": {
     "duration": 1.819404,
     "end_time": "2020-11-02T11:19:24.097079",
     "exception": false,
     "start_time": "2020-11-02T11:19:22.277675",
     "status": "completed"
    },
    "tags": []
   },
   "outputs": [],
   "source": [
    "import pandas as pd # Importing pandas for performing EDA\n",
    "import numpy as np  # Importing numpy for Linear Algebric operations\n",
    "import matplotlib.pyplot as plt # Importing for Data Visualization\n",
    "import seaborn as sns # Importing for Data Visualization\n",
    "from collections import Counter \n",
    "from sklearn.tree import DecisionTreeRegressor\n",
    "from sklearn.ensemble import RandomForestRegressor\n",
    "from sklearn.ensemble import GradientBoostingRegressor\n",
    "\n",
    "#Machine Learning algorithm\n",
    "from sklearn.linear_model import LinearRegression\n",
    "\n",
    "# For splitting dataset\n",
    "from sklearn.model_selection import train_test_split\n",
    "\n",
    "from sklearn.metrics import mean_squared_error\n",
    "from sklearn.metrics import r2_score\n",
    "from pprint import pprint\n",
    "from sklearn.model_selection import GridSearchCV    \n",
    "\n",
    "%matplotlib inline"
   ]
  },
  {
   "cell_type": "code",
   "execution_count": 15,
   "metadata": {
    "execution": {
     "iopub.execute_input": "2020-11-02T11:19:24.355452Z",
     "iopub.status.busy": "2020-11-02T11:19:24.354533Z",
     "iopub.status.idle": "2020-11-02T11:19:24.426195Z",
     "shell.execute_reply": "2020-11-02T11:19:24.425307Z"
    },
    "papermill": {
     "duration": 0.203326,
     "end_time": "2020-11-02T11:19:24.426337",
     "exception": false,
     "start_time": "2020-11-02T11:19:24.223011",
     "status": "completed"
    },
    "tags": []
   },
   "outputs": [],
   "source": [
    "# Loading the data\n",
    "train  = pd.read_csv(\"../data/raw/train_cab_fare.csv\",na_values={\"pickup_datetime\":\"43\"})\n",
    "test   = pd.read_csv(\"../data/raw/test_cab_fare.csv\")"
   ]
  },
  {
   "cell_type": "markdown",
   "metadata": {
    "papermill": {
     "duration": 0.122894,
     "end_time": "2020-11-02T11:19:24.674569",
     "exception": false,
     "start_time": "2020-11-02T11:19:24.551675",
     "status": "completed"
    },
    "tags": []
   },
   "source": [
    "DATA UNDERSTANDING"
   ]
  },
  {
   "cell_type": "code",
   "execution_count": 16,
   "metadata": {
    "execution": {
     "iopub.execute_input": "2020-11-02T11:19:24.941601Z",
     "iopub.status.busy": "2020-11-02T11:19:24.934156Z",
     "iopub.status.idle": "2020-11-02T11:19:24.959626Z",
     "shell.execute_reply": "2020-11-02T11:19:24.958804Z"
    },
    "papermill": {
     "duration": 0.161386,
     "end_time": "2020-11-02T11:19:24.959784",
     "exception": false,
     "start_time": "2020-11-02T11:19:24.798398",
     "status": "completed"
    },
    "tags": []
   },
   "outputs": [
    {
     "data": {
      "text/html": [
       "<div>\n",
       "<style scoped>\n",
       "    .dataframe tbody tr th:only-of-type {\n",
       "        vertical-align: middle;\n",
       "    }\n",
       "\n",
       "    .dataframe tbody tr th {\n",
       "        vertical-align: top;\n",
       "    }\n",
       "\n",
       "    .dataframe thead th {\n",
       "        text-align: right;\n",
       "    }\n",
       "</style>\n",
       "<table border=\"1\" class=\"dataframe\">\n",
       "  <thead>\n",
       "    <tr style=\"text-align: right;\">\n",
       "      <th></th>\n",
       "      <th>fare_amount</th>\n",
       "      <th>pickup_datetime</th>\n",
       "      <th>pickup_longitude</th>\n",
       "      <th>pickup_latitude</th>\n",
       "      <th>dropoff_longitude</th>\n",
       "      <th>dropoff_latitude</th>\n",
       "      <th>passenger_count</th>\n",
       "    </tr>\n",
       "  </thead>\n",
       "  <tbody>\n",
       "    <tr>\n",
       "      <th>0</th>\n",
       "      <td>4.5</td>\n",
       "      <td>2009-06-15 17:26:21 UTC</td>\n",
       "      <td>-73.844311</td>\n",
       "      <td>40.721319</td>\n",
       "      <td>-73.841610</td>\n",
       "      <td>40.712278</td>\n",
       "      <td>1.0</td>\n",
       "    </tr>\n",
       "    <tr>\n",
       "      <th>1</th>\n",
       "      <td>16.9</td>\n",
       "      <td>2010-01-05 16:52:16 UTC</td>\n",
       "      <td>-74.016048</td>\n",
       "      <td>40.711303</td>\n",
       "      <td>-73.979268</td>\n",
       "      <td>40.782004</td>\n",
       "      <td>1.0</td>\n",
       "    </tr>\n",
       "    <tr>\n",
       "      <th>2</th>\n",
       "      <td>5.7</td>\n",
       "      <td>2011-08-18 00:35:00 UTC</td>\n",
       "      <td>-73.982738</td>\n",
       "      <td>40.761270</td>\n",
       "      <td>-73.991242</td>\n",
       "      <td>40.750562</td>\n",
       "      <td>2.0</td>\n",
       "    </tr>\n",
       "    <tr>\n",
       "      <th>3</th>\n",
       "      <td>7.7</td>\n",
       "      <td>2012-04-21 04:30:42 UTC</td>\n",
       "      <td>-73.987130</td>\n",
       "      <td>40.733143</td>\n",
       "      <td>-73.991567</td>\n",
       "      <td>40.758092</td>\n",
       "      <td>1.0</td>\n",
       "    </tr>\n",
       "    <tr>\n",
       "      <th>4</th>\n",
       "      <td>5.3</td>\n",
       "      <td>2010-03-09 07:51:00 UTC</td>\n",
       "      <td>-73.968095</td>\n",
       "      <td>40.768008</td>\n",
       "      <td>-73.956655</td>\n",
       "      <td>40.783762</td>\n",
       "      <td>1.0</td>\n",
       "    </tr>\n",
       "  </tbody>\n",
       "</table>\n",
       "</div>"
      ],
      "text/plain": [
       "  fare_amount          pickup_datetime  pickup_longitude  pickup_latitude  \\\n",
       "0         4.5  2009-06-15 17:26:21 UTC        -73.844311        40.721319   \n",
       "1        16.9  2010-01-05 16:52:16 UTC        -74.016048        40.711303   \n",
       "2         5.7  2011-08-18 00:35:00 UTC        -73.982738        40.761270   \n",
       "3         7.7  2012-04-21 04:30:42 UTC        -73.987130        40.733143   \n",
       "4         5.3  2010-03-09 07:51:00 UTC        -73.968095        40.768008   \n",
       "\n",
       "   dropoff_longitude  dropoff_latitude  passenger_count  \n",
       "0         -73.841610         40.712278              1.0  \n",
       "1         -73.979268         40.782004              1.0  \n",
       "2         -73.991242         40.750562              2.0  \n",
       "3         -73.991567         40.758092              1.0  \n",
       "4         -73.956655         40.783762              1.0  "
      ]
     },
     "execution_count": 16,
     "metadata": {},
     "output_type": "execute_result"
    }
   ],
   "source": [
    "train.head()"
   ]
  },
  {
   "cell_type": "code",
   "execution_count": 17,
   "metadata": {
    "execution": {
     "iopub.execute_input": "2020-11-02T11:19:25.229418Z",
     "iopub.status.busy": "2020-11-02T11:19:25.228253Z",
     "iopub.status.idle": "2020-11-02T11:19:25.233553Z",
     "shell.execute_reply": "2020-11-02T11:19:25.232780Z"
    },
    "papermill": {
     "duration": 0.145439,
     "end_time": "2020-11-02T11:19:25.233681",
     "exception": false,
     "start_time": "2020-11-02T11:19:25.088242",
     "status": "completed"
    },
    "tags": []
   },
   "outputs": [
    {
     "data": {
      "text/html": [
       "<div>\n",
       "<style scoped>\n",
       "    .dataframe tbody tr th:only-of-type {\n",
       "        vertical-align: middle;\n",
       "    }\n",
       "\n",
       "    .dataframe tbody tr th {\n",
       "        vertical-align: top;\n",
       "    }\n",
       "\n",
       "    .dataframe thead th {\n",
       "        text-align: right;\n",
       "    }\n",
       "</style>\n",
       "<table border=\"1\" class=\"dataframe\">\n",
       "  <thead>\n",
       "    <tr style=\"text-align: right;\">\n",
       "      <th></th>\n",
       "      <th>pickup_datetime</th>\n",
       "      <th>pickup_longitude</th>\n",
       "      <th>pickup_latitude</th>\n",
       "      <th>dropoff_longitude</th>\n",
       "      <th>dropoff_latitude</th>\n",
       "      <th>passenger_count</th>\n",
       "    </tr>\n",
       "  </thead>\n",
       "  <tbody>\n",
       "    <tr>\n",
       "      <th>0</th>\n",
       "      <td>2015-01-27 13:08:24 UTC</td>\n",
       "      <td>-73.973320</td>\n",
       "      <td>40.763805</td>\n",
       "      <td>-73.981430</td>\n",
       "      <td>40.743835</td>\n",
       "      <td>1</td>\n",
       "    </tr>\n",
       "    <tr>\n",
       "      <th>1</th>\n",
       "      <td>2015-01-27 13:08:24 UTC</td>\n",
       "      <td>-73.986862</td>\n",
       "      <td>40.719383</td>\n",
       "      <td>-73.998886</td>\n",
       "      <td>40.739201</td>\n",
       "      <td>1</td>\n",
       "    </tr>\n",
       "    <tr>\n",
       "      <th>2</th>\n",
       "      <td>2011-10-08 11:53:44 UTC</td>\n",
       "      <td>-73.982524</td>\n",
       "      <td>40.751260</td>\n",
       "      <td>-73.979654</td>\n",
       "      <td>40.746139</td>\n",
       "      <td>1</td>\n",
       "    </tr>\n",
       "    <tr>\n",
       "      <th>3</th>\n",
       "      <td>2012-12-01 21:12:12 UTC</td>\n",
       "      <td>-73.981160</td>\n",
       "      <td>40.767807</td>\n",
       "      <td>-73.990448</td>\n",
       "      <td>40.751635</td>\n",
       "      <td>1</td>\n",
       "    </tr>\n",
       "    <tr>\n",
       "      <th>4</th>\n",
       "      <td>2012-12-01 21:12:12 UTC</td>\n",
       "      <td>-73.966046</td>\n",
       "      <td>40.789775</td>\n",
       "      <td>-73.988565</td>\n",
       "      <td>40.744427</td>\n",
       "      <td>1</td>\n",
       "    </tr>\n",
       "  </tbody>\n",
       "</table>\n",
       "</div>"
      ],
      "text/plain": [
       "           pickup_datetime  pickup_longitude  pickup_latitude  \\\n",
       "0  2015-01-27 13:08:24 UTC        -73.973320        40.763805   \n",
       "1  2015-01-27 13:08:24 UTC        -73.986862        40.719383   \n",
       "2  2011-10-08 11:53:44 UTC        -73.982524        40.751260   \n",
       "3  2012-12-01 21:12:12 UTC        -73.981160        40.767807   \n",
       "4  2012-12-01 21:12:12 UTC        -73.966046        40.789775   \n",
       "\n",
       "   dropoff_longitude  dropoff_latitude  passenger_count  \n",
       "0         -73.981430         40.743835                1  \n",
       "1         -73.998886         40.739201                1  \n",
       "2         -73.979654         40.746139                1  \n",
       "3         -73.990448         40.751635                1  \n",
       "4         -73.988565         40.744427                1  "
      ]
     },
     "execution_count": 17,
     "metadata": {},
     "output_type": "execute_result"
    }
   ],
   "source": [
    "test.head()"
   ]
  },
  {
   "cell_type": "code",
   "execution_count": 18,
   "metadata": {
    "execution": {
     "iopub.execute_input": "2020-11-02T11:19:25.493319Z",
     "iopub.status.busy": "2020-11-02T11:19:25.492468Z",
     "iopub.status.idle": "2020-11-02T11:19:25.497552Z",
     "shell.execute_reply": "2020-11-02T11:19:25.496834Z"
    },
    "papermill": {
     "duration": 0.134902,
     "end_time": "2020-11-02T11:19:25.497678",
     "exception": false,
     "start_time": "2020-11-02T11:19:25.362776",
     "status": "completed"
    },
    "tags": []
   },
   "outputs": [
    {
     "data": {
      "text/plain": [
       "(16067, 7)"
      ]
     },
     "execution_count": 18,
     "metadata": {},
     "output_type": "execute_result"
    }
   ],
   "source": [
    "# Number of rows and columns in train data\n",
    "train.shape"
   ]
  },
  {
   "cell_type": "code",
   "execution_count": 19,
   "metadata": {
    "execution": {
     "iopub.execute_input": "2020-11-02T11:19:25.757056Z",
     "iopub.status.busy": "2020-11-02T11:19:25.755893Z",
     "iopub.status.idle": "2020-11-02T11:19:25.760179Z",
     "shell.execute_reply": "2020-11-02T11:19:25.760711Z"
    },
    "papermill": {
     "duration": 0.137614,
     "end_time": "2020-11-02T11:19:25.760906",
     "exception": false,
     "start_time": "2020-11-02T11:19:25.623292",
     "status": "completed"
    },
    "tags": []
   },
   "outputs": [
    {
     "data": {
      "text/plain": [
       "(9914, 6)"
      ]
     },
     "execution_count": 19,
     "metadata": {},
     "output_type": "execute_result"
    }
   ],
   "source": [
    "# Number of rows and columns in test data\n",
    "test.shape"
   ]
  },
  {
   "cell_type": "code",
   "execution_count": 20,
   "metadata": {
    "execution": {
     "iopub.execute_input": "2020-11-02T11:19:26.023312Z",
     "iopub.status.busy": "2020-11-02T11:19:26.022307Z",
     "iopub.status.idle": "2020-11-02T11:19:26.027619Z",
     "shell.execute_reply": "2020-11-02T11:19:26.026694Z"
    },
    "papermill": {
     "duration": 0.140802,
     "end_time": "2020-11-02T11:19:26.027858",
     "exception": false,
     "start_time": "2020-11-02T11:19:25.887056",
     "status": "completed"
    },
    "tags": []
   },
   "outputs": [
    {
     "data": {
      "text/plain": [
       "fare_amount           object\n",
       "pickup_datetime       object\n",
       "pickup_longitude     float64\n",
       "pickup_latitude      float64\n",
       "dropoff_longitude    float64\n",
       "dropoff_latitude     float64\n",
       "passenger_count      float64\n",
       "dtype: object"
      ]
     },
     "execution_count": 20,
     "metadata": {},
     "output_type": "execute_result"
    }
   ],
   "source": [
    "# datatype of train dataset\n",
    "train.dtypes"
   ]
  },
  {
   "cell_type": "code",
   "execution_count": 21,
   "metadata": {
    "execution": {
     "iopub.execute_input": "2020-11-02T11:19:26.291769Z",
     "iopub.status.busy": "2020-11-02T11:19:26.290587Z",
     "iopub.status.idle": "2020-11-02T11:19:26.295613Z",
     "shell.execute_reply": "2020-11-02T11:19:26.294806Z"
    },
    "papermill": {
     "duration": 0.13945,
     "end_time": "2020-11-02T11:19:26.295776",
     "exception": false,
     "start_time": "2020-11-02T11:19:26.156326",
     "status": "completed"
    },
    "tags": []
   },
   "outputs": [
    {
     "data": {
      "text/plain": [
       "pickup_datetime       object\n",
       "pickup_longitude     float64\n",
       "pickup_latitude      float64\n",
       "dropoff_longitude    float64\n",
       "dropoff_latitude     float64\n",
       "passenger_count        int64\n",
       "dtype: object"
      ]
     },
     "execution_count": 21,
     "metadata": {},
     "output_type": "execute_result"
    }
   ],
   "source": [
    "# datatype of test dataset\n",
    "test.dtypes"
   ]
  },
  {
   "cell_type": "code",
   "execution_count": 22,
   "metadata": {
    "execution": {
     "iopub.execute_input": "2020-11-02T11:19:26.560794Z",
     "iopub.status.busy": "2020-11-02T11:19:26.559809Z",
     "iopub.status.idle": "2020-11-02T11:19:26.590099Z",
     "shell.execute_reply": "2020-11-02T11:19:26.589333Z"
    },
    "papermill": {
     "duration": 0.16674,
     "end_time": "2020-11-02T11:19:26.590234",
     "exception": false,
     "start_time": "2020-11-02T11:19:26.423494",
     "status": "completed"
    },
    "tags": []
   },
   "outputs": [
    {
     "data": {
      "text/html": [
       "<div>\n",
       "<style scoped>\n",
       "    .dataframe tbody tr th:only-of-type {\n",
       "        vertical-align: middle;\n",
       "    }\n",
       "\n",
       "    .dataframe tbody tr th {\n",
       "        vertical-align: top;\n",
       "    }\n",
       "\n",
       "    .dataframe thead th {\n",
       "        text-align: right;\n",
       "    }\n",
       "</style>\n",
       "<table border=\"1\" class=\"dataframe\">\n",
       "  <thead>\n",
       "    <tr style=\"text-align: right;\">\n",
       "      <th></th>\n",
       "      <th>pickup_longitude</th>\n",
       "      <th>pickup_latitude</th>\n",
       "      <th>dropoff_longitude</th>\n",
       "      <th>dropoff_latitude</th>\n",
       "      <th>passenger_count</th>\n",
       "    </tr>\n",
       "  </thead>\n",
       "  <tbody>\n",
       "    <tr>\n",
       "      <th>count</th>\n",
       "      <td>16067.000000</td>\n",
       "      <td>16067.000000</td>\n",
       "      <td>16067.000000</td>\n",
       "      <td>16067.000000</td>\n",
       "      <td>16012.000000</td>\n",
       "    </tr>\n",
       "    <tr>\n",
       "      <th>mean</th>\n",
       "      <td>-72.462787</td>\n",
       "      <td>39.914725</td>\n",
       "      <td>-72.462328</td>\n",
       "      <td>39.897906</td>\n",
       "      <td>2.625070</td>\n",
       "    </tr>\n",
       "    <tr>\n",
       "      <th>std</th>\n",
       "      <td>10.578384</td>\n",
       "      <td>6.826587</td>\n",
       "      <td>10.575062</td>\n",
       "      <td>6.187087</td>\n",
       "      <td>60.844122</td>\n",
       "    </tr>\n",
       "    <tr>\n",
       "      <th>min</th>\n",
       "      <td>-74.438233</td>\n",
       "      <td>-74.006893</td>\n",
       "      <td>-74.429332</td>\n",
       "      <td>-74.006377</td>\n",
       "      <td>0.000000</td>\n",
       "    </tr>\n",
       "    <tr>\n",
       "      <th>25%</th>\n",
       "      <td>-73.992156</td>\n",
       "      <td>40.734927</td>\n",
       "      <td>-73.991182</td>\n",
       "      <td>40.734651</td>\n",
       "      <td>1.000000</td>\n",
       "    </tr>\n",
       "    <tr>\n",
       "      <th>50%</th>\n",
       "      <td>-73.981698</td>\n",
       "      <td>40.752603</td>\n",
       "      <td>-73.980172</td>\n",
       "      <td>40.753567</td>\n",
       "      <td>1.000000</td>\n",
       "    </tr>\n",
       "    <tr>\n",
       "      <th>75%</th>\n",
       "      <td>-73.966838</td>\n",
       "      <td>40.767381</td>\n",
       "      <td>-73.963642</td>\n",
       "      <td>40.768014</td>\n",
       "      <td>2.000000</td>\n",
       "    </tr>\n",
       "    <tr>\n",
       "      <th>max</th>\n",
       "      <td>40.766125</td>\n",
       "      <td>401.083332</td>\n",
       "      <td>40.802437</td>\n",
       "      <td>41.366138</td>\n",
       "      <td>5345.000000</td>\n",
       "    </tr>\n",
       "  </tbody>\n",
       "</table>\n",
       "</div>"
      ],
      "text/plain": [
       "       pickup_longitude  pickup_latitude  dropoff_longitude  dropoff_latitude  \\\n",
       "count      16067.000000     16067.000000       16067.000000      16067.000000   \n",
       "mean         -72.462787        39.914725         -72.462328         39.897906   \n",
       "std           10.578384         6.826587          10.575062          6.187087   \n",
       "min          -74.438233       -74.006893         -74.429332        -74.006377   \n",
       "25%          -73.992156        40.734927         -73.991182         40.734651   \n",
       "50%          -73.981698        40.752603         -73.980172         40.753567   \n",
       "75%          -73.966838        40.767381         -73.963642         40.768014   \n",
       "max           40.766125       401.083332          40.802437         41.366138   \n",
       "\n",
       "       passenger_count  \n",
       "count     16012.000000  \n",
       "mean          2.625070  \n",
       "std          60.844122  \n",
       "min           0.000000  \n",
       "25%           1.000000  \n",
       "50%           1.000000  \n",
       "75%           2.000000  \n",
       "max        5345.000000  "
      ]
     },
     "execution_count": 22,
     "metadata": {},
     "output_type": "execute_result"
    }
   ],
   "source": [
    "train.describe()"
   ]
  },
  {
   "cell_type": "code",
   "execution_count": 23,
   "metadata": {
    "execution": {
     "iopub.execute_input": "2020-11-02T11:19:26.861664Z",
     "iopub.status.busy": "2020-11-02T11:19:26.860456Z",
     "iopub.status.idle": "2020-11-02T11:19:26.890344Z",
     "shell.execute_reply": "2020-11-02T11:19:26.889480Z"
    },
    "papermill": {
     "duration": 0.168772,
     "end_time": "2020-11-02T11:19:26.890495",
     "exception": false,
     "start_time": "2020-11-02T11:19:26.721723",
     "status": "completed"
    },
    "tags": []
   },
   "outputs": [
    {
     "data": {
      "text/html": [
       "<div>\n",
       "<style scoped>\n",
       "    .dataframe tbody tr th:only-of-type {\n",
       "        vertical-align: middle;\n",
       "    }\n",
       "\n",
       "    .dataframe tbody tr th {\n",
       "        vertical-align: top;\n",
       "    }\n",
       "\n",
       "    .dataframe thead th {\n",
       "        text-align: right;\n",
       "    }\n",
       "</style>\n",
       "<table border=\"1\" class=\"dataframe\">\n",
       "  <thead>\n",
       "    <tr style=\"text-align: right;\">\n",
       "      <th></th>\n",
       "      <th>pickup_longitude</th>\n",
       "      <th>pickup_latitude</th>\n",
       "      <th>dropoff_longitude</th>\n",
       "      <th>dropoff_latitude</th>\n",
       "      <th>passenger_count</th>\n",
       "    </tr>\n",
       "  </thead>\n",
       "  <tbody>\n",
       "    <tr>\n",
       "      <th>count</th>\n",
       "      <td>9914.000000</td>\n",
       "      <td>9914.000000</td>\n",
       "      <td>9914.000000</td>\n",
       "      <td>9914.000000</td>\n",
       "      <td>9914.000000</td>\n",
       "    </tr>\n",
       "    <tr>\n",
       "      <th>mean</th>\n",
       "      <td>-73.974722</td>\n",
       "      <td>40.751041</td>\n",
       "      <td>-73.973657</td>\n",
       "      <td>40.751743</td>\n",
       "      <td>1.671273</td>\n",
       "    </tr>\n",
       "    <tr>\n",
       "      <th>std</th>\n",
       "      <td>0.042774</td>\n",
       "      <td>0.033541</td>\n",
       "      <td>0.039072</td>\n",
       "      <td>0.035435</td>\n",
       "      <td>1.278747</td>\n",
       "    </tr>\n",
       "    <tr>\n",
       "      <th>min</th>\n",
       "      <td>-74.252193</td>\n",
       "      <td>40.573143</td>\n",
       "      <td>-74.263242</td>\n",
       "      <td>40.568973</td>\n",
       "      <td>1.000000</td>\n",
       "    </tr>\n",
       "    <tr>\n",
       "      <th>25%</th>\n",
       "      <td>-73.992501</td>\n",
       "      <td>40.736125</td>\n",
       "      <td>-73.991247</td>\n",
       "      <td>40.735254</td>\n",
       "      <td>1.000000</td>\n",
       "    </tr>\n",
       "    <tr>\n",
       "      <th>50%</th>\n",
       "      <td>-73.982326</td>\n",
       "      <td>40.753051</td>\n",
       "      <td>-73.980015</td>\n",
       "      <td>40.754065</td>\n",
       "      <td>1.000000</td>\n",
       "    </tr>\n",
       "    <tr>\n",
       "      <th>75%</th>\n",
       "      <td>-73.968013</td>\n",
       "      <td>40.767113</td>\n",
       "      <td>-73.964059</td>\n",
       "      <td>40.768757</td>\n",
       "      <td>2.000000</td>\n",
       "    </tr>\n",
       "    <tr>\n",
       "      <th>max</th>\n",
       "      <td>-72.986532</td>\n",
       "      <td>41.709555</td>\n",
       "      <td>-72.990963</td>\n",
       "      <td>41.696683</td>\n",
       "      <td>6.000000</td>\n",
       "    </tr>\n",
       "  </tbody>\n",
       "</table>\n",
       "</div>"
      ],
      "text/plain": [
       "       pickup_longitude  pickup_latitude  dropoff_longitude  dropoff_latitude  \\\n",
       "count       9914.000000      9914.000000        9914.000000       9914.000000   \n",
       "mean         -73.974722        40.751041         -73.973657         40.751743   \n",
       "std            0.042774         0.033541           0.039072          0.035435   \n",
       "min          -74.252193        40.573143         -74.263242         40.568973   \n",
       "25%          -73.992501        40.736125         -73.991247         40.735254   \n",
       "50%          -73.982326        40.753051         -73.980015         40.754065   \n",
       "75%          -73.968013        40.767113         -73.964059         40.768757   \n",
       "max          -72.986532        41.709555         -72.990963         41.696683   \n",
       "\n",
       "       passenger_count  \n",
       "count      9914.000000  \n",
       "mean          1.671273  \n",
       "std           1.278747  \n",
       "min           1.000000  \n",
       "25%           1.000000  \n",
       "50%           1.000000  \n",
       "75%           2.000000  \n",
       "max           6.000000  "
      ]
     },
     "execution_count": 23,
     "metadata": {},
     "output_type": "execute_result"
    }
   ],
   "source": [
    "test.describe()"
   ]
  },
  {
   "cell_type": "markdown",
   "metadata": {
    "papermill": {
     "duration": 0.14025,
     "end_time": "2020-11-02T11:19:27.168697",
     "exception": false,
     "start_time": "2020-11-02T11:19:27.028447",
     "status": "completed"
    },
    "tags": []
   },
   "source": [
    "DATA CLEANING AND MISSING VALUE ANALYSIS"
   ]
  },
  {
   "cell_type": "code",
   "execution_count": 24,
   "metadata": {
    "execution": {
     "iopub.execute_input": "2020-11-02T11:19:27.494243Z",
     "iopub.status.busy": "2020-11-02T11:19:27.493287Z",
     "iopub.status.idle": "2020-11-02T11:19:27.496548Z",
     "shell.execute_reply": "2020-11-02T11:19:27.495809Z"
    },
    "papermill": {
     "duration": 0.197933,
     "end_time": "2020-11-02T11:19:27.496705",
     "exception": false,
     "start_time": "2020-11-02T11:19:27.298772",
     "status": "completed"
    },
    "tags": []
   },
   "outputs": [],
   "source": [
    "# Convert fare_amount from object to numeric\n",
    "# Using errors=’coerce’. It will replace all non-numeric values with NaN\n",
    "\n",
    "train[\"fare_amount\"] = pd.to_numeric(train[\"fare_amount\"],errors = \"coerce\")  "
   ]
  },
  {
   "cell_type": "code",
   "execution_count": 25,
   "metadata": {
    "execution": {
     "iopub.execute_input": "2020-11-02T11:19:27.761616Z",
     "iopub.status.busy": "2020-11-02T11:19:27.760532Z",
     "iopub.status.idle": "2020-11-02T11:19:27.764344Z",
     "shell.execute_reply": "2020-11-02T11:19:27.764976Z"
    },
    "papermill": {
     "duration": 0.140055,
     "end_time": "2020-11-02T11:19:27.765141",
     "exception": false,
     "start_time": "2020-11-02T11:19:27.625086",
     "status": "completed"
    },
    "tags": []
   },
   "outputs": [
    {
     "data": {
      "text/plain": [
       "fare_amount          float64\n",
       "pickup_datetime       object\n",
       "pickup_longitude     float64\n",
       "pickup_latitude      float64\n",
       "dropoff_longitude    float64\n",
       "dropoff_latitude     float64\n",
       "passenger_count      float64\n",
       "dtype: object"
      ]
     },
     "execution_count": 25,
     "metadata": {},
     "output_type": "execute_result"
    }
   ],
   "source": [
    "train.dtypes"
   ]
  },
  {
   "cell_type": "code",
   "execution_count": 26,
   "metadata": {
    "execution": {
     "iopub.execute_input": "2020-11-02T11:19:28.034818Z",
     "iopub.status.busy": "2020-11-02T11:19:28.033627Z",
     "iopub.status.idle": "2020-11-02T11:19:28.040604Z",
     "shell.execute_reply": "2020-11-02T11:19:28.039956Z"
    },
    "papermill": {
     "duration": 0.146153,
     "end_time": "2020-11-02T11:19:28.040767",
     "exception": false,
     "start_time": "2020-11-02T11:19:27.894614",
     "status": "completed"
    },
    "tags": []
   },
   "outputs": [
    {
     "data": {
      "text/plain": [
       "(16067, 7)"
      ]
     },
     "execution_count": 26,
     "metadata": {},
     "output_type": "execute_result"
    }
   ],
   "source": [
    "train.shape"
   ]
  },
  {
   "cell_type": "code",
   "execution_count": 27,
   "metadata": {
    "execution": {
     "iopub.execute_input": "2020-11-02T11:19:28.341698Z",
     "iopub.status.busy": "2020-11-02T11:19:28.340900Z",
     "iopub.status.idle": "2020-11-02T11:19:28.403002Z",
     "shell.execute_reply": "2020-11-02T11:19:28.402186Z"
    },
    "papermill": {
     "duration": 0.212755,
     "end_time": "2020-11-02T11:19:28.403135",
     "exception": false,
     "start_time": "2020-11-02T11:19:28.190380",
     "status": "completed"
    },
    "tags": []
   },
   "outputs": [
    {
     "data": {
      "text/html": [
       "<div>\n",
       "<style scoped>\n",
       "    .dataframe tbody tr th:only-of-type {\n",
       "        vertical-align: middle;\n",
       "    }\n",
       "\n",
       "    .dataframe tbody tr th {\n",
       "        vertical-align: top;\n",
       "    }\n",
       "\n",
       "    .dataframe thead th {\n",
       "        text-align: right;\n",
       "    }\n",
       "</style>\n",
       "<table border=\"1\" class=\"dataframe\">\n",
       "  <thead>\n",
       "    <tr style=\"text-align: right;\">\n",
       "      <th></th>\n",
       "      <th>fare_amount</th>\n",
       "      <th>pickup_datetime</th>\n",
       "      <th>pickup_longitude</th>\n",
       "      <th>pickup_latitude</th>\n",
       "      <th>dropoff_longitude</th>\n",
       "      <th>dropoff_latitude</th>\n",
       "      <th>passenger_count</th>\n",
       "    </tr>\n",
       "  </thead>\n",
       "  <tbody>\n",
       "    <tr>\n",
       "      <th>0</th>\n",
       "      <td>4.5</td>\n",
       "      <td>2009-06-15 17:26:21 UTC</td>\n",
       "      <td>-73.844311</td>\n",
       "      <td>40.721319</td>\n",
       "      <td>-73.841610</td>\n",
       "      <td>40.712278</td>\n",
       "      <td>1.0</td>\n",
       "    </tr>\n",
       "    <tr>\n",
       "      <th>1</th>\n",
       "      <td>16.9</td>\n",
       "      <td>2010-01-05 16:52:16 UTC</td>\n",
       "      <td>-74.016048</td>\n",
       "      <td>40.711303</td>\n",
       "      <td>-73.979268</td>\n",
       "      <td>40.782004</td>\n",
       "      <td>1.0</td>\n",
       "    </tr>\n",
       "    <tr>\n",
       "      <th>2</th>\n",
       "      <td>5.7</td>\n",
       "      <td>2011-08-18 00:35:00 UTC</td>\n",
       "      <td>-73.982738</td>\n",
       "      <td>40.761270</td>\n",
       "      <td>-73.991242</td>\n",
       "      <td>40.750562</td>\n",
       "      <td>2.0</td>\n",
       "    </tr>\n",
       "    <tr>\n",
       "      <th>3</th>\n",
       "      <td>7.7</td>\n",
       "      <td>2012-04-21 04:30:42 UTC</td>\n",
       "      <td>-73.987130</td>\n",
       "      <td>40.733143</td>\n",
       "      <td>-73.991567</td>\n",
       "      <td>40.758092</td>\n",
       "      <td>1.0</td>\n",
       "    </tr>\n",
       "    <tr>\n",
       "      <th>4</th>\n",
       "      <td>5.3</td>\n",
       "      <td>2010-03-09 07:51:00 UTC</td>\n",
       "      <td>-73.968095</td>\n",
       "      <td>40.768008</td>\n",
       "      <td>-73.956655</td>\n",
       "      <td>40.783762</td>\n",
       "      <td>1.0</td>\n",
       "    </tr>\n",
       "    <tr>\n",
       "      <th>...</th>\n",
       "      <td>...</td>\n",
       "      <td>...</td>\n",
       "      <td>...</td>\n",
       "      <td>...</td>\n",
       "      <td>...</td>\n",
       "      <td>...</td>\n",
       "      <td>...</td>\n",
       "    </tr>\n",
       "    <tr>\n",
       "      <th>16062</th>\n",
       "      <td>6.5</td>\n",
       "      <td>2014-12-12 07:41:00 UTC</td>\n",
       "      <td>-74.008820</td>\n",
       "      <td>40.718757</td>\n",
       "      <td>-73.998865</td>\n",
       "      <td>40.719987</td>\n",
       "      <td>1.0</td>\n",
       "    </tr>\n",
       "    <tr>\n",
       "      <th>16063</th>\n",
       "      <td>16.1</td>\n",
       "      <td>2009-07-13 07:58:00 UTC</td>\n",
       "      <td>-73.981310</td>\n",
       "      <td>40.781695</td>\n",
       "      <td>-74.014392</td>\n",
       "      <td>40.715527</td>\n",
       "      <td>2.0</td>\n",
       "    </tr>\n",
       "    <tr>\n",
       "      <th>16064</th>\n",
       "      <td>8.5</td>\n",
       "      <td>2009-11-11 11:19:07 UTC</td>\n",
       "      <td>-73.972507</td>\n",
       "      <td>40.753417</td>\n",
       "      <td>-73.979577</td>\n",
       "      <td>40.765495</td>\n",
       "      <td>1.0</td>\n",
       "    </tr>\n",
       "    <tr>\n",
       "      <th>16065</th>\n",
       "      <td>8.1</td>\n",
       "      <td>2010-05-11 23:53:00 UTC</td>\n",
       "      <td>-73.957027</td>\n",
       "      <td>40.765945</td>\n",
       "      <td>-73.981983</td>\n",
       "      <td>40.779560</td>\n",
       "      <td>1.0</td>\n",
       "    </tr>\n",
       "    <tr>\n",
       "      <th>16066</th>\n",
       "      <td>8.5</td>\n",
       "      <td>2011-12-14 06:24:33 UTC</td>\n",
       "      <td>-74.002111</td>\n",
       "      <td>40.729755</td>\n",
       "      <td>-73.983877</td>\n",
       "      <td>40.761975</td>\n",
       "      <td>NaN</td>\n",
       "    </tr>\n",
       "  </tbody>\n",
       "</table>\n",
       "<p>16066 rows × 7 columns</p>\n",
       "</div>"
      ],
      "text/plain": [
       "       fare_amount          pickup_datetime  pickup_longitude  \\\n",
       "0              4.5  2009-06-15 17:26:21 UTC        -73.844311   \n",
       "1             16.9  2010-01-05 16:52:16 UTC        -74.016048   \n",
       "2              5.7  2011-08-18 00:35:00 UTC        -73.982738   \n",
       "3              7.7  2012-04-21 04:30:42 UTC        -73.987130   \n",
       "4              5.3  2010-03-09 07:51:00 UTC        -73.968095   \n",
       "...            ...                      ...               ...   \n",
       "16062          6.5  2014-12-12 07:41:00 UTC        -74.008820   \n",
       "16063         16.1  2009-07-13 07:58:00 UTC        -73.981310   \n",
       "16064          8.5  2009-11-11 11:19:07 UTC        -73.972507   \n",
       "16065          8.1  2010-05-11 23:53:00 UTC        -73.957027   \n",
       "16066          8.5  2011-12-14 06:24:33 UTC        -74.002111   \n",
       "\n",
       "       pickup_latitude  dropoff_longitude  dropoff_latitude  passenger_count  \n",
       "0            40.721319         -73.841610         40.712278              1.0  \n",
       "1            40.711303         -73.979268         40.782004              1.0  \n",
       "2            40.761270         -73.991242         40.750562              2.0  \n",
       "3            40.733143         -73.991567         40.758092              1.0  \n",
       "4            40.768008         -73.956655         40.783762              1.0  \n",
       "...                ...                ...               ...              ...  \n",
       "16062        40.718757         -73.998865         40.719987              1.0  \n",
       "16063        40.781695         -74.014392         40.715527              2.0  \n",
       "16064        40.753417         -73.979577         40.765495              1.0  \n",
       "16065        40.765945         -73.981983         40.779560              1.0  \n",
       "16066        40.729755         -73.983877         40.761975              NaN  \n",
       "\n",
       "[16066 rows x 7 columns]"
      ]
     },
     "execution_count": 27,
     "metadata": {},
     "output_type": "execute_result"
    }
   ],
   "source": [
    "# Dropping NA values in datetime column\n",
    "\n",
    "train.dropna(subset=[\"pickup_datetime\"])"
   ]
  },
  {
   "cell_type": "code",
   "execution_count": 28,
   "metadata": {
    "execution": {
     "iopub.execute_input": "2020-11-02T11:19:28.788580Z",
     "iopub.status.busy": "2020-11-02T11:19:28.787709Z",
     "iopub.status.idle": "2020-11-02T11:19:28.791327Z",
     "shell.execute_reply": "2020-11-02T11:19:28.790563Z"
    },
    "papermill": {
     "duration": 0.256224,
     "end_time": "2020-11-02T11:19:28.791460",
     "exception": false,
     "start_time": "2020-11-02T11:19:28.535236",
     "status": "completed"
    },
    "tags": []
   },
   "outputs": [],
   "source": [
    "# Here pickup_datetime variable is in object so we need to change its data type to datetime\n",
    "\n",
    "train['pickup_datetime'] =  pd.to_datetime(train['pickup_datetime'], format='%Y-%m-%d %H:%M:%S UTC')"
   ]
  },
  {
   "cell_type": "code",
   "execution_count": 29,
   "metadata": {
    "execution": {
     "iopub.execute_input": "2020-11-02T11:19:29.063043Z",
     "iopub.status.busy": "2020-11-02T11:19:29.061975Z",
     "iopub.status.idle": "2020-11-02T11:19:29.083625Z",
     "shell.execute_reply": "2020-11-02T11:19:29.083005Z"
    },
    "papermill": {
     "duration": 0.161091,
     "end_time": "2020-11-02T11:19:29.083776",
     "exception": false,
     "start_time": "2020-11-02T11:19:28.922685",
     "status": "completed"
    },
    "tags": []
   },
   "outputs": [],
   "source": [
    "# We will saperate the Pickup_datetime column into separate field like year,month,day of the week\n",
    "\n",
    "train['Year'] = train['pickup_datetime'].dt.year\n",
    "train['Month'] = train['pickup_datetime'].dt.month\n",
    "train['Date'] = train['pickup_datetime'].dt.day\n",
    "train['Day'] = train['pickup_datetime'].dt.dayofweek\n",
    "train['Hour'] = train['pickup_datetime'].dt.hour\n",
    "train['Minute'] = train['pickup_datetime'].dt.minute"
   ]
  },
  {
   "cell_type": "code",
   "execution_count": 30,
   "metadata": {
    "execution": {
     "iopub.execute_input": "2020-11-02T11:19:29.356448Z",
     "iopub.status.busy": "2020-11-02T11:19:29.355385Z",
     "iopub.status.idle": "2020-11-02T11:19:29.360223Z",
     "shell.execute_reply": "2020-11-02T11:19:29.359486Z"
    },
    "papermill": {
     "duration": 0.142585,
     "end_time": "2020-11-02T11:19:29.360361",
     "exception": false,
     "start_time": "2020-11-02T11:19:29.217776",
     "status": "completed"
    },
    "tags": []
   },
   "outputs": [
    {
     "data": {
      "text/plain": [
       "fare_amount                 float64\n",
       "pickup_datetime      datetime64[ns]\n",
       "pickup_longitude            float64\n",
       "pickup_latitude             float64\n",
       "dropoff_longitude           float64\n",
       "dropoff_latitude            float64\n",
       "passenger_count             float64\n",
       "Year                        float64\n",
       "Month                       float64\n",
       "Date                        float64\n",
       "Day                         float64\n",
       "Hour                        float64\n",
       "Minute                      float64\n",
       "dtype: object"
      ]
     },
     "execution_count": 30,
     "metadata": {},
     "output_type": "execute_result"
    }
   ],
   "source": [
    "# Rechecking data types after conversion\n",
    "train.dtypes"
   ]
  },
  {
   "cell_type": "code",
   "execution_count": 31,
   "metadata": {
    "execution": {
     "iopub.execute_input": "2020-11-02T11:19:29.633008Z",
     "iopub.status.busy": "2020-11-02T11:19:29.632201Z",
     "iopub.status.idle": "2020-11-02T11:19:29.651471Z",
     "shell.execute_reply": "2020-11-02T11:19:29.650809Z"
    },
    "papermill": {
     "duration": 0.158983,
     "end_time": "2020-11-02T11:19:29.651608",
     "exception": false,
     "start_time": "2020-11-02T11:19:29.492625",
     "status": "completed"
    },
    "tags": []
   },
   "outputs": [],
   "source": [
    "test[\"pickup_datetime\"]=pd.to_datetime(test[\"pickup_datetime\"],format=\"%Y-%m-%d %H:%M:%S UTC\")"
   ]
  },
  {
   "cell_type": "code",
   "execution_count": 32,
   "metadata": {
    "execution": {
     "iopub.execute_input": "2020-11-02T11:19:29.922844Z",
     "iopub.status.busy": "2020-11-02T11:19:29.922053Z",
     "iopub.status.idle": "2020-11-02T11:19:29.938157Z",
     "shell.execute_reply": "2020-11-02T11:19:29.937493Z"
    },
    "papermill": {
     "duration": 0.155266,
     "end_time": "2020-11-02T11:19:29.938292",
     "exception": false,
     "start_time": "2020-11-02T11:19:29.783026",
     "status": "completed"
    },
    "tags": []
   },
   "outputs": [],
   "source": [
    "# We will saperate the Pickup_datetime column into separate field like year, month, day of the week\n",
    "\n",
    "test['Year']=test['pickup_datetime'].dt.year\n",
    "test['Month']=test['pickup_datetime'].dt.month\n",
    "test['Date']=test['pickup_datetime'].dt.day\n",
    "test['Day']=test['pickup_datetime'].dt.dayofweek\n",
    "test['Hour']=test['pickup_datetime'].dt.hour\n",
    "test['Minute']=test['pickup_datetime'].dt.minute\n"
   ]
  },
  {
   "cell_type": "code",
   "execution_count": 33,
   "metadata": {
    "execution": {
     "iopub.execute_input": "2020-11-02T11:19:30.215237Z",
     "iopub.status.busy": "2020-11-02T11:19:30.214326Z",
     "iopub.status.idle": "2020-11-02T11:19:30.219041Z",
     "shell.execute_reply": "2020-11-02T11:19:30.218255Z"
    },
    "papermill": {
     "duration": 0.147884,
     "end_time": "2020-11-02T11:19:30.219172",
     "exception": false,
     "start_time": "2020-11-02T11:19:30.071288",
     "status": "completed"
    },
    "tags": []
   },
   "outputs": [
    {
     "data": {
      "text/plain": [
       "pickup_datetime      datetime64[ns]\n",
       "pickup_longitude            float64\n",
       "pickup_latitude             float64\n",
       "dropoff_longitude           float64\n",
       "dropoff_latitude            float64\n",
       "passenger_count               int64\n",
       "Year                          int32\n",
       "Month                         int32\n",
       "Date                          int32\n",
       "Day                           int32\n",
       "Hour                          int32\n",
       "Minute                        int32\n",
       "dtype: object"
      ]
     },
     "execution_count": 33,
     "metadata": {},
     "output_type": "execute_result"
    }
   ],
   "source": [
    "# Re-checking test datatypes after conversion\n",
    "test.dtypes"
   ]
  },
  {
   "cell_type": "markdown",
   "metadata": {
    "papermill": {
     "duration": 0.130994,
     "end_time": "2020-11-02T11:19:30.481841",
     "exception": false,
     "start_time": "2020-11-02T11:19:30.350847",
     "status": "completed"
    },
    "tags": []
   },
   "source": [
    "OBSERVATIONS\n",
    "* An outlier in pickup_datetime column of value 43\n",
    "* Latitudes range from -90 to 90\n",
    "* Longitudes range from -180 to 180\n",
    "* Passenger count should not exceed 6\n",
    "* Few missing values and High values of fare and Passenger count are present. So, decided to remove them.\n"
   ]
  },
  {
   "cell_type": "markdown",
   "metadata": {
    "papermill": {
     "duration": 0.132658,
     "end_time": "2020-11-02T11:19:30.745651",
     "exception": false,
     "start_time": "2020-11-02T11:19:30.612993",
     "status": "completed"
    },
    "tags": []
   },
   "source": [
    "*pickup_datetime variable*"
   ]
  },
  {
   "cell_type": "code",
   "execution_count": 34,
   "metadata": {
    "execution": {
     "iopub.execute_input": "2020-11-02T11:19:31.017645Z",
     "iopub.status.busy": "2020-11-02T11:19:31.016768Z",
     "iopub.status.idle": "2020-11-02T11:19:31.027622Z",
     "shell.execute_reply": "2020-11-02T11:19:31.026838Z"
    },
    "papermill": {
     "duration": 0.150637,
     "end_time": "2020-11-02T11:19:31.027773",
     "exception": false,
     "start_time": "2020-11-02T11:19:30.877136",
     "status": "completed"
    },
    "tags": []
   },
   "outputs": [
    {
     "name": "stdout",
     "output_type": "stream",
     "text": [
      "(16066, 13)\n",
      "0\n"
     ]
    }
   ],
   "source": [
    "# Removing pickup_datetime missing values rows\n",
    "\n",
    "train = train.drop(train[train['pickup_datetime'].isnull()].index, axis=0)\n",
    "print(train.shape)\n",
    "print(train['pickup_datetime'].isnull().sum())"
   ]
  },
  {
   "cell_type": "code",
   "execution_count": 35,
   "metadata": {
    "execution": {
     "iopub.execute_input": "2020-11-02T11:19:31.304709Z",
     "iopub.status.busy": "2020-11-02T11:19:31.303921Z",
     "iopub.status.idle": "2020-11-02T11:19:31.314216Z",
     "shell.execute_reply": "2020-11-02T11:19:31.313340Z"
    },
    "papermill": {
     "duration": 0.152389,
     "end_time": "2020-11-02T11:19:31.314359",
     "exception": false,
     "start_time": "2020-11-02T11:19:31.161970",
     "status": "completed"
    },
    "tags": []
   },
   "outputs": [
    {
     "data": {
      "text/plain": [
       "count    16011.000000\n",
       "mean         2.625171\n",
       "std         60.846021\n",
       "min          0.000000\n",
       "25%          1.000000\n",
       "50%          1.000000\n",
       "75%          2.000000\n",
       "max       5345.000000\n",
       "Name: passenger_count, dtype: float64"
      ]
     },
     "execution_count": 35,
     "metadata": {},
     "output_type": "execute_result"
    }
   ],
   "source": [
    "# Checking passenger count variable\n",
    "\n",
    "train['passenger_count'].describe()"
   ]
  },
  {
   "cell_type": "markdown",
   "metadata": {
    "papermill": {
     "duration": 0.132805,
     "end_time": "2020-11-02T11:19:31.580650",
     "exception": false,
     "start_time": "2020-11-02T11:19:31.447845",
     "status": "completed"
    },
    "tags": []
   },
   "source": [
    "observation\n",
    "\n",
    "* We can see maximum number of passanger count is 5345 which is actually not possible. \n",
    "So,reducing the passenger count to 6 (even if we consider the SUV.\n",
    "* We also need to remove passenger count having 0 value"
   ]
  },
  {
   "cell_type": "markdown",
   "metadata": {
    "papermill": {
     "duration": 0.132979,
     "end_time": "2020-11-02T11:19:31.846840",
     "exception": false,
     "start_time": "2020-11-02T11:19:31.713861",
     "status": "completed"
    },
    "tags": []
   },
   "source": [
    "*passenger_count variable*"
   ]
  },
  {
   "cell_type": "code",
   "execution_count": 36,
   "metadata": {
    "execution": {
     "iopub.execute_input": "2020-11-02T11:19:32.123911Z",
     "iopub.status.busy": "2020-11-02T11:19:32.123076Z",
     "iopub.status.idle": "2020-11-02T11:19:32.130492Z",
     "shell.execute_reply": "2020-11-02T11:19:32.129729Z"
    },
    "papermill": {
     "duration": 0.149314,
     "end_time": "2020-11-02T11:19:32.130622",
     "exception": false,
     "start_time": "2020-11-02T11:19:31.981308",
     "status": "completed"
    },
    "tags": []
   },
   "outputs": [],
   "source": [
    "# Removing the passanger count having count>6\n",
    "\n",
    "train = train.drop(train[train[\"passenger_count\"]> 6 ].index, axis=0)"
   ]
  },
  {
   "cell_type": "code",
   "execution_count": 37,
   "metadata": {
    "execution": {
     "iopub.execute_input": "2020-11-02T11:19:32.407293Z",
     "iopub.status.busy": "2020-11-02T11:19:32.406383Z",
     "iopub.status.idle": "2020-11-02T11:19:32.412070Z",
     "shell.execute_reply": "2020-11-02T11:19:32.411291Z"
    },
    "papermill": {
     "duration": 0.146269,
     "end_time": "2020-11-02T11:19:32.412204",
     "exception": false,
     "start_time": "2020-11-02T11:19:32.265935",
     "status": "completed"
    },
    "tags": []
   },
   "outputs": [],
   "source": [
    "# Removing the values with passenger count of 0\n",
    "train = train.drop(train[train[\"passenger_count\"] == 0 ].index, axis=0)"
   ]
  },
  {
   "cell_type": "code",
   "execution_count": 38,
   "metadata": {
    "execution": {
     "iopub.execute_input": "2020-11-02T11:19:32.685839Z",
     "iopub.status.busy": "2020-11-02T11:19:32.685081Z",
     "iopub.status.idle": "2020-11-02T11:19:32.694323Z",
     "shell.execute_reply": "2020-11-02T11:19:32.693599Z"
    },
    "papermill": {
     "duration": 0.148548,
     "end_time": "2020-11-02T11:19:32.694445",
     "exception": false,
     "start_time": "2020-11-02T11:19:32.545897",
     "status": "completed"
    },
    "tags": []
   },
   "outputs": [
    {
     "data": {
      "text/plain": [
       "count    15934.000000\n",
       "mean         1.649581\n",
       "std          1.265943\n",
       "min          0.120000\n",
       "25%          1.000000\n",
       "50%          1.000000\n",
       "75%          2.000000\n",
       "max          6.000000\n",
       "Name: passenger_count, dtype: float64"
      ]
     },
     "execution_count": 38,
     "metadata": {},
     "output_type": "execute_result"
    }
   ],
   "source": [
    "train[\"passenger_count\"].describe()"
   ]
  },
  {
   "cell_type": "code",
   "execution_count": 39,
   "metadata": {
    "execution": {
     "iopub.execute_input": "2020-11-02T11:19:32.969375Z",
     "iopub.status.busy": "2020-11-02T11:19:32.968270Z",
     "iopub.status.idle": "2020-11-02T11:19:32.977338Z",
     "shell.execute_reply": "2020-11-02T11:19:32.976753Z"
    },
    "papermill": {
     "duration": 0.148754,
     "end_time": "2020-11-02T11:19:32.977462",
     "exception": false,
     "start_time": "2020-11-02T11:19:32.828708",
     "status": "completed"
    },
    "tags": []
   },
   "outputs": [
    {
     "data": {
      "text/plain": [
       "8862     0.12\n",
       "16048    1.00\n",
       "22       1.00\n",
       "21       1.00\n",
       "20       1.00\n",
       "         ... \n",
       "8076      NaN\n",
       "8139      NaN\n",
       "8259      NaN\n",
       "8306      NaN\n",
       "16066     NaN\n",
       "Name: passenger_count, Length: 15989, dtype: float64"
      ]
     },
     "execution_count": 39,
     "metadata": {},
     "output_type": "execute_result"
    }
   ],
   "source": [
    "train[\"passenger_count\"].sort_values(ascending=True)"
   ]
  },
  {
   "cell_type": "code",
   "execution_count": 40,
   "metadata": {
    "execution": {
     "iopub.execute_input": "2020-11-02T11:19:33.266501Z",
     "iopub.status.busy": "2020-11-02T11:19:33.265555Z",
     "iopub.status.idle": "2020-11-02T11:19:33.277525Z",
     "shell.execute_reply": "2020-11-02T11:19:33.276394Z"
    },
    "papermill": {
     "duration": 0.164709,
     "end_time": "2020-11-02T11:19:33.277774",
     "exception": false,
     "start_time": "2020-11-02T11:19:33.113065",
     "status": "completed"
    },
    "tags": []
   },
   "outputs": [
    {
     "name": "stdout",
     "output_type": "stream",
     "text": [
      "(15934, 13)\n",
      "0\n"
     ]
    }
   ],
   "source": [
    "# Removing passanger_count missing values rows\n",
    "\n",
    "train = train.drop(train[train['passenger_count'].isnull()].index, axis=0)\n",
    "print(train.shape)\n",
    "print(train['passenger_count'].isnull().sum())"
   ]
  },
  {
   "cell_type": "code",
   "execution_count": 41,
   "metadata": {
    "execution": {
     "iopub.execute_input": "2020-11-02T11:19:33.575620Z",
     "iopub.status.busy": "2020-11-02T11:19:33.574429Z",
     "iopub.status.idle": "2020-11-02T11:19:33.581704Z",
     "shell.execute_reply": "2020-11-02T11:19:33.582403Z"
    },
    "papermill": {
     "duration": 0.149461,
     "end_time": "2020-11-02T11:19:33.582577",
     "exception": false,
     "start_time": "2020-11-02T11:19:33.433116",
     "status": "completed"
    },
    "tags": []
   },
   "outputs": [],
   "source": [
    "# There is one passenger count value of 0.12 which is not possible. \n",
    "# Hence we will remove fractional passenger value\n",
    "train=train.drop(train[train['passenger_count']==0.12].index, axis=0)"
   ]
  },
  {
   "cell_type": "code",
   "execution_count": 42,
   "metadata": {
    "execution": {
     "iopub.execute_input": "2020-11-02T11:19:33.861724Z",
     "iopub.status.busy": "2020-11-02T11:19:33.860592Z",
     "iopub.status.idle": "2020-11-02T11:19:33.864798Z",
     "shell.execute_reply": "2020-11-02T11:19:33.864195Z"
    },
    "papermill": {
     "duration": 0.14503,
     "end_time": "2020-11-02T11:19:33.864931",
     "exception": false,
     "start_time": "2020-11-02T11:19:33.719901",
     "status": "completed"
    },
    "tags": []
   },
   "outputs": [
    {
     "data": {
      "text/plain": [
       "(15933, 13)"
      ]
     },
     "execution_count": 42,
     "metadata": {},
     "output_type": "execute_result"
    }
   ],
   "source": [
    "train.shape"
   ]
  },
  {
   "cell_type": "markdown",
   "metadata": {
    "papermill": {
     "duration": 0.136919,
     "end_time": "2020-11-02T11:19:34.139335",
     "exception": false,
     "start_time": "2020-11-02T11:19:34.002416",
     "status": "completed"
    },
    "tags": []
   },
   "source": [
    "*fare_amount variable*"
   ]
  },
  {
   "cell_type": "code",
   "execution_count": 43,
   "metadata": {
    "execution": {
     "iopub.execute_input": "2020-11-02T11:19:34.419411Z",
     "iopub.status.busy": "2020-11-02T11:19:34.418250Z",
     "iopub.status.idle": "2020-11-02T11:19:34.427717Z",
     "shell.execute_reply": "2020-11-02T11:19:34.427005Z"
    },
    "papermill": {
     "duration": 0.151222,
     "end_time": "2020-11-02T11:19:34.427864",
     "exception": false,
     "start_time": "2020-11-02T11:19:34.276642",
     "status": "completed"
    },
    "tags": []
   },
   "outputs": [
    {
     "data": {
      "text/plain": [
       "1015    54343.0\n",
       "1072     4343.0\n",
       "607       453.0\n",
       "980       434.0\n",
       "1335      180.0\n",
       "         ...   \n",
       "1712        NaN\n",
       "2412        NaN\n",
       "2458        NaN\n",
       "8178        NaN\n",
       "8226        NaN\n",
       "Name: fare_amount, Length: 15933, dtype: float64"
      ]
     },
     "execution_count": 43,
     "metadata": {},
     "output_type": "execute_result"
    }
   ],
   "source": [
    "# Finding decending order of fare_amount to get to know whether the outliers are present or not\n",
    "train[\"fare_amount\"].sort_values(ascending=False)"
   ]
  },
  {
   "cell_type": "code",
   "execution_count": 44,
   "metadata": {
    "execution": {
     "iopub.execute_input": "2020-11-02T11:19:34.712686Z",
     "iopub.status.busy": "2020-11-02T11:19:34.711786Z",
     "iopub.status.idle": "2020-11-02T11:19:34.717090Z",
     "shell.execute_reply": "2020-11-02T11:19:34.716456Z"
    },
    "papermill": {
     "duration": 0.152138,
     "end_time": "2020-11-02T11:19:34.717225",
     "exception": false,
     "start_time": "2020-11-02T11:19:34.565087",
     "status": "completed"
    },
    "tags": []
   },
   "outputs": [
    {
     "data": {
      "text/plain": [
       "Counter({False: 15930, True: 3})"
      ]
     },
     "execution_count": 44,
     "metadata": {},
     "output_type": "execute_result"
    }
   ],
   "source": [
    "# Fare amount has a negative value, which doesn't make sense. \n",
    "Counter(train[\"fare_amount\"]<0)"
   ]
  },
  {
   "cell_type": "code",
   "execution_count": 45,
   "metadata": {
    "execution": {
     "iopub.execute_input": "2020-11-02T11:19:35.000372Z",
     "iopub.status.busy": "2020-11-02T11:19:34.999398Z",
     "iopub.status.idle": "2020-11-02T11:19:35.007332Z",
     "shell.execute_reply": "2020-11-02T11:19:35.008941Z"
    },
    "papermill": {
     "duration": 0.154539,
     "end_time": "2020-11-02T11:19:35.009384",
     "exception": false,
     "start_time": "2020-11-02T11:19:34.854845",
     "status": "completed"
    },
    "tags": []
   },
   "outputs": [
    {
     "name": "stdout",
     "output_type": "stream",
     "text": [
      "(15930, 13)\n"
     ]
    }
   ],
   "source": [
    "# Remove those fields which has -ve values\n",
    "train=train.drop(train[train['fare_amount']<0].index, axis=0)\n",
    "print(train.shape)"
   ]
  },
  {
   "cell_type": "code",
   "execution_count": 46,
   "metadata": {
    "execution": {
     "iopub.execute_input": "2020-11-02T11:19:35.296071Z",
     "iopub.status.busy": "2020-11-02T11:19:35.295205Z",
     "iopub.status.idle": "2020-11-02T11:19:35.299593Z",
     "shell.execute_reply": "2020-11-02T11:19:35.298811Z"
    },
    "papermill": {
     "duration": 0.148807,
     "end_time": "2020-11-02T11:19:35.299718",
     "exception": false,
     "start_time": "2020-11-02T11:19:35.150911",
     "status": "completed"
    },
    "tags": []
   },
   "outputs": [
    {
     "data": {
      "text/plain": [
       "np.float64(0.0)"
      ]
     },
     "execution_count": 46,
     "metadata": {},
     "output_type": "execute_result"
    }
   ],
   "source": [
    "# Make sure there is no negative values in the fare_amount variable column\n",
    "train[\"fare_amount\"].min()"
   ]
  },
  {
   "cell_type": "code",
   "execution_count": 47,
   "metadata": {
    "execution": {
     "iopub.execute_input": "2020-11-02T11:19:35.585331Z",
     "iopub.status.busy": "2020-11-02T11:19:35.584156Z",
     "iopub.status.idle": "2020-11-02T11:19:35.591442Z",
     "shell.execute_reply": "2020-11-02T11:19:35.590694Z"
    },
    "papermill": {
     "duration": 0.153433,
     "end_time": "2020-11-02T11:19:35.591563",
     "exception": false,
     "start_time": "2020-11-02T11:19:35.438130",
     "status": "completed"
    },
    "tags": []
   },
   "outputs": [
    {
     "data": {
      "text/plain": [
       "(15928, 13)"
      ]
     },
     "execution_count": 47,
     "metadata": {},
     "output_type": "execute_result"
    }
   ],
   "source": [
    "# Remove the row where fare amount is zero\n",
    "train=train.drop(train[train['fare_amount']<1].index,axis=0)\n",
    "train.shape"
   ]
  },
  {
   "cell_type": "code",
   "execution_count": 48,
   "metadata": {
    "execution": {
     "iopub.execute_input": "2020-11-02T11:19:35.875864Z",
     "iopub.status.busy": "2020-11-02T11:19:35.874659Z",
     "iopub.status.idle": "2020-11-02T11:19:35.883628Z",
     "shell.execute_reply": "2020-11-02T11:19:35.883053Z"
    },
    "papermill": {
     "duration": 0.153166,
     "end_time": "2020-11-02T11:19:35.883770",
     "exception": false,
     "start_time": "2020-11-02T11:19:35.730604",
     "status": "completed"
    },
    "tags": []
   },
   "outputs": [
    {
     "data": {
      "text/plain": [
       "1015    54343.0\n",
       "1072     4343.0\n",
       "607       453.0\n",
       "980       434.0\n",
       "1335      180.0\n",
       "         ...   \n",
       "1712        NaN\n",
       "2412        NaN\n",
       "2458        NaN\n",
       "8178        NaN\n",
       "8226        NaN\n",
       "Name: fare_amount, Length: 15928, dtype: float64"
      ]
     },
     "execution_count": 48,
     "metadata": {},
     "output_type": "execute_result"
    }
   ],
   "source": [
    "# fare_amount variable in descending order\n",
    "\n",
    "train['fare_amount'].sort_values(ascending=False)"
   ]
  },
  {
   "cell_type": "code",
   "execution_count": 49,
   "metadata": {
    "execution": {
     "iopub.execute_input": "2020-11-02T11:19:36.173561Z",
     "iopub.status.busy": "2020-11-02T11:19:36.172682Z",
     "iopub.status.idle": "2020-11-02T11:19:36.180844Z",
     "shell.execute_reply": "2020-11-02T11:19:36.180117Z"
    },
    "papermill": {
     "duration": 0.156993,
     "end_time": "2020-11-02T11:19:36.180987",
     "exception": false,
     "start_time": "2020-11-02T11:19:36.023994",
     "status": "completed"
    },
    "tags": []
   },
   "outputs": [
    {
     "data": {
      "text/plain": [
       "(15904, 13)"
      ]
     },
     "execution_count": 49,
     "metadata": {},
     "output_type": "execute_result"
    }
   ],
   "source": [
    "# Removing the missing value rows\n",
    "\n",
    "train=train.drop(train[train[\"fare_amount\"].isnull()].index, axis=0)\n",
    "train.shape"
   ]
  },
  {
   "cell_type": "code",
   "execution_count": 50,
   "metadata": {
    "execution": {
     "iopub.execute_input": "2020-11-02T11:19:36.475414Z",
     "iopub.status.busy": "2020-11-02T11:19:36.474230Z",
     "iopub.status.idle": "2020-11-02T11:19:36.482120Z",
     "shell.execute_reply": "2020-11-02T11:19:36.481399Z"
    },
    "papermill": {
     "duration": 0.156316,
     "end_time": "2020-11-02T11:19:36.482245",
     "exception": false,
     "start_time": "2020-11-02T11:19:36.325929",
     "status": "completed"
    },
    "tags": []
   },
   "outputs": [
    {
     "data": {
      "text/plain": [
       "(15902, 13)"
      ]
     },
     "execution_count": 50,
     "metadata": {},
     "output_type": "execute_result"
    }
   ],
   "source": [
    "# Removing the outlier 54343 and 4343 which are far greater than 453\n",
    "\n",
    "train=train.drop(train[train[\"fare_amount\"]>453].index, axis=0)\n",
    "train.shape\n"
   ]
  },
  {
   "cell_type": "code",
   "execution_count": 51,
   "metadata": {
    "execution": {
     "iopub.execute_input": "2020-11-02T11:19:36.773257Z",
     "iopub.status.busy": "2020-11-02T11:19:36.772038Z",
     "iopub.status.idle": "2020-11-02T11:19:36.781643Z",
     "shell.execute_reply": "2020-11-02T11:19:36.781045Z"
    },
    "papermill": {
     "duration": 0.156209,
     "end_time": "2020-11-02T11:19:36.781804",
     "exception": false,
     "start_time": "2020-11-02T11:19:36.625595",
     "status": "completed"
    },
    "tags": []
   },
   "outputs": [
    {
     "data": {
      "text/plain": [
       "607     453.00\n",
       "980     434.00\n",
       "1335    180.00\n",
       "1483    165.00\n",
       "6630    128.83\n",
       "         ...  \n",
       "4367      2.50\n",
       "6297      2.50\n",
       "3558      2.50\n",
       "6226      2.50\n",
       "1427      1.14\n",
       "Name: fare_amount, Length: 15902, dtype: float64"
      ]
     },
     "execution_count": 51,
     "metadata": {},
     "output_type": "execute_result"
    }
   ],
   "source": [
    "# fare_amount variable in descending order\n",
    "\n",
    "train['fare_amount'].sort_values(ascending=False)"
   ]
  },
  {
   "cell_type": "code",
   "execution_count": 52,
   "metadata": {
    "execution": {
     "iopub.execute_input": "2020-11-02T11:19:37.073824Z",
     "iopub.status.busy": "2020-11-02T11:19:37.073045Z",
     "iopub.status.idle": "2020-11-02T11:19:37.082568Z",
     "shell.execute_reply": "2020-11-02T11:19:37.081827Z"
    },
    "papermill": {
     "duration": 0.158199,
     "end_time": "2020-11-02T11:19:37.082698",
     "exception": false,
     "start_time": "2020-11-02T11:19:36.924499",
     "status": "completed"
    },
    "tags": []
   },
   "outputs": [
    {
     "data": {
      "text/plain": [
       "count    15902.000000\n",
       "mean        11.376356\n",
       "std         10.814908\n",
       "min          1.140000\n",
       "25%          6.000000\n",
       "50%          8.500000\n",
       "75%         12.500000\n",
       "max        453.000000\n",
       "Name: fare_amount, dtype: float64"
      ]
     },
     "execution_count": 52,
     "metadata": {},
     "output_type": "execute_result"
    }
   ],
   "source": [
    "train['fare_amount'].describe()"
   ]
  },
  {
   "cell_type": "markdown",
   "metadata": {
    "papermill": {
     "duration": 0.14245,
     "end_time": "2020-11-02T11:19:37.368836",
     "exception": false,
     "start_time": "2020-11-02T11:19:37.226386",
     "status": "completed"
    },
    "tags": []
   },
   "source": [
    "pickup_latitude and pickup_longitude variable"
   ]
  },
  {
   "cell_type": "code",
   "execution_count": 53,
   "metadata": {
    "execution": {
     "iopub.execute_input": "2020-11-02T11:19:37.660156Z",
     "iopub.status.busy": "2020-11-02T11:19:37.659332Z",
     "iopub.status.idle": "2020-11-02T11:19:37.677601Z",
     "shell.execute_reply": "2020-11-02T11:19:37.678271Z"
    },
    "papermill": {
     "duration": 0.167962,
     "end_time": "2020-11-02T11:19:37.678432",
     "exception": false,
     "start_time": "2020-11-02T11:19:37.510470",
     "status": "completed"
    },
    "tags": []
   },
   "outputs": [
    {
     "data": {
      "text/html": [
       "<div>\n",
       "<style scoped>\n",
       "    .dataframe tbody tr th:only-of-type {\n",
       "        vertical-align: middle;\n",
       "    }\n",
       "\n",
       "    .dataframe tbody tr th {\n",
       "        vertical-align: top;\n",
       "    }\n",
       "\n",
       "    .dataframe thead th {\n",
       "        text-align: right;\n",
       "    }\n",
       "</style>\n",
       "<table border=\"1\" class=\"dataframe\">\n",
       "  <thead>\n",
       "    <tr style=\"text-align: right;\">\n",
       "      <th></th>\n",
       "      <th>fare_amount</th>\n",
       "      <th>pickup_datetime</th>\n",
       "      <th>pickup_longitude</th>\n",
       "      <th>pickup_latitude</th>\n",
       "      <th>dropoff_longitude</th>\n",
       "      <th>dropoff_latitude</th>\n",
       "      <th>passenger_count</th>\n",
       "      <th>Year</th>\n",
       "      <th>Month</th>\n",
       "      <th>Date</th>\n",
       "      <th>Day</th>\n",
       "      <th>Hour</th>\n",
       "      <th>Minute</th>\n",
       "    </tr>\n",
       "  </thead>\n",
       "  <tbody>\n",
       "    <tr>\n",
       "      <th>5686</th>\n",
       "      <td>3.3</td>\n",
       "      <td>2011-07-30 11:15:00</td>\n",
       "      <td>-73.947235</td>\n",
       "      <td>401.083332</td>\n",
       "      <td>-73.951392</td>\n",
       "      <td>40.778927</td>\n",
       "      <td>1.0</td>\n",
       "      <td>2011.0</td>\n",
       "      <td>7.0</td>\n",
       "      <td>30.0</td>\n",
       "      <td>5.0</td>\n",
       "      <td>11.0</td>\n",
       "      <td>15.0</td>\n",
       "    </tr>\n",
       "  </tbody>\n",
       "</table>\n",
       "</div>"
      ],
      "text/plain": [
       "      fare_amount     pickup_datetime  pickup_longitude  pickup_latitude  \\\n",
       "5686          3.3 2011-07-30 11:15:00        -73.947235       401.083332   \n",
       "\n",
       "      dropoff_longitude  dropoff_latitude  passenger_count    Year  Month  \\\n",
       "5686         -73.951392         40.778927              1.0  2011.0    7.0   \n",
       "\n",
       "      Date  Day  Hour  Minute  \n",
       "5686  30.0  5.0  11.0    15.0  "
      ]
     },
     "execution_count": 53,
     "metadata": {},
     "output_type": "execute_result"
    }
   ],
   "source": [
    "# Lattitude----> (-90 to 90)\n",
    "# Longitude----> (-180 to 180)\n",
    "\n",
    "# We need to drop the rows having  pickup_lattitude and pickup_longitude out of the above mentioned range\n",
    "\n",
    "train[train['pickup_latitude']<-90]\n",
    "train[train['pickup_latitude']>90]\n"
   ]
  },
  {
   "cell_type": "code",
   "execution_count": 54,
   "metadata": {
    "execution": {
     "iopub.execute_input": "2020-11-02T11:19:37.973232Z",
     "iopub.status.busy": "2020-11-02T11:19:37.972121Z",
     "iopub.status.idle": "2020-11-02T11:19:37.983458Z",
     "shell.execute_reply": "2020-11-02T11:19:37.982824Z"
    },
    "papermill": {
     "duration": 0.161937,
     "end_time": "2020-11-02T11:19:37.983589",
     "exception": false,
     "start_time": "2020-11-02T11:19:37.821652",
     "status": "completed"
    },
    "tags": []
   },
   "outputs": [],
   "source": [
    "# Dropping one row having the value >90\n",
    "train = train.drop((train[train['pickup_latitude']<-90]).index, axis=0)\n",
    "train = train.drop((train[train['pickup_latitude']>90]).index, axis=0)"
   ]
  },
  {
   "cell_type": "code",
   "execution_count": 55,
   "metadata": {
    "execution": {
     "iopub.execute_input": "2020-11-02T11:19:38.278193Z",
     "iopub.status.busy": "2020-11-02T11:19:38.277103Z",
     "iopub.status.idle": "2020-11-02T11:19:38.286371Z",
     "shell.execute_reply": "2020-11-02T11:19:38.286916Z"
    },
    "papermill": {
     "duration": 0.160011,
     "end_time": "2020-11-02T11:19:38.287091",
     "exception": false,
     "start_time": "2020-11-02T11:19:38.127080",
     "status": "completed"
    },
    "tags": []
   },
   "outputs": [
    {
     "data": {
      "text/plain": [
       "4487     41.366138\n",
       "9808     41.366138\n",
       "14367    41.366138\n",
       "3075     41.366138\n",
       "1684     41.366138\n",
       "           ...    \n",
       "3827    -73.988467\n",
       "4783    -73.991840\n",
       "9548    -73.992947\n",
       "10091   -74.006210\n",
       "8443    -74.006893\n",
       "Name: pickup_latitude, Length: 15901, dtype: float64"
      ]
     },
     "execution_count": 55,
     "metadata": {},
     "output_type": "execute_result"
    }
   ],
   "source": [
    "train['pickup_latitude'].sort_values(ascending=False)"
   ]
  },
  {
   "cell_type": "code",
   "execution_count": 56,
   "metadata": {
    "execution": {
     "iopub.execute_input": "2020-11-02T11:19:38.589952Z",
     "iopub.status.busy": "2020-11-02T11:19:38.588765Z",
     "iopub.status.idle": "2020-11-02T11:19:38.593290Z",
     "shell.execute_reply": "2020-11-02T11:19:38.592551Z"
    },
    "papermill": {
     "duration": 0.162536,
     "end_time": "2020-11-02T11:19:38.593411",
     "exception": false,
     "start_time": "2020-11-02T11:19:38.430875",
     "status": "completed"
    },
    "tags": []
   },
   "outputs": [
    {
     "data": {
      "text/html": [
       "<div>\n",
       "<style scoped>\n",
       "    .dataframe tbody tr th:only-of-type {\n",
       "        vertical-align: middle;\n",
       "    }\n",
       "\n",
       "    .dataframe tbody tr th {\n",
       "        vertical-align: top;\n",
       "    }\n",
       "\n",
       "    .dataframe thead th {\n",
       "        text-align: right;\n",
       "    }\n",
       "</style>\n",
       "<table border=\"1\" class=\"dataframe\">\n",
       "  <thead>\n",
       "    <tr style=\"text-align: right;\">\n",
       "      <th></th>\n",
       "      <th>fare_amount</th>\n",
       "      <th>pickup_datetime</th>\n",
       "      <th>pickup_longitude</th>\n",
       "      <th>pickup_latitude</th>\n",
       "      <th>dropoff_longitude</th>\n",
       "      <th>dropoff_latitude</th>\n",
       "      <th>passenger_count</th>\n",
       "      <th>Year</th>\n",
       "      <th>Month</th>\n",
       "      <th>Date</th>\n",
       "      <th>Day</th>\n",
       "      <th>Hour</th>\n",
       "      <th>Minute</th>\n",
       "    </tr>\n",
       "  </thead>\n",
       "  <tbody>\n",
       "  </tbody>\n",
       "</table>\n",
       "</div>"
      ],
      "text/plain": [
       "Empty DataFrame\n",
       "Columns: [fare_amount, pickup_datetime, pickup_longitude, pickup_latitude, dropoff_longitude, dropoff_latitude, passenger_count, Year, Month, Date, Day, Hour, Minute]\n",
       "Index: []"
      ]
     },
     "execution_count": 56,
     "metadata": {},
     "output_type": "execute_result"
    }
   ],
   "source": [
    "train[train['pickup_longitude']<-180]\n",
    "train[train['pickup_longitude']>180]"
   ]
  },
  {
   "cell_type": "markdown",
   "metadata": {
    "papermill": {
     "duration": 0.143625,
     "end_time": "2020-11-02T11:19:38.882131",
     "exception": false,
     "start_time": "2020-11-02T11:19:38.738506",
     "status": "completed"
    },
    "tags": []
   },
   "source": [
    "No values are there in that range."
   ]
  },
  {
   "cell_type": "code",
   "execution_count": 57,
   "metadata": {
    "execution": {
     "iopub.execute_input": "2020-11-02T11:19:39.176161Z",
     "iopub.status.busy": "2020-11-02T11:19:39.175345Z",
     "iopub.status.idle": "2020-11-02T11:19:39.180428Z",
     "shell.execute_reply": "2020-11-02T11:19:39.179600Z"
    },
    "papermill": {
     "duration": 0.155125,
     "end_time": "2020-11-02T11:19:39.180567",
     "exception": false,
     "start_time": "2020-11-02T11:19:39.025442",
     "status": "completed"
    },
    "tags": []
   },
   "outputs": [
    {
     "data": {
      "text/plain": [
       "(15901, 13)"
      ]
     },
     "execution_count": 57,
     "metadata": {},
     "output_type": "execute_result"
    }
   ],
   "source": [
    "train.shape"
   ]
  },
  {
   "cell_type": "code",
   "execution_count": 58,
   "metadata": {
    "execution": {
     "iopub.execute_input": "2020-11-02T11:19:39.479549Z",
     "iopub.status.busy": "2020-11-02T11:19:39.478675Z",
     "iopub.status.idle": "2020-11-02T11:19:39.486414Z",
     "shell.execute_reply": "2020-11-02T11:19:39.485594Z"
    },
    "papermill": {
     "duration": 0.158448,
     "end_time": "2020-11-02T11:19:39.486543",
     "exception": false,
     "start_time": "2020-11-02T11:19:39.328095",
     "status": "completed"
    },
    "tags": []
   },
   "outputs": [
    {
     "data": {
      "text/plain": [
       "fare_amount          0\n",
       "pickup_datetime      0\n",
       "pickup_longitude     0\n",
       "pickup_latitude      0\n",
       "dropoff_longitude    0\n",
       "dropoff_latitude     0\n",
       "passenger_count      0\n",
       "Year                 0\n",
       "Month                0\n",
       "Date                 0\n",
       "Day                  0\n",
       "Hour                 0\n",
       "Minute               0\n",
       "dtype: int64"
      ]
     },
     "execution_count": 58,
     "metadata": {},
     "output_type": "execute_result"
    }
   ],
   "source": [
    "train.isnull().sum()"
   ]
  },
  {
   "cell_type": "code",
   "execution_count": 59,
   "metadata": {
    "execution": {
     "iopub.execute_input": "2020-11-02T11:19:39.788034Z",
     "iopub.status.busy": "2020-11-02T11:19:39.787259Z",
     "iopub.status.idle": "2020-11-02T11:19:39.795251Z",
     "shell.execute_reply": "2020-11-02T11:19:39.794593Z"
    },
    "papermill": {
     "duration": 0.160086,
     "end_time": "2020-11-02T11:19:39.795388",
     "exception": false,
     "start_time": "2020-11-02T11:19:39.635302",
     "status": "completed"
    },
    "tags": []
   },
   "outputs": [
    {
     "data": {
      "text/plain": [
       "pickup_datetime      0\n",
       "pickup_longitude     0\n",
       "pickup_latitude      0\n",
       "dropoff_longitude    0\n",
       "dropoff_latitude     0\n",
       "passenger_count      0\n",
       "Year                 0\n",
       "Month                0\n",
       "Date                 0\n",
       "Day                  0\n",
       "Hour                 0\n",
       "Minute               0\n",
       "dtype: int64"
      ]
     },
     "execution_count": 59,
     "metadata": {},
     "output_type": "execute_result"
    }
   ],
   "source": [
    "test.isnull().sum()"
   ]
  },
  {
   "cell_type": "markdown",
   "metadata": {
    "papermill": {
     "duration": 0.146444,
     "end_time": "2020-11-02T11:19:40.088133",
     "exception": false,
     "start_time": "2020-11-02T11:19:39.941689",
     "status": "completed"
    },
    "tags": []
   },
   "source": [
    "Now, we cleared both the dataset (train and test) which can be further used for data analysis."
   ]
  },
  {
   "cell_type": "markdown",
   "metadata": {
    "papermill": {
     "duration": 0.147872,
     "end_time": "2020-11-02T11:19:40.386500",
     "exception": false,
     "start_time": "2020-11-02T11:19:40.238628",
     "status": "completed"
    },
    "tags": []
   },
   "source": [
    "**Calculating distance based on the given coordinates**"
   ]
  },
  {
   "cell_type": "code",
   "execution_count": 60,
   "metadata": {
    "execution": {
     "iopub.execute_input": "2020-11-02T11:19:40.691428Z",
     "iopub.status.busy": "2020-11-02T11:19:40.690389Z",
     "iopub.status.idle": "2020-11-02T11:19:40.692802Z",
     "shell.execute_reply": "2020-11-02T11:19:40.693416Z"
    },
    "papermill": {
     "duration": 0.16057,
     "end_time": "2020-11-02T11:19:40.693576",
     "exception": false,
     "start_time": "2020-11-02T11:19:40.533006",
     "status": "completed"
    },
    "tags": []
   },
   "outputs": [],
   "source": [
    "# As we have given pickup_longitute and pickup_latitude values.So,we need to calculate the distance using the haversine formula.\n",
    "# Haversine formula(the great circle distance between two points on the earth (specified in decimal degrees))\n",
    "\n",
    "from math import radians, cos, sin, asin, sqrt\n",
    "def haversine(a):\n",
    "    lon1=a[0]\n",
    "    lat1=a[1]\n",
    "    lon2=a[2]\n",
    "    lat2=a[3]\n",
    "    \n",
    "    # Convert decimal degrees to radians \n",
    "    lon1, lat1, lon2, lat2 = map(radians, [lon1, lat1, lon2, lat2])\n",
    "\n",
    "    # haversine formula \n",
    "    dlon = lon2 - lon1 \n",
    "    dlat = lat2 - lat1 \n",
    "    a = sin(dlat/2)**2 + cos(lat1) * cos(lat2) * sin(dlon/2)**2\n",
    "    c =  2 * asin(sqrt(a))\n",
    "\n",
    "    # Radius of earth in kilometers is 6371\n",
    "    km = 6371* c\n",
    "    return km\n",
    "    "
   ]
  },
  {
   "cell_type": "code",
   "execution_count": 61,
   "metadata": {
    "execution": {
     "iopub.execute_input": "2020-11-02T11:19:40.995783Z",
     "iopub.status.busy": "2020-11-02T11:19:40.994610Z",
     "iopub.status.idle": "2020-11-02T11:19:41.516148Z",
     "shell.execute_reply": "2020-11-02T11:19:41.515345Z"
    },
    "papermill": {
     "duration": 0.676081,
     "end_time": "2020-11-02T11:19:41.516286",
     "exception": false,
     "start_time": "2020-11-02T11:19:40.840205",
     "status": "completed"
    },
    "tags": []
   },
   "outputs": [
    {
     "name": "stderr",
     "output_type": "stream",
     "text": [
      "C:\\Users\\DELL\\AppData\\Local\\Temp\\ipykernel_18232\\1163865252.py:6: FutureWarning: Series.__getitem__ treating keys as positions is deprecated. In a future version, integer keys will always be treated as labels (consistent with DataFrame behavior). To access a value by position, use `ser.iloc[pos]`\n",
      "  lon1=a[0]\n",
      "C:\\Users\\DELL\\AppData\\Local\\Temp\\ipykernel_18232\\1163865252.py:7: FutureWarning: Series.__getitem__ treating keys as positions is deprecated. In a future version, integer keys will always be treated as labels (consistent with DataFrame behavior). To access a value by position, use `ser.iloc[pos]`\n",
      "  lat1=a[1]\n",
      "C:\\Users\\DELL\\AppData\\Local\\Temp\\ipykernel_18232\\1163865252.py:8: FutureWarning: Series.__getitem__ treating keys as positions is deprecated. In a future version, integer keys will always be treated as labels (consistent with DataFrame behavior). To access a value by position, use `ser.iloc[pos]`\n",
      "  lon2=a[2]\n",
      "C:\\Users\\DELL\\AppData\\Local\\Temp\\ipykernel_18232\\1163865252.py:9: FutureWarning: Series.__getitem__ treating keys as positions is deprecated. In a future version, integer keys will always be treated as labels (consistent with DataFrame behavior). To access a value by position, use `ser.iloc[pos]`\n",
      "  lat2=a[3]\n"
     ]
    }
   ],
   "source": [
    "train['distance'] = train[['pickup_longitude','pickup_latitude','dropoff_longitude','dropoff_latitude']].apply(haversine,axis=1)"
   ]
  },
  {
   "cell_type": "code",
   "execution_count": 62,
   "metadata": {
    "execution": {
     "iopub.execute_input": "2020-11-02T11:19:41.818889Z",
     "iopub.status.busy": "2020-11-02T11:19:41.818103Z",
     "iopub.status.idle": "2020-11-02T11:19:42.095251Z",
     "shell.execute_reply": "2020-11-02T11:19:42.095885Z"
    },
    "papermill": {
     "duration": 0.431626,
     "end_time": "2020-11-02T11:19:42.096105",
     "exception": false,
     "start_time": "2020-11-02T11:19:41.664479",
     "status": "completed"
    },
    "tags": []
   },
   "outputs": [
    {
     "name": "stderr",
     "output_type": "stream",
     "text": [
      "C:\\Users\\DELL\\AppData\\Local\\Temp\\ipykernel_18232\\1163865252.py:6: FutureWarning: Series.__getitem__ treating keys as positions is deprecated. In a future version, integer keys will always be treated as labels (consistent with DataFrame behavior). To access a value by position, use `ser.iloc[pos]`\n",
      "  lon1=a[0]\n",
      "C:\\Users\\DELL\\AppData\\Local\\Temp\\ipykernel_18232\\1163865252.py:7: FutureWarning: Series.__getitem__ treating keys as positions is deprecated. In a future version, integer keys will always be treated as labels (consistent with DataFrame behavior). To access a value by position, use `ser.iloc[pos]`\n",
      "  lat1=a[1]\n",
      "C:\\Users\\DELL\\AppData\\Local\\Temp\\ipykernel_18232\\1163865252.py:8: FutureWarning: Series.__getitem__ treating keys as positions is deprecated. In a future version, integer keys will always be treated as labels (consistent with DataFrame behavior). To access a value by position, use `ser.iloc[pos]`\n",
      "  lon2=a[2]\n",
      "C:\\Users\\DELL\\AppData\\Local\\Temp\\ipykernel_18232\\1163865252.py:9: FutureWarning: Series.__getitem__ treating keys as positions is deprecated. In a future version, integer keys will always be treated as labels (consistent with DataFrame behavior). To access a value by position, use `ser.iloc[pos]`\n",
      "  lat2=a[3]\n"
     ]
    }
   ],
   "source": [
    "test['distance'] = test[['pickup_longitude','pickup_latitude','dropoff_longitude','dropoff_latitude']].apply(haversine,axis=1)"
   ]
  },
  {
   "cell_type": "code",
   "execution_count": 63,
   "metadata": {
    "execution": {
     "iopub.execute_input": "2020-11-02T11:19:42.418390Z",
     "iopub.status.busy": "2020-11-02T11:19:42.414766Z",
     "iopub.status.idle": "2020-11-02T11:19:42.424223Z",
     "shell.execute_reply": "2020-11-02T11:19:42.423374Z"
    },
    "papermill": {
     "duration": 0.179444,
     "end_time": "2020-11-02T11:19:42.424352",
     "exception": false,
     "start_time": "2020-11-02T11:19:42.244908",
     "status": "completed"
    },
    "tags": []
   },
   "outputs": [
    {
     "data": {
      "text/html": [
       "<div>\n",
       "<style scoped>\n",
       "    .dataframe tbody tr th:only-of-type {\n",
       "        vertical-align: middle;\n",
       "    }\n",
       "\n",
       "    .dataframe tbody tr th {\n",
       "        vertical-align: top;\n",
       "    }\n",
       "\n",
       "    .dataframe thead th {\n",
       "        text-align: right;\n",
       "    }\n",
       "</style>\n",
       "<table border=\"1\" class=\"dataframe\">\n",
       "  <thead>\n",
       "    <tr style=\"text-align: right;\">\n",
       "      <th></th>\n",
       "      <th>fare_amount</th>\n",
       "      <th>pickup_datetime</th>\n",
       "      <th>pickup_longitude</th>\n",
       "      <th>pickup_latitude</th>\n",
       "      <th>dropoff_longitude</th>\n",
       "      <th>dropoff_latitude</th>\n",
       "      <th>passenger_count</th>\n",
       "      <th>Year</th>\n",
       "      <th>Month</th>\n",
       "      <th>Date</th>\n",
       "      <th>Day</th>\n",
       "      <th>Hour</th>\n",
       "      <th>Minute</th>\n",
       "      <th>distance</th>\n",
       "    </tr>\n",
       "  </thead>\n",
       "  <tbody>\n",
       "    <tr>\n",
       "      <th>0</th>\n",
       "      <td>4.5</td>\n",
       "      <td>2009-06-15 17:26:21</td>\n",
       "      <td>-73.844311</td>\n",
       "      <td>40.721319</td>\n",
       "      <td>-73.841610</td>\n",
       "      <td>40.712278</td>\n",
       "      <td>1.0</td>\n",
       "      <td>2009.0</td>\n",
       "      <td>6.0</td>\n",
       "      <td>15.0</td>\n",
       "      <td>0.0</td>\n",
       "      <td>17.0</td>\n",
       "      <td>26.0</td>\n",
       "      <td>1.030764</td>\n",
       "    </tr>\n",
       "    <tr>\n",
       "      <th>1</th>\n",
       "      <td>16.9</td>\n",
       "      <td>2010-01-05 16:52:16</td>\n",
       "      <td>-74.016048</td>\n",
       "      <td>40.711303</td>\n",
       "      <td>-73.979268</td>\n",
       "      <td>40.782004</td>\n",
       "      <td>1.0</td>\n",
       "      <td>2010.0</td>\n",
       "      <td>1.0</td>\n",
       "      <td>5.0</td>\n",
       "      <td>1.0</td>\n",
       "      <td>16.0</td>\n",
       "      <td>52.0</td>\n",
       "      <td>8.450134</td>\n",
       "    </tr>\n",
       "    <tr>\n",
       "      <th>2</th>\n",
       "      <td>5.7</td>\n",
       "      <td>2011-08-18 00:35:00</td>\n",
       "      <td>-73.982738</td>\n",
       "      <td>40.761270</td>\n",
       "      <td>-73.991242</td>\n",
       "      <td>40.750562</td>\n",
       "      <td>2.0</td>\n",
       "      <td>2011.0</td>\n",
       "      <td>8.0</td>\n",
       "      <td>18.0</td>\n",
       "      <td>3.0</td>\n",
       "      <td>0.0</td>\n",
       "      <td>35.0</td>\n",
       "      <td>1.389525</td>\n",
       "    </tr>\n",
       "    <tr>\n",
       "      <th>3</th>\n",
       "      <td>7.7</td>\n",
       "      <td>2012-04-21 04:30:42</td>\n",
       "      <td>-73.987130</td>\n",
       "      <td>40.733143</td>\n",
       "      <td>-73.991567</td>\n",
       "      <td>40.758092</td>\n",
       "      <td>1.0</td>\n",
       "      <td>2012.0</td>\n",
       "      <td>4.0</td>\n",
       "      <td>21.0</td>\n",
       "      <td>5.0</td>\n",
       "      <td>4.0</td>\n",
       "      <td>30.0</td>\n",
       "      <td>2.799270</td>\n",
       "    </tr>\n",
       "    <tr>\n",
       "      <th>4</th>\n",
       "      <td>5.3</td>\n",
       "      <td>2010-03-09 07:51:00</td>\n",
       "      <td>-73.968095</td>\n",
       "      <td>40.768008</td>\n",
       "      <td>-73.956655</td>\n",
       "      <td>40.783762</td>\n",
       "      <td>1.0</td>\n",
       "      <td>2010.0</td>\n",
       "      <td>3.0</td>\n",
       "      <td>9.0</td>\n",
       "      <td>1.0</td>\n",
       "      <td>7.0</td>\n",
       "      <td>51.0</td>\n",
       "      <td>1.999157</td>\n",
       "    </tr>\n",
       "  </tbody>\n",
       "</table>\n",
       "</div>"
      ],
      "text/plain": [
       "   fare_amount     pickup_datetime  pickup_longitude  pickup_latitude  \\\n",
       "0          4.5 2009-06-15 17:26:21        -73.844311        40.721319   \n",
       "1         16.9 2010-01-05 16:52:16        -74.016048        40.711303   \n",
       "2          5.7 2011-08-18 00:35:00        -73.982738        40.761270   \n",
       "3          7.7 2012-04-21 04:30:42        -73.987130        40.733143   \n",
       "4          5.3 2010-03-09 07:51:00        -73.968095        40.768008   \n",
       "\n",
       "   dropoff_longitude  dropoff_latitude  passenger_count    Year  Month  Date  \\\n",
       "0         -73.841610         40.712278              1.0  2009.0    6.0  15.0   \n",
       "1         -73.979268         40.782004              1.0  2010.0    1.0   5.0   \n",
       "2         -73.991242         40.750562              2.0  2011.0    8.0  18.0   \n",
       "3         -73.991567         40.758092              1.0  2012.0    4.0  21.0   \n",
       "4         -73.956655         40.783762              1.0  2010.0    3.0   9.0   \n",
       "\n",
       "   Day  Hour  Minute  distance  \n",
       "0  0.0  17.0    26.0  1.030764  \n",
       "1  1.0  16.0    52.0  8.450134  \n",
       "2  3.0   0.0    35.0  1.389525  \n",
       "3  5.0   4.0    30.0  2.799270  \n",
       "4  1.0   7.0    51.0  1.999157  "
      ]
     },
     "execution_count": 63,
     "metadata": {},
     "output_type": "execute_result"
    }
   ],
   "source": [
    "train.head()"
   ]
  },
  {
   "cell_type": "code",
   "execution_count": 64,
   "metadata": {
    "execution": {
     "iopub.execute_input": "2020-11-02T11:19:42.745433Z",
     "iopub.status.busy": "2020-11-02T11:19:42.744535Z",
     "iopub.status.idle": "2020-11-02T11:19:42.750395Z",
     "shell.execute_reply": "2020-11-02T11:19:42.749649Z"
    },
    "papermill": {
     "duration": 0.172809,
     "end_time": "2020-11-02T11:19:42.750527",
     "exception": false,
     "start_time": "2020-11-02T11:19:42.577718",
     "status": "completed"
    },
    "tags": []
   },
   "outputs": [
    {
     "data": {
      "text/html": [
       "<div>\n",
       "<style scoped>\n",
       "    .dataframe tbody tr th:only-of-type {\n",
       "        vertical-align: middle;\n",
       "    }\n",
       "\n",
       "    .dataframe tbody tr th {\n",
       "        vertical-align: top;\n",
       "    }\n",
       "\n",
       "    .dataframe thead th {\n",
       "        text-align: right;\n",
       "    }\n",
       "</style>\n",
       "<table border=\"1\" class=\"dataframe\">\n",
       "  <thead>\n",
       "    <tr style=\"text-align: right;\">\n",
       "      <th></th>\n",
       "      <th>pickup_datetime</th>\n",
       "      <th>pickup_longitude</th>\n",
       "      <th>pickup_latitude</th>\n",
       "      <th>dropoff_longitude</th>\n",
       "      <th>dropoff_latitude</th>\n",
       "      <th>passenger_count</th>\n",
       "      <th>Year</th>\n",
       "      <th>Month</th>\n",
       "      <th>Date</th>\n",
       "      <th>Day</th>\n",
       "      <th>Hour</th>\n",
       "      <th>Minute</th>\n",
       "      <th>distance</th>\n",
       "    </tr>\n",
       "  </thead>\n",
       "  <tbody>\n",
       "    <tr>\n",
       "      <th>0</th>\n",
       "      <td>2015-01-27 13:08:24</td>\n",
       "      <td>-73.973320</td>\n",
       "      <td>40.763805</td>\n",
       "      <td>-73.981430</td>\n",
       "      <td>40.743835</td>\n",
       "      <td>1</td>\n",
       "      <td>2015</td>\n",
       "      <td>1</td>\n",
       "      <td>27</td>\n",
       "      <td>1</td>\n",
       "      <td>13</td>\n",
       "      <td>8</td>\n",
       "      <td>2.323259</td>\n",
       "    </tr>\n",
       "    <tr>\n",
       "      <th>1</th>\n",
       "      <td>2015-01-27 13:08:24</td>\n",
       "      <td>-73.986862</td>\n",
       "      <td>40.719383</td>\n",
       "      <td>-73.998886</td>\n",
       "      <td>40.739201</td>\n",
       "      <td>1</td>\n",
       "      <td>2015</td>\n",
       "      <td>1</td>\n",
       "      <td>27</td>\n",
       "      <td>1</td>\n",
       "      <td>13</td>\n",
       "      <td>8</td>\n",
       "      <td>2.425353</td>\n",
       "    </tr>\n",
       "    <tr>\n",
       "      <th>2</th>\n",
       "      <td>2011-10-08 11:53:44</td>\n",
       "      <td>-73.982524</td>\n",
       "      <td>40.751260</td>\n",
       "      <td>-73.979654</td>\n",
       "      <td>40.746139</td>\n",
       "      <td>1</td>\n",
       "      <td>2011</td>\n",
       "      <td>10</td>\n",
       "      <td>8</td>\n",
       "      <td>5</td>\n",
       "      <td>11</td>\n",
       "      <td>53</td>\n",
       "      <td>0.618628</td>\n",
       "    </tr>\n",
       "    <tr>\n",
       "      <th>3</th>\n",
       "      <td>2012-12-01 21:12:12</td>\n",
       "      <td>-73.981160</td>\n",
       "      <td>40.767807</td>\n",
       "      <td>-73.990448</td>\n",
       "      <td>40.751635</td>\n",
       "      <td>1</td>\n",
       "      <td>2012</td>\n",
       "      <td>12</td>\n",
       "      <td>1</td>\n",
       "      <td>5</td>\n",
       "      <td>21</td>\n",
       "      <td>12</td>\n",
       "      <td>1.961033</td>\n",
       "    </tr>\n",
       "    <tr>\n",
       "      <th>4</th>\n",
       "      <td>2012-12-01 21:12:12</td>\n",
       "      <td>-73.966046</td>\n",
       "      <td>40.789775</td>\n",
       "      <td>-73.988565</td>\n",
       "      <td>40.744427</td>\n",
       "      <td>1</td>\n",
       "      <td>2012</td>\n",
       "      <td>12</td>\n",
       "      <td>1</td>\n",
       "      <td>5</td>\n",
       "      <td>21</td>\n",
       "      <td>12</td>\n",
       "      <td>5.387301</td>\n",
       "    </tr>\n",
       "  </tbody>\n",
       "</table>\n",
       "</div>"
      ],
      "text/plain": [
       "      pickup_datetime  pickup_longitude  pickup_latitude  dropoff_longitude  \\\n",
       "0 2015-01-27 13:08:24        -73.973320        40.763805         -73.981430   \n",
       "1 2015-01-27 13:08:24        -73.986862        40.719383         -73.998886   \n",
       "2 2011-10-08 11:53:44        -73.982524        40.751260         -73.979654   \n",
       "3 2012-12-01 21:12:12        -73.981160        40.767807         -73.990448   \n",
       "4 2012-12-01 21:12:12        -73.966046        40.789775         -73.988565   \n",
       "\n",
       "   dropoff_latitude  passenger_count  Year  Month  Date  Day  Hour  Minute  \\\n",
       "0         40.743835                1  2015      1    27    1    13       8   \n",
       "1         40.739201                1  2015      1    27    1    13       8   \n",
       "2         40.746139                1  2011     10     8    5    11      53   \n",
       "3         40.751635                1  2012     12     1    5    21      12   \n",
       "4         40.744427                1  2012     12     1    5    21      12   \n",
       "\n",
       "   distance  \n",
       "0  2.323259  \n",
       "1  2.425353  \n",
       "2  0.618628  \n",
       "3  1.961033  \n",
       "4  5.387301  "
      ]
     },
     "execution_count": 64,
     "metadata": {},
     "output_type": "execute_result"
    }
   ],
   "source": [
    "test.head()"
   ]
  },
  {
   "cell_type": "code",
   "execution_count": 65,
   "metadata": {
    "execution": {
     "iopub.execute_input": "2020-11-02T11:19:43.054707Z",
     "iopub.status.busy": "2020-11-02T11:19:43.053501Z",
     "iopub.status.idle": "2020-11-02T11:19:43.074056Z",
     "shell.execute_reply": "2020-11-02T11:19:43.073277Z"
    },
    "papermill": {
     "duration": 0.175437,
     "end_time": "2020-11-02T11:19:43.074214",
     "exception": false,
     "start_time": "2020-11-02T11:19:42.898777",
     "status": "completed"
    },
    "tags": []
   },
   "outputs": [
    {
     "data": {
      "text/plain": [
       "fare_amount            459\n",
       "pickup_datetime      15856\n",
       "pickup_longitude     13672\n",
       "pickup_latitude      14110\n",
       "dropoff_longitude    13763\n",
       "dropoff_latitude     14136\n",
       "passenger_count          7\n",
       "Year                     7\n",
       "Month                   12\n",
       "Date                    31\n",
       "Day                      7\n",
       "Hour                    24\n",
       "Minute                  60\n",
       "distance             15448\n",
       "dtype: int64"
      ]
     },
     "execution_count": 65,
     "metadata": {},
     "output_type": "execute_result"
    }
   ],
   "source": [
    "train.nunique()"
   ]
  },
  {
   "cell_type": "code",
   "execution_count": 66,
   "metadata": {
    "execution": {
     "iopub.execute_input": "2020-11-02T11:19:43.384150Z",
     "iopub.status.busy": "2020-11-02T11:19:43.382999Z",
     "iopub.status.idle": "2020-11-02T11:19:43.395378Z",
     "shell.execute_reply": "2020-11-02T11:19:43.394755Z"
    },
    "papermill": {
     "duration": 0.168579,
     "end_time": "2020-11-02T11:19:43.395507",
     "exception": false,
     "start_time": "2020-11-02T11:19:43.226928",
     "status": "completed"
    },
    "tags": []
   },
   "outputs": [
    {
     "data": {
      "text/plain": [
       "pickup_datetime      1753\n",
       "pickup_longitude     9124\n",
       "pickup_latitude      9246\n",
       "dropoff_longitude    9141\n",
       "dropoff_latitude     9360\n",
       "passenger_count         6\n",
       "Year                    7\n",
       "Month                  12\n",
       "Date                   31\n",
       "Day                     7\n",
       "Hour                   24\n",
       "Minute                 60\n",
       "distance             9830\n",
       "dtype: int64"
      ]
     },
     "execution_count": 66,
     "metadata": {},
     "output_type": "execute_result"
    }
   ],
   "source": [
    "test.nunique()"
   ]
  },
  {
   "cell_type": "code",
   "execution_count": 67,
   "metadata": {
    "execution": {
     "iopub.execute_input": "2020-11-02T11:19:43.704061Z",
     "iopub.status.busy": "2020-11-02T11:19:43.703265Z",
     "iopub.status.idle": "2020-11-02T11:19:43.712675Z",
     "shell.execute_reply": "2020-11-02T11:19:43.712040Z"
    },
    "papermill": {
     "duration": 0.166569,
     "end_time": "2020-11-02T11:19:43.712815",
     "exception": false,
     "start_time": "2020-11-02T11:19:43.546246",
     "status": "completed"
    },
    "tags": []
   },
   "outputs": [
    {
     "data": {
      "text/plain": [
       "9147     8667.542104\n",
       "8647     8667.497512\n",
       "2397     8667.454421\n",
       "472      8667.304968\n",
       "11653    8666.701504\n",
       "            ...     \n",
       "4954        0.000000\n",
       "8629        0.000000\n",
       "8645        0.000000\n",
       "11218       0.000000\n",
       "14485       0.000000\n",
       "Name: distance, Length: 15901, dtype: float64"
      ]
     },
     "execution_count": 67,
     "metadata": {},
     "output_type": "execute_result"
    }
   ],
   "source": [
    "# Finding decending order of distance to get to know whether the outliers are presented or not.\n",
    "\n",
    "train['distance'].sort_values(ascending=False)"
   ]
  },
  {
   "cell_type": "markdown",
   "metadata": {
    "papermill": {
     "duration": 0.151836,
     "end_time": "2020-11-02T11:19:44.016256",
     "exception": false,
     "start_time": "2020-11-02T11:19:43.864420",
     "status": "completed"
    },
    "tags": []
   },
   "source": [
    "OBSERVATIONS\n",
    "\n",
    "* As we can see that top 23 values in the distance variables are very high.\n",
    "* It means more than 8000 Kms distance they have travelled.\n",
    "* Just after 23rd value from the top, the distance goes down to 129, which means these values are showing some   outliers.\n",
    "* We need to remove these values.\n"
   ]
  },
  {
   "cell_type": "code",
   "execution_count": 68,
   "metadata": {
    "execution": {
     "iopub.execute_input": "2020-11-02T11:19:44.351473Z",
     "iopub.status.busy": "2020-11-02T11:19:44.350328Z",
     "iopub.status.idle": "2020-11-02T11:19:44.355218Z",
     "shell.execute_reply": "2020-11-02T11:19:44.354605Z"
    },
    "papermill": {
     "duration": 0.186405,
     "end_time": "2020-11-02T11:19:44.355353",
     "exception": false,
     "start_time": "2020-11-02T11:19:44.168948",
     "status": "completed"
    },
    "tags": []
   },
   "outputs": [
    {
     "data": {
      "text/plain": [
       "Counter({False: 15447, True: 454})"
      ]
     },
     "execution_count": 68,
     "metadata": {},
     "output_type": "execute_result"
    }
   ],
   "source": [
    "Counter(train['distance'] == 0)"
   ]
  },
  {
   "cell_type": "code",
   "execution_count": 69,
   "metadata": {
    "execution": {
     "iopub.execute_input": "2020-11-02T11:19:44.672053Z",
     "iopub.status.busy": "2020-11-02T11:19:44.670659Z",
     "iopub.status.idle": "2020-11-02T11:19:44.676763Z",
     "shell.execute_reply": "2020-11-02T11:19:44.676112Z"
    },
    "papermill": {
     "duration": 0.169912,
     "end_time": "2020-11-02T11:19:44.676889",
     "exception": false,
     "start_time": "2020-11-02T11:19:44.506977",
     "status": "completed"
    },
    "tags": []
   },
   "outputs": [
    {
     "data": {
      "text/plain": [
       "Counter({False: 9829, True: 85})"
      ]
     },
     "execution_count": 69,
     "metadata": {},
     "output_type": "execute_result"
    }
   ],
   "source": [
    "Counter(test['distance']==0)"
   ]
  },
  {
   "cell_type": "code",
   "execution_count": 70,
   "metadata": {
    "execution": {
     "iopub.execute_input": "2020-11-02T11:19:44.988099Z",
     "iopub.status.busy": "2020-11-02T11:19:44.987304Z",
     "iopub.status.idle": "2020-11-02T11:19:44.997271Z",
     "shell.execute_reply": "2020-11-02T11:19:44.996515Z"
    },
    "papermill": {
     "duration": 0.168365,
     "end_time": "2020-11-02T11:19:44.997392",
     "exception": false,
     "start_time": "2020-11-02T11:19:44.829027",
     "status": "completed"
    },
    "tags": []
   },
   "outputs": [
    {
     "data": {
      "text/plain": [
       "(15447, 14)"
      ]
     },
     "execution_count": 70,
     "metadata": {},
     "output_type": "execute_result"
    }
   ],
   "source": [
    "# We will remove the rows whose distance value is zero\n",
    "\n",
    "train = train.drop(train[train['distance']== 0].index, axis=0)\n",
    "train.shape"
   ]
  },
  {
   "cell_type": "code",
   "execution_count": 71,
   "metadata": {
    "execution": {
     "iopub.execute_input": "2020-11-02T11:19:45.311665Z",
     "iopub.status.busy": "2020-11-02T11:19:45.310890Z",
     "iopub.status.idle": "2020-11-02T11:19:45.318516Z",
     "shell.execute_reply": "2020-11-02T11:19:45.319127Z"
    },
    "papermill": {
     "duration": 0.168346,
     "end_time": "2020-11-02T11:19:45.319276",
     "exception": false,
     "start_time": "2020-11-02T11:19:45.150930",
     "status": "completed"
    },
    "tags": []
   },
   "outputs": [
    {
     "data": {
      "text/plain": [
       "(15424, 14)"
      ]
     },
     "execution_count": 71,
     "metadata": {},
     "output_type": "execute_result"
    }
   ],
   "source": [
    "# We will remove the rows whose distance values is very high, which is more than 129kms.\n",
    "\n",
    "train = train.drop(train[train['distance'] > 130 ].index, axis=0)\n",
    "train.shape"
   ]
  },
  {
   "cell_type": "code",
   "execution_count": 72,
   "metadata": {
    "execution": {
     "iopub.execute_input": "2020-11-02T11:19:45.650359Z",
     "iopub.status.busy": "2020-11-02T11:19:45.649245Z",
     "iopub.status.idle": "2020-11-02T11:19:45.653934Z",
     "shell.execute_reply": "2020-11-02T11:19:45.654470Z"
    },
    "papermill": {
     "duration": 0.182199,
     "end_time": "2020-11-02T11:19:45.654637",
     "exception": false,
     "start_time": "2020-11-02T11:19:45.472438",
     "status": "completed"
    },
    "tags": []
   },
   "outputs": [
    {
     "data": {
      "text/html": [
       "<div>\n",
       "<style scoped>\n",
       "    .dataframe tbody tr th:only-of-type {\n",
       "        vertical-align: middle;\n",
       "    }\n",
       "\n",
       "    .dataframe tbody tr th {\n",
       "        vertical-align: top;\n",
       "    }\n",
       "\n",
       "    .dataframe thead th {\n",
       "        text-align: right;\n",
       "    }\n",
       "</style>\n",
       "<table border=\"1\" class=\"dataframe\">\n",
       "  <thead>\n",
       "    <tr style=\"text-align: right;\">\n",
       "      <th></th>\n",
       "      <th>fare_amount</th>\n",
       "      <th>pickup_datetime</th>\n",
       "      <th>pickup_longitude</th>\n",
       "      <th>pickup_latitude</th>\n",
       "      <th>dropoff_longitude</th>\n",
       "      <th>dropoff_latitude</th>\n",
       "      <th>passenger_count</th>\n",
       "      <th>Year</th>\n",
       "      <th>Month</th>\n",
       "      <th>Date</th>\n",
       "      <th>Day</th>\n",
       "      <th>Hour</th>\n",
       "      <th>Minute</th>\n",
       "      <th>distance</th>\n",
       "    </tr>\n",
       "  </thead>\n",
       "  <tbody>\n",
       "    <tr>\n",
       "      <th>0</th>\n",
       "      <td>4.5</td>\n",
       "      <td>2009-06-15 17:26:21</td>\n",
       "      <td>-73.844311</td>\n",
       "      <td>40.721319</td>\n",
       "      <td>-73.841610</td>\n",
       "      <td>40.712278</td>\n",
       "      <td>1.0</td>\n",
       "      <td>2009.0</td>\n",
       "      <td>6.0</td>\n",
       "      <td>15.0</td>\n",
       "      <td>0.0</td>\n",
       "      <td>17.0</td>\n",
       "      <td>26.0</td>\n",
       "      <td>1.030764</td>\n",
       "    </tr>\n",
       "    <tr>\n",
       "      <th>1</th>\n",
       "      <td>16.9</td>\n",
       "      <td>2010-01-05 16:52:16</td>\n",
       "      <td>-74.016048</td>\n",
       "      <td>40.711303</td>\n",
       "      <td>-73.979268</td>\n",
       "      <td>40.782004</td>\n",
       "      <td>1.0</td>\n",
       "      <td>2010.0</td>\n",
       "      <td>1.0</td>\n",
       "      <td>5.0</td>\n",
       "      <td>1.0</td>\n",
       "      <td>16.0</td>\n",
       "      <td>52.0</td>\n",
       "      <td>8.450134</td>\n",
       "    </tr>\n",
       "    <tr>\n",
       "      <th>2</th>\n",
       "      <td>5.7</td>\n",
       "      <td>2011-08-18 00:35:00</td>\n",
       "      <td>-73.982738</td>\n",
       "      <td>40.761270</td>\n",
       "      <td>-73.991242</td>\n",
       "      <td>40.750562</td>\n",
       "      <td>2.0</td>\n",
       "      <td>2011.0</td>\n",
       "      <td>8.0</td>\n",
       "      <td>18.0</td>\n",
       "      <td>3.0</td>\n",
       "      <td>0.0</td>\n",
       "      <td>35.0</td>\n",
       "      <td>1.389525</td>\n",
       "    </tr>\n",
       "    <tr>\n",
       "      <th>3</th>\n",
       "      <td>7.7</td>\n",
       "      <td>2012-04-21 04:30:42</td>\n",
       "      <td>-73.987130</td>\n",
       "      <td>40.733143</td>\n",
       "      <td>-73.991567</td>\n",
       "      <td>40.758092</td>\n",
       "      <td>1.0</td>\n",
       "      <td>2012.0</td>\n",
       "      <td>4.0</td>\n",
       "      <td>21.0</td>\n",
       "      <td>5.0</td>\n",
       "      <td>4.0</td>\n",
       "      <td>30.0</td>\n",
       "      <td>2.799270</td>\n",
       "    </tr>\n",
       "    <tr>\n",
       "      <th>4</th>\n",
       "      <td>5.3</td>\n",
       "      <td>2010-03-09 07:51:00</td>\n",
       "      <td>-73.968095</td>\n",
       "      <td>40.768008</td>\n",
       "      <td>-73.956655</td>\n",
       "      <td>40.783762</td>\n",
       "      <td>1.0</td>\n",
       "      <td>2010.0</td>\n",
       "      <td>3.0</td>\n",
       "      <td>9.0</td>\n",
       "      <td>1.0</td>\n",
       "      <td>7.0</td>\n",
       "      <td>51.0</td>\n",
       "      <td>1.999157</td>\n",
       "    </tr>\n",
       "  </tbody>\n",
       "</table>\n",
       "</div>"
      ],
      "text/plain": [
       "   fare_amount     pickup_datetime  pickup_longitude  pickup_latitude  \\\n",
       "0          4.5 2009-06-15 17:26:21        -73.844311        40.721319   \n",
       "1         16.9 2010-01-05 16:52:16        -74.016048        40.711303   \n",
       "2          5.7 2011-08-18 00:35:00        -73.982738        40.761270   \n",
       "3          7.7 2012-04-21 04:30:42        -73.987130        40.733143   \n",
       "4          5.3 2010-03-09 07:51:00        -73.968095        40.768008   \n",
       "\n",
       "   dropoff_longitude  dropoff_latitude  passenger_count    Year  Month  Date  \\\n",
       "0         -73.841610         40.712278              1.0  2009.0    6.0  15.0   \n",
       "1         -73.979268         40.782004              1.0  2010.0    1.0   5.0   \n",
       "2         -73.991242         40.750562              2.0  2011.0    8.0  18.0   \n",
       "3         -73.991567         40.758092              1.0  2012.0    4.0  21.0   \n",
       "4         -73.956655         40.783762              1.0  2010.0    3.0   9.0   \n",
       "\n",
       "   Day  Hour  Minute  distance  \n",
       "0  0.0  17.0    26.0  1.030764  \n",
       "1  1.0  16.0    52.0  8.450134  \n",
       "2  3.0   0.0    35.0  1.389525  \n",
       "3  5.0   4.0    30.0  2.799270  \n",
       "4  1.0   7.0    51.0  1.999157  "
      ]
     },
     "execution_count": 72,
     "metadata": {},
     "output_type": "execute_result"
    }
   ],
   "source": [
    "train.head()"
   ]
  },
  {
   "cell_type": "markdown",
   "metadata": {
    "papermill": {
     "duration": 0.154747,
     "end_time": "2020-11-02T11:19:45.964159",
     "exception": false,
     "start_time": "2020-11-02T11:19:45.809412",
     "status": "completed"
    },
    "tags": []
   },
   "source": [
    "OBSERVATIONS\n",
    "\n",
    "Now, we have splitted the pickup_datetime variable into different varaibles like month, year, day etc.\n",
    "Now, we dont need to have that pickup_datetime variable. \n",
    "Hence we can drop that.\n"
   ]
  },
  {
   "cell_type": "code",
   "execution_count": 73,
   "metadata": {
    "execution": {
     "iopub.execute_input": "2020-11-02T11:19:46.279713Z",
     "iopub.status.busy": "2020-11-02T11:19:46.278953Z",
     "iopub.status.idle": "2020-11-02T11:19:46.281577Z",
     "shell.execute_reply": "2020-11-02T11:19:46.282291Z"
    },
    "papermill": {
     "duration": 0.16354,
     "end_time": "2020-11-02T11:19:46.282446",
     "exception": false,
     "start_time": "2020-11-02T11:19:46.118906",
     "status": "completed"
    },
    "tags": []
   },
   "outputs": [],
   "source": [
    "drop1 = ['pickup_datetime', 'pickup_longitude', 'pickup_latitude','dropoff_longitude', 'dropoff_latitude', 'Minute']\n",
    "\n",
    "train = train.drop(drop1, axis = 1)"
   ]
  },
  {
   "cell_type": "code",
   "execution_count": 74,
   "metadata": {
    "execution": {
     "iopub.execute_input": "2020-11-02T11:19:46.606726Z",
     "iopub.status.busy": "2020-11-02T11:19:46.605806Z",
     "iopub.status.idle": "2020-11-02T11:19:46.610582Z",
     "shell.execute_reply": "2020-11-02T11:19:46.610007Z"
    },
    "papermill": {
     "duration": 0.173756,
     "end_time": "2020-11-02T11:19:46.610707",
     "exception": false,
     "start_time": "2020-11-02T11:19:46.436951",
     "status": "completed"
    },
    "tags": []
   },
   "outputs": [
    {
     "data": {
      "text/html": [
       "<div>\n",
       "<style scoped>\n",
       "    .dataframe tbody tr th:only-of-type {\n",
       "        vertical-align: middle;\n",
       "    }\n",
       "\n",
       "    .dataframe tbody tr th {\n",
       "        vertical-align: top;\n",
       "    }\n",
       "\n",
       "    .dataframe thead th {\n",
       "        text-align: right;\n",
       "    }\n",
       "</style>\n",
       "<table border=\"1\" class=\"dataframe\">\n",
       "  <thead>\n",
       "    <tr style=\"text-align: right;\">\n",
       "      <th></th>\n",
       "      <th>fare_amount</th>\n",
       "      <th>passenger_count</th>\n",
       "      <th>Year</th>\n",
       "      <th>Month</th>\n",
       "      <th>Date</th>\n",
       "      <th>Day</th>\n",
       "      <th>Hour</th>\n",
       "      <th>distance</th>\n",
       "    </tr>\n",
       "  </thead>\n",
       "  <tbody>\n",
       "    <tr>\n",
       "      <th>0</th>\n",
       "      <td>4.5</td>\n",
       "      <td>1.0</td>\n",
       "      <td>2009.0</td>\n",
       "      <td>6.0</td>\n",
       "      <td>15.0</td>\n",
       "      <td>0.0</td>\n",
       "      <td>17.0</td>\n",
       "      <td>1.030764</td>\n",
       "    </tr>\n",
       "    <tr>\n",
       "      <th>1</th>\n",
       "      <td>16.9</td>\n",
       "      <td>1.0</td>\n",
       "      <td>2010.0</td>\n",
       "      <td>1.0</td>\n",
       "      <td>5.0</td>\n",
       "      <td>1.0</td>\n",
       "      <td>16.0</td>\n",
       "      <td>8.450134</td>\n",
       "    </tr>\n",
       "    <tr>\n",
       "      <th>2</th>\n",
       "      <td>5.7</td>\n",
       "      <td>2.0</td>\n",
       "      <td>2011.0</td>\n",
       "      <td>8.0</td>\n",
       "      <td>18.0</td>\n",
       "      <td>3.0</td>\n",
       "      <td>0.0</td>\n",
       "      <td>1.389525</td>\n",
       "    </tr>\n",
       "    <tr>\n",
       "      <th>3</th>\n",
       "      <td>7.7</td>\n",
       "      <td>1.0</td>\n",
       "      <td>2012.0</td>\n",
       "      <td>4.0</td>\n",
       "      <td>21.0</td>\n",
       "      <td>5.0</td>\n",
       "      <td>4.0</td>\n",
       "      <td>2.799270</td>\n",
       "    </tr>\n",
       "    <tr>\n",
       "      <th>4</th>\n",
       "      <td>5.3</td>\n",
       "      <td>1.0</td>\n",
       "      <td>2010.0</td>\n",
       "      <td>3.0</td>\n",
       "      <td>9.0</td>\n",
       "      <td>1.0</td>\n",
       "      <td>7.0</td>\n",
       "      <td>1.999157</td>\n",
       "    </tr>\n",
       "  </tbody>\n",
       "</table>\n",
       "</div>"
      ],
      "text/plain": [
       "   fare_amount  passenger_count    Year  Month  Date  Day  Hour  distance\n",
       "0          4.5              1.0  2009.0    6.0  15.0  0.0  17.0  1.030764\n",
       "1         16.9              1.0  2010.0    1.0   5.0  1.0  16.0  8.450134\n",
       "2          5.7              2.0  2011.0    8.0  18.0  3.0   0.0  1.389525\n",
       "3          7.7              1.0  2012.0    4.0  21.0  5.0   4.0  2.799270\n",
       "4          5.3              1.0  2010.0    3.0   9.0  1.0   7.0  1.999157"
      ]
     },
     "execution_count": 74,
     "metadata": {},
     "output_type": "execute_result"
    }
   ],
   "source": [
    "train.head()"
   ]
  },
  {
   "cell_type": "code",
   "execution_count": 75,
   "metadata": {
    "execution": {
     "iopub.execute_input": "2020-11-02T11:19:46.932378Z",
     "iopub.status.busy": "2020-11-02T11:19:46.931492Z",
     "iopub.status.idle": "2020-11-02T11:19:46.940219Z",
     "shell.execute_reply": "2020-11-02T11:19:46.939536Z"
    },
    "papermill": {
     "duration": 0.173023,
     "end_time": "2020-11-02T11:19:46.940346",
     "exception": false,
     "start_time": "2020-11-02T11:19:46.767323",
     "status": "completed"
    },
    "tags": []
   },
   "outputs": [],
   "source": [
    "train['passenger_count'] = train['passenger_count'].astype('int64')\n",
    "train['Year'] = train['Year'].astype('int64')\n",
    "train['Month'] = train['Month'].astype('int64')\n",
    "train['Date'] = train['Date'].astype('int64')\n",
    "train['Day'] = train['Day'].astype('int64')\n",
    "train['Hour'] = train['Hour'].astype('int64')"
   ]
  },
  {
   "cell_type": "code",
   "execution_count": 76,
   "metadata": {
    "execution": {
     "iopub.execute_input": "2020-11-02T11:19:47.263147Z",
     "iopub.status.busy": "2020-11-02T11:19:47.262191Z",
     "iopub.status.idle": "2020-11-02T11:19:47.266800Z",
     "shell.execute_reply": "2020-11-02T11:19:47.267352Z"
    },
    "papermill": {
     "duration": 0.168967,
     "end_time": "2020-11-02T11:19:47.267522",
     "exception": false,
     "start_time": "2020-11-02T11:19:47.098555",
     "status": "completed"
    },
    "tags": []
   },
   "outputs": [
    {
     "data": {
      "text/plain": [
       "fare_amount        float64\n",
       "passenger_count      int64\n",
       "Year                 int64\n",
       "Month                int64\n",
       "Date                 int64\n",
       "Day                  int64\n",
       "Hour                 int64\n",
       "distance           float64\n",
       "dtype: object"
      ]
     },
     "execution_count": 76,
     "metadata": {},
     "output_type": "execute_result"
    }
   ],
   "source": [
    "train.dtypes"
   ]
  },
  {
   "cell_type": "code",
   "execution_count": 77,
   "metadata": {
    "execution": {
     "iopub.execute_input": "2020-11-02T11:19:47.586715Z",
     "iopub.status.busy": "2020-11-02T11:19:47.585975Z",
     "iopub.status.idle": "2020-11-02T11:19:47.591290Z",
     "shell.execute_reply": "2020-11-02T11:19:47.590486Z"
    },
    "papermill": {
     "duration": 0.16618,
     "end_time": "2020-11-02T11:19:47.591421",
     "exception": false,
     "start_time": "2020-11-02T11:19:47.425241",
     "status": "completed"
    },
    "tags": []
   },
   "outputs": [],
   "source": [
    "drop2 = ['pickup_datetime', 'pickup_longitude', 'pickup_latitude','dropoff_longitude', 'dropoff_latitude', 'Minute']\n",
    "\n",
    "test = test.drop(drop2, axis = 1)"
   ]
  },
  {
   "cell_type": "code",
   "execution_count": 78,
   "metadata": {
    "execution": {
     "iopub.execute_input": "2020-11-02T11:19:47.917430Z",
     "iopub.status.busy": "2020-11-02T11:19:47.916502Z",
     "iopub.status.idle": "2020-11-02T11:19:47.921412Z",
     "shell.execute_reply": "2020-11-02T11:19:47.920787Z"
    },
    "papermill": {
     "duration": 0.174824,
     "end_time": "2020-11-02T11:19:47.921551",
     "exception": false,
     "start_time": "2020-11-02T11:19:47.746727",
     "status": "completed"
    },
    "tags": []
   },
   "outputs": [
    {
     "data": {
      "text/html": [
       "<div>\n",
       "<style scoped>\n",
       "    .dataframe tbody tr th:only-of-type {\n",
       "        vertical-align: middle;\n",
       "    }\n",
       "\n",
       "    .dataframe tbody tr th {\n",
       "        vertical-align: top;\n",
       "    }\n",
       "\n",
       "    .dataframe thead th {\n",
       "        text-align: right;\n",
       "    }\n",
       "</style>\n",
       "<table border=\"1\" class=\"dataframe\">\n",
       "  <thead>\n",
       "    <tr style=\"text-align: right;\">\n",
       "      <th></th>\n",
       "      <th>passenger_count</th>\n",
       "      <th>Year</th>\n",
       "      <th>Month</th>\n",
       "      <th>Date</th>\n",
       "      <th>Day</th>\n",
       "      <th>Hour</th>\n",
       "      <th>distance</th>\n",
       "    </tr>\n",
       "  </thead>\n",
       "  <tbody>\n",
       "    <tr>\n",
       "      <th>0</th>\n",
       "      <td>1</td>\n",
       "      <td>2015</td>\n",
       "      <td>1</td>\n",
       "      <td>27</td>\n",
       "      <td>1</td>\n",
       "      <td>13</td>\n",
       "      <td>2.323259</td>\n",
       "    </tr>\n",
       "    <tr>\n",
       "      <th>1</th>\n",
       "      <td>1</td>\n",
       "      <td>2015</td>\n",
       "      <td>1</td>\n",
       "      <td>27</td>\n",
       "      <td>1</td>\n",
       "      <td>13</td>\n",
       "      <td>2.425353</td>\n",
       "    </tr>\n",
       "    <tr>\n",
       "      <th>2</th>\n",
       "      <td>1</td>\n",
       "      <td>2011</td>\n",
       "      <td>10</td>\n",
       "      <td>8</td>\n",
       "      <td>5</td>\n",
       "      <td>11</td>\n",
       "      <td>0.618628</td>\n",
       "    </tr>\n",
       "    <tr>\n",
       "      <th>3</th>\n",
       "      <td>1</td>\n",
       "      <td>2012</td>\n",
       "      <td>12</td>\n",
       "      <td>1</td>\n",
       "      <td>5</td>\n",
       "      <td>21</td>\n",
       "      <td>1.961033</td>\n",
       "    </tr>\n",
       "    <tr>\n",
       "      <th>4</th>\n",
       "      <td>1</td>\n",
       "      <td>2012</td>\n",
       "      <td>12</td>\n",
       "      <td>1</td>\n",
       "      <td>5</td>\n",
       "      <td>21</td>\n",
       "      <td>5.387301</td>\n",
       "    </tr>\n",
       "  </tbody>\n",
       "</table>\n",
       "</div>"
      ],
      "text/plain": [
       "   passenger_count  Year  Month  Date  Day  Hour  distance\n",
       "0                1  2015      1    27    1    13  2.323259\n",
       "1                1  2015      1    27    1    13  2.425353\n",
       "2                1  2011     10     8    5    11  0.618628\n",
       "3                1  2012     12     1    5    21  1.961033\n",
       "4                1  2012     12     1    5    21  5.387301"
      ]
     },
     "execution_count": 78,
     "metadata": {},
     "output_type": "execute_result"
    }
   ],
   "source": [
    "test.head()"
   ]
  },
  {
   "cell_type": "code",
   "execution_count": 79,
   "metadata": {
    "execution": {
     "iopub.execute_input": "2020-11-02T11:19:48.247906Z",
     "iopub.status.busy": "2020-11-02T11:19:48.247097Z",
     "iopub.status.idle": "2020-11-02T11:19:48.252996Z",
     "shell.execute_reply": "2020-11-02T11:19:48.252207Z"
    },
    "papermill": {
     "duration": 0.172775,
     "end_time": "2020-11-02T11:19:48.253122",
     "exception": false,
     "start_time": "2020-11-02T11:19:48.080347",
     "status": "completed"
    },
    "tags": []
   },
   "outputs": [],
   "source": [
    "test['passenger_count'] = test['passenger_count'].astype('int64')\n",
    "test['Year'] = test['Year'].astype('int64')\n",
    "test['Month'] = test['Month'].astype('int64')\n",
    "test['Date'] = test['Date'].astype('int64')\n",
    "test['Day'] = test['Day'].astype('int64')\n",
    "test['Hour'] = test['Hour'].astype('int64')"
   ]
  },
  {
   "cell_type": "code",
   "execution_count": 80,
   "metadata": {
    "execution": {
     "iopub.execute_input": "2020-11-02T11:19:48.577949Z",
     "iopub.status.busy": "2020-11-02T11:19:48.576992Z",
     "iopub.status.idle": "2020-11-02T11:19:48.582032Z",
     "shell.execute_reply": "2020-11-02T11:19:48.581234Z"
    },
    "papermill": {
     "duration": 0.169936,
     "end_time": "2020-11-02T11:19:48.582171",
     "exception": false,
     "start_time": "2020-11-02T11:19:48.412235",
     "status": "completed"
    },
    "tags": []
   },
   "outputs": [
    {
     "data": {
      "text/plain": [
       "passenger_count      int64\n",
       "Year                 int64\n",
       "Month                int64\n",
       "Date                 int64\n",
       "Day                  int64\n",
       "Hour                 int64\n",
       "distance           float64\n",
       "dtype: object"
      ]
     },
     "execution_count": 80,
     "metadata": {},
     "output_type": "execute_result"
    }
   ],
   "source": [
    "test.dtypes"
   ]
  },
  {
   "cell_type": "markdown",
   "metadata": {
    "papermill": {
     "duration": 0.158368,
     "end_time": "2020-11-02T11:19:48.899792",
     "exception": false,
     "start_time": "2020-11-02T11:19:48.741424",
     "status": "completed"
    },
    "tags": []
   },
   "source": [
    "DATA VISUALIZATION"
   ]
  },
  {
   "cell_type": "code",
   "execution_count": 81,
   "metadata": {
    "execution": {
     "iopub.execute_input": "2020-11-02T11:19:49.227762Z",
     "iopub.status.busy": "2020-11-02T11:19:49.226974Z",
     "iopub.status.idle": "2020-11-02T11:19:49.448550Z",
     "shell.execute_reply": "2020-11-02T11:19:49.447958Z"
    },
    "papermill": {
     "duration": 0.388429,
     "end_time": "2020-11-02T11:19:49.448676",
     "exception": false,
     "start_time": "2020-11-02T11:19:49.060247",
     "status": "completed"
    },
    "tags": []
   },
   "outputs": [
    {
     "data": {
      "text/plain": [
       "<Axes: xlabel='passenger_count', ylabel='count'>"
      ]
     },
     "execution_count": 81,
     "metadata": {},
     "output_type": "execute_result"
    },
    {
     "data": {
      "image/png": "[encoded data removed]",
      "text/plain": [
       "<Figure size 1500x700 with 1 Axes>"
      ]
     },
     "metadata": {},
     "output_type": "display_data"
    }
   ],
   "source": [
    "# Count plot on passenger count\n",
    "\n",
    "plt.figure(figsize=(15,7))\n",
    "sns.countplot(x=\"passenger_count\", data=train)"
   ]
  },
  {
   "cell_type": "code",
   "execution_count": 82,
   "metadata": {
    "execution": {
     "iopub.execute_input": "2020-11-02T11:19:49.777474Z",
     "iopub.status.busy": "2020-11-02T11:19:49.776509Z",
     "iopub.status.idle": "2020-11-02T11:19:49.994762Z",
     "shell.execute_reply": "2020-11-02T11:19:49.994036Z"
    },
    "papermill": {
     "duration": 0.386009,
     "end_time": "2020-11-02T11:19:49.994893",
     "exception": false,
     "start_time": "2020-11-02T11:19:49.608884",
     "status": "completed"
    },
    "tags": []
   },
   "outputs": [
    {
     "data": {
      "image/png": "[encoded data removed]",
      "text/plain": [
       "<Figure size 1500x700 with 1 Axes>"
      ]
     },
     "metadata": {},
     "output_type": "display_data"
    }
   ],
   "source": [
    "# Relationship beetween number of passengers and Fare\n",
    "\n",
    "plt.figure(figsize=(15,7))\n",
    "plt.scatter(x=train['passenger_count'], y=train['fare_amount'], s=10)\n",
    "plt.xlabel('Number of Passengers')\n",
    "plt.ylabel('Fare amount')\n",
    "plt.show()"
   ]
  },
  {
   "cell_type": "markdown",
   "metadata": {
    "papermill": {
     "duration": 0.163763,
     "end_time": "2020-11-02T11:19:50.322596",
     "exception": false,
     "start_time": "2020-11-02T11:19:50.158833",
     "status": "completed"
    },
    "tags": []
   },
   "source": [
    "OBSERVATIONS\n",
    "\n",
    "By seeing the above plots we can easily conclude that:\n",
    "\n",
    "* Single travelling passengers are most frequent travellers.\n",
    "* At the sametime, we can also conclude that highest Fare are coming from single & double travelling passengers."
   ]
  },
  {
   "cell_type": "code",
   "execution_count": 83,
   "metadata": {
    "execution": {
     "iopub.execute_input": "2020-11-02T11:19:50.667099Z",
     "iopub.status.busy": "2020-11-02T11:19:50.663619Z",
     "iopub.status.idle": "2020-11-02T11:19:50.861947Z",
     "shell.execute_reply": "2020-11-02T11:19:50.861162Z"
    },
    "papermill": {
     "duration": 0.375964,
     "end_time": "2020-11-02T11:19:50.862097",
     "exception": false,
     "start_time": "2020-11-02T11:19:50.486133",
     "status": "completed"
    },
    "tags": []
   },
   "outputs": [
    {
     "data": {
      "image/png": "[encoded data removed]",
      "text/plain": [
       "<Figure size 1500x700 with 1 Axes>"
      ]
     },
     "metadata": {},
     "output_type": "display_data"
    }
   ],
   "source": [
    "# Relationship between date and Fare\n",
    "\n",
    "plt.figure(figsize=(15,7))\n",
    "plt.scatter(x=train['Date'], y=train['fare_amount'], s=10)\n",
    "plt.xlabel('Date')\n",
    "plt.ylabel('Fare')\n",
    "plt.show()"
   ]
  },
  {
   "cell_type": "code",
   "execution_count": 84,
   "metadata": {
    "execution": {
     "iopub.execute_input": "2020-11-02T11:19:51.197942Z",
     "iopub.status.busy": "2020-11-02T11:19:51.197048Z",
     "iopub.status.idle": "2020-11-02T11:19:51.486690Z",
     "shell.execute_reply": "2020-11-02T11:19:51.485916Z"
    },
    "papermill": {
     "duration": 0.459358,
     "end_time": "2020-11-02T11:19:51.486840",
     "exception": false,
     "start_time": "2020-11-02T11:19:51.027482",
     "status": "completed"
    },
    "tags": []
   },
   "outputs": [
    {
     "data": {
      "image/png": "[encoded data removed]",
      "text/plain": [
       "<Figure size 1500x700 with 1 Axes>"
      ]
     },
     "metadata": {},
     "output_type": "display_data"
    }
   ],
   "source": [
    "plt.figure(figsize=(15,7))\n",
    "train.groupby(train[\"Hour\"])['Hour'].count().plot(kind=\"bar\")\n",
    "plt.show()"
   ]
  },
  {
   "cell_type": "markdown",
   "metadata": {
    "papermill": {
     "duration": 0.16188,
     "end_time": "2020-11-02T11:19:51.812802",
     "exception": false,
     "start_time": "2020-11-02T11:19:51.650922",
     "status": "completed"
    },
    "tags": []
   },
   "source": [
    "OBSERVATIONS\n",
    "\n",
    "* Lowest cabs at 5 AM and highest at around 7 PM i.e the office rush hours."
   ]
  },
  {
   "cell_type": "code",
   "execution_count": 85,
   "metadata": {
    "execution": {
     "iopub.execute_input": "2020-11-02T11:19:52.157277Z",
     "iopub.status.busy": "2020-11-02T11:19:52.154421Z",
     "iopub.status.idle": "2020-11-02T11:19:52.342473Z",
     "shell.execute_reply": "2020-11-02T11:19:52.341619Z"
    },
    "papermill": {
     "duration": 0.36663,
     "end_time": "2020-11-02T11:19:52.342604",
     "exception": false,
     "start_time": "2020-11-02T11:19:51.975974",
     "status": "completed"
    },
    "tags": []
   },
   "outputs": [
    {
     "data": {
      "image/png": "[encoded data removed]",
      "text/plain": [
       "<Figure size 1500x700 with 1 Axes>"
      ]
     },
     "metadata": {},
     "output_type": "display_data"
    }
   ],
   "source": [
    "#Relationship between Time and Fare\n",
    "\n",
    "plt.figure(figsize=(15,7))\n",
    "plt.scatter(x=train['Hour'], y=train['fare_amount'], s=10)\n",
    "plt.xlabel('Hour')\n",
    "plt.ylabel('Fare')\n",
    "plt.show()"
   ]
  },
  {
   "cell_type": "markdown",
   "metadata": {
    "papermill": {
     "duration": 0.163174,
     "end_time": "2020-11-02T11:19:52.671012",
     "exception": false,
     "start_time": "2020-11-02T11:19:52.507838",
     "status": "completed"
    },
    "tags": []
   },
   "source": [
    "OBSERVATIONS\n",
    "\n",
    "* From the above plot, We can observe that the cabs taken at 7 am and 23(11 Pm) are the costliest. \n",
    "* Hence we can assume that cabs taken early in morning and late at night are costliest"
   ]
  },
  {
   "cell_type": "code",
   "execution_count": 86,
   "metadata": {
    "execution": {
     "iopub.execute_input": "2020-11-02T11:19:53.004242Z",
     "iopub.status.busy": "2020-11-02T11:19:53.003380Z",
     "iopub.status.idle": "2020-11-02T11:19:53.181070Z",
     "shell.execute_reply": "2020-11-02T11:19:53.180266Z"
    },
    "papermill": {
     "duration": 0.347369,
     "end_time": "2020-11-02T11:19:53.181199",
     "exception": false,
     "start_time": "2020-11-02T11:19:52.833830",
     "status": "completed"
    },
    "tags": []
   },
   "outputs": [
    {
     "data": {
      "text/plain": [
       "<Axes: xlabel='Day', ylabel='count'>"
      ]
     },
     "execution_count": 86,
     "metadata": {},
     "output_type": "execute_result"
    },
    {
     "data": {
      "image/png": "[encoded data removed]",
      "text/plain": [
       "<Figure size 1500x700 with 1 Axes>"
      ]
     },
     "metadata": {},
     "output_type": "display_data"
    }
   ],
   "source": [
    "# Impact of Day on the number of cab rides\n",
    "\n",
    "plt.figure(figsize=(15,7))\n",
    "sns.countplot(x=\"Day\", data=train)"
   ]
  },
  {
   "cell_type": "markdown",
   "metadata": {
    "papermill": {
     "duration": 0.16726,
     "end_time": "2020-11-02T11:19:53.513812",
     "exception": false,
     "start_time": "2020-11-02T11:19:53.346552",
     "status": "completed"
    },
    "tags": []
   },
   "source": [
    "OBSERVATIONS\n",
    "\n",
    "The day of the week does not seem to have much influence on the number of cabs ride."
   ]
  },
  {
   "cell_type": "code",
   "execution_count": 87,
   "metadata": {
    "execution": {
     "iopub.execute_input": "2020-11-02T11:19:53.859899Z",
     "iopub.status.busy": "2020-11-02T11:19:53.858169Z",
     "iopub.status.idle": "2020-11-02T11:19:54.056829Z",
     "shell.execute_reply": "2020-11-02T11:19:54.057422Z"
    },
    "papermill": {
     "duration": 0.378234,
     "end_time": "2020-11-02T11:19:54.057577",
     "exception": false,
     "start_time": "2020-11-02T11:19:53.679343",
     "status": "completed"
    },
    "tags": []
   },
   "outputs": [
    {
     "data": {
      "image/png": "[encoded data removed]",
      "text/plain": [
       "<Figure size 1500x700 with 1 Axes>"
      ]
     },
     "metadata": {},
     "output_type": "display_data"
    }
   ],
   "source": [
    "#Relationships between day and Fare\n",
    "\n",
    "plt.figure(figsize=(15,7))\n",
    "plt.scatter(x=train['Day'], y=train['fare_amount'], s=10)\n",
    "plt.xlabel('Day')\n",
    "plt.ylabel('Fare')\n",
    "plt.show()"
   ]
  },
  {
   "cell_type": "markdown",
   "metadata": {
    "papermill": {
     "duration": 0.212019,
     "end_time": "2020-11-02T11:19:54.438536",
     "exception": false,
     "start_time": "2020-11-02T11:19:54.226517",
     "status": "completed"
    },
    "tags": []
   },
   "source": [
    "OBSERVATIONS\n",
    "\n",
    "* The highest fare seem to be on a Sunday, Monday and Thursday, and the low on Wednesday and Saturday.\n",
    "* May be due to low demand of the cabs on saturdays the cab fare is low and high demand of cabs on sunday and monday shows the high fare prices.\n",
    "\n"
   ]
  },
  {
   "cell_type": "code",
   "execution_count": 88,
   "metadata": {
    "execution": {
     "iopub.execute_input": "2020-11-02T11:19:54.785038Z",
     "iopub.status.busy": "2020-11-02T11:19:54.784084Z",
     "iopub.status.idle": "2020-11-02T11:19:54.989964Z",
     "shell.execute_reply": "2020-11-02T11:19:54.989127Z"
    },
    "papermill": {
     "duration": 0.385501,
     "end_time": "2020-11-02T11:19:54.990094",
     "exception": false,
     "start_time": "2020-11-02T11:19:54.604593",
     "status": "completed"
    },
    "tags": []
   },
   "outputs": [
    {
     "data": {
      "image/png": "[encoded data removed]",
      "text/plain": [
       "<Figure size 1500x700 with 1 Axes>"
      ]
     },
     "metadata": {},
     "output_type": "display_data"
    }
   ],
   "source": [
    "#Relationship between distance and fare \n",
    "\n",
    "plt.figure(figsize=(15,7))\n",
    "plt.scatter(x = train['distance'],y = train['fare_amount'],c = \"g\")\n",
    "plt.xlabel('Distance')\n",
    "plt.ylabel('Fare')\n",
    "plt.show()"
   ]
  },
  {
   "cell_type": "markdown",
   "metadata": {
    "papermill": {
     "duration": 0.239019,
     "end_time": "2020-11-02T11:19:55.419485",
     "exception": false,
     "start_time": "2020-11-02T11:19:55.180466",
     "status": "completed"
    },
    "tags": []
   },
   "source": [
    "OBSERVATIONS\n",
    "\n",
    "It is quite obvious that distance will effect the amount of fare."
   ]
  },
  {
   "cell_type": "markdown",
   "metadata": {
    "papermill": {
     "duration": 0.16737,
     "end_time": "2020-11-02T11:19:55.755320",
     "exception": false,
     "start_time": "2020-11-02T11:19:55.587950",
     "status": "completed"
    },
    "tags": []
   },
   "source": [
    "FEATURE SCALING"
   ]
  },
  {
   "cell_type": "code",
   "execution_count": 89,
   "metadata": {
    "execution": {
     "iopub.execute_input": "2020-11-02T11:19:56.103798Z",
     "iopub.status.busy": "2020-11-02T11:19:56.102974Z",
     "iopub.status.idle": "2020-11-02T11:19:59.879107Z",
     "shell.execute_reply": "2020-11-02T11:19:59.878443Z"
    },
    "papermill": {
     "duration": 3.957295,
     "end_time": "2020-11-02T11:19:59.879231",
     "exception": false,
     "start_time": "2020-11-02T11:19:55.921936",
     "status": "completed"
    },
    "tags": []
   },
   "outputs": [
    {
     "name": "stdout",
     "output_type": "stream",
     "text": [
      "fare_amount\n"
     ]
    },
    {
     "name": "stderr",
     "output_type": "stream",
     "text": [
      "C:\\Users\\DELL\\AppData\\Local\\Temp\\ipykernel_18232\\2646995849.py:5: UserWarning: \n",
      "\n",
      "`distplot` is a deprecated function and will be removed in seaborn v0.14.0.\n",
      "\n",
      "Please adapt your code to use either `displot` (a figure-level function with\n",
      "similar flexibility) or `histplot` (an axes-level function for histograms).\n",
      "\n",
      "For a guide to updating your code to use the new functions, please see\n",
      "https://gist.github.com/mwaskom/de44147ed2974457ad6372750bbe5751\n",
      "\n",
      "  sns.distplot(train[i],bins='auto',color='green')\n"
     ]
    },
    {
     "data": {
      "image/png": "[encoded data removed]",
      "text/plain": [
       "<Figure size 640x480 with 1 Axes>"
      ]
     },
     "metadata": {},
     "output_type": "display_data"
    },
    {
     "name": "stdout",
     "output_type": "stream",
     "text": [
      "distance\n"
     ]
    },
    {
     "name": "stderr",
     "output_type": "stream",
     "text": [
      "C:\\Users\\DELL\\AppData\\Local\\Temp\\ipykernel_18232\\2646995849.py:5: UserWarning: \n",
      "\n",
      "`distplot` is a deprecated function and will be removed in seaborn v0.14.0.\n",
      "\n",
      "Please adapt your code to use either `displot` (a figure-level function with\n",
      "similar flexibility) or `histplot` (an axes-level function for histograms).\n",
      "\n",
      "For a guide to updating your code to use the new functions, please see\n",
      "https://gist.github.com/mwaskom/de44147ed2974457ad6372750bbe5751\n",
      "\n",
      "  sns.distplot(train[i],bins='auto',color='green')\n"
     ]
    },
    {
     "data": {
      "image/png": "[encoded data removed]",
      "text/plain": [
       "<Figure size 640x480 with 1 Axes>"
      ]
     },
     "metadata": {},
     "output_type": "display_data"
    }
   ],
   "source": [
    "#Normality check of training data is uniformly distributed or not.\n",
    "\n",
    "for i in ['fare_amount', 'distance']:\n",
    "    print(i)\n",
    "    sns.distplot(train[i],bins='auto',color='green')\n",
    "    plt.title(\"Distribution for Variable \"+i)\n",
    "    plt.ylabel(\"Density\")\n",
    "    plt.show()"
   ]
  },
  {
   "cell_type": "code",
   "execution_count": 90,
   "metadata": {
    "execution": {
     "iopub.execute_input": "2020-11-02T11:20:00.248398Z",
     "iopub.status.busy": "2020-11-02T11:20:00.247239Z",
     "iopub.status.idle": "2020-11-02T11:20:00.252835Z",
     "shell.execute_reply": "2020-11-02T11:20:00.251795Z"
    },
    "papermill": {
     "duration": 0.201414,
     "end_time": "2020-11-02T11:20:00.253023",
     "exception": false,
     "start_time": "2020-11-02T11:20:00.051609",
     "status": "completed"
    },
    "tags": []
   },
   "outputs": [],
   "source": [
    "# Since skewness of target variable(fare_amount) is high, apply log transform to reduce the skewness\n",
    "\n",
    "train['fare_amount'] = np.log1p(train['fare_amount'])"
   ]
  },
  {
   "cell_type": "code",
   "execution_count": 91,
   "metadata": {
    "execution": {
     "iopub.execute_input": "2020-11-02T11:20:00.617117Z",
     "iopub.status.busy": "2020-11-02T11:20:00.615957Z",
     "iopub.status.idle": "2020-11-02T11:20:00.621355Z",
     "shell.execute_reply": "2020-11-02T11:20:00.620658Z"
    },
    "papermill": {
     "duration": 0.185421,
     "end_time": "2020-11-02T11:20:00.621485",
     "exception": false,
     "start_time": "2020-11-02T11:20:00.436064",
     "status": "completed"
    },
    "tags": []
   },
   "outputs": [],
   "source": [
    "# Since skewness of distance variable is high, apply log transform to reduce the skewness\n",
    "\n",
    "train['distance'] = np.log1p(train['distance'])"
   ]
  },
  {
   "cell_type": "code",
   "execution_count": 92,
   "metadata": {
    "execution": {
     "iopub.execute_input": "2020-11-02T11:20:00.983247Z",
     "iopub.status.busy": "2020-11-02T11:20:00.982457Z",
     "iopub.status.idle": "2020-11-02T11:20:01.715041Z",
     "shell.execute_reply": "2020-11-02T11:20:01.714303Z"
    },
    "papermill": {
     "duration": 0.916289,
     "end_time": "2020-11-02T11:20:01.715164",
     "exception": false,
     "start_time": "2020-11-02T11:20:00.798875",
     "status": "completed"
    },
    "tags": []
   },
   "outputs": [
    {
     "name": "stdout",
     "output_type": "stream",
     "text": [
      "fare_amount\n"
     ]
    },
    {
     "name": "stderr",
     "output_type": "stream",
     "text": [
      "C:\\Users\\DELL\\AppData\\Local\\Temp\\ipykernel_18232\\116158995.py:5: UserWarning: \n",
      "\n",
      "`distplot` is a deprecated function and will be removed in seaborn v0.14.0.\n",
      "\n",
      "Please adapt your code to use either `displot` (a figure-level function with\n",
      "similar flexibility) or `histplot` (an axes-level function for histograms).\n",
      "\n",
      "For a guide to updating your code to use the new functions, please see\n",
      "https://gist.github.com/mwaskom/de44147ed2974457ad6372750bbe5751\n",
      "\n",
      "  sns.distplot(train[i],bins='auto',color='green')\n"
     ]
    },
    {
     "data": {
      "image/png": "[encoded data removed]",
      "text/plain": [
       "<Figure size 640x480 with 1 Axes>"
      ]
     },
     "metadata": {},
     "output_type": "display_data"
    },
    {
     "name": "stdout",
     "output_type": "stream",
     "text": [
      "distance\n"
     ]
    },
    {
     "name": "stderr",
     "output_type": "stream",
     "text": [
      "C:\\Users\\DELL\\AppData\\Local\\Temp\\ipykernel_18232\\116158995.py:5: UserWarning: \n",
      "\n",
      "`distplot` is a deprecated function and will be removed in seaborn v0.14.0.\n",
      "\n",
      "Please adapt your code to use either `displot` (a figure-level function with\n",
      "similar flexibility) or `histplot` (an axes-level function for histograms).\n",
      "\n",
      "For a guide to updating your code to use the new functions, please see\n",
      "https://gist.github.com/mwaskom/de44147ed2974457ad6372750bbe5751\n",
      "\n",
      "  sns.distplot(train[i],bins='auto',color='green')\n"
     ]
    },
    {
     "data": {
      "image/png": "[encoded data removed]",
      "text/plain": [
       "<Figure size 640x480 with 1 Axes>"
      ]
     },
     "metadata": {},
     "output_type": "display_data"
    }
   ],
   "source": [
    "# Normality to check data is uniformly distributed or not after log transformartion\n",
    "\n",
    "for i in ['fare_amount', 'distance']:\n",
    "    print(i)\n",
    "    sns.distplot(train[i],bins='auto',color='green')\n",
    "    plt.title(\"Distribution for Variable \"+i)\n",
    "    plt.ylabel(\"Density\")\n",
    "    plt.show()"
   ]
  },
  {
   "cell_type": "markdown",
   "metadata": {
    "papermill": {
     "duration": 0.174711,
     "end_time": "2020-11-02T11:20:02.063435",
     "exception": false,
     "start_time": "2020-11-02T11:20:01.888724",
     "status": "completed"
    },
    "tags": []
   },
   "source": [
    "OBSERVATIONS\n",
    "\n",
    "* Here, we can see bell shaped distribution. \n",
    "* Hence our continous variables are now normally distributed, we will use not use any Feature Scalling technique i.e, Normalization or Standarization for our training data."
   ]
  },
  {
   "cell_type": "code",
   "execution_count": 96,
   "metadata": {
    "execution": {
     "iopub.execute_input": "2020-11-02T11:20:05.310003Z",
     "iopub.status.busy": "2020-11-02T11:20:05.309075Z",
     "iopub.status.idle": "2020-11-02T11:20:05.313427Z",
     "shell.execute_reply": "2020-11-02T11:20:05.312701Z"
    },
    "papermill": {
     "duration": 0.190585,
     "end_time": "2020-11-02T11:20:05.313555",
     "exception": false,
     "start_time": "2020-11-02T11:20:05.122970",
     "status": "completed"
    },
    "tags": []
   },
   "outputs": [],
   "source": [
    "test1= test.copy()"
   ]
  },
  {
   "cell_type": "markdown",
   "metadata": {
    "papermill": {
     "duration": 0.177068,
     "end_time": "2020-11-02T11:20:05.669833",
     "exception": false,
     "start_time": "2020-11-02T11:20:05.492765",
     "status": "completed"
    },
    "tags": []
   },
   "source": [
    "APPLYING ML MODEL"
   ]
  },
  {
   "cell_type": "code",
   "execution_count": 97,
   "metadata": {
    "execution": {
     "iopub.execute_input": "2020-11-02T11:20:06.031194Z",
     "iopub.status.busy": "2020-11-02T11:20:06.030365Z",
     "iopub.status.idle": "2020-11-02T11:20:06.038614Z",
     "shell.execute_reply": "2020-11-02T11:20:06.037832Z"
    },
    "papermill": {
     "duration": 0.192887,
     "end_time": "2020-11-02T11:20:06.038758",
     "exception": false,
     "start_time": "2020-11-02T11:20:05.845871",
     "status": "completed"
    },
    "tags": []
   },
   "outputs": [],
   "source": [
    "# train test split for further modelling\n",
    "\n",
    "x_train, x_test, y_train, y_test = train_test_split( train.iloc[:, train.columns != 'fare_amount'], \n",
    "                         train.iloc[:, 0], test_size = 0.20, random_state = 1)"
   ]
  },
  {
   "cell_type": "code",
   "execution_count": 98,
   "metadata": {
    "execution": {
     "iopub.execute_input": "2020-11-02T11:20:06.429270Z",
     "iopub.status.busy": "2020-11-02T11:20:06.428237Z",
     "iopub.status.idle": "2020-11-02T11:20:06.432929Z",
     "shell.execute_reply": "2020-11-02T11:20:06.432077Z"
    },
    "papermill": {
     "duration": 0.216061,
     "end_time": "2020-11-02T11:20:06.433068",
     "exception": false,
     "start_time": "2020-11-02T11:20:06.217007",
     "status": "completed"
    },
    "tags": []
   },
   "outputs": [
    {
     "name": "stdout",
     "output_type": "stream",
     "text": [
      "(12339, 7)\n",
      "(3085, 7)\n"
     ]
    }
   ],
   "source": [
    "print(x_train.shape)\n",
    "print(x_test.shape)"
   ]
  },
  {
   "cell_type": "markdown",
   "metadata": {
    "papermill": {
     "duration": 0.189522,
     "end_time": "2020-11-02T11:20:06.802968",
     "exception": false,
     "start_time": "2020-11-02T11:20:06.613446",
     "status": "completed"
    },
    "tags": []
   },
   "source": [
    "LINEAR REGRESSION MODEL"
   ]
  },
  {
   "cell_type": "code",
   "execution_count": 99,
   "metadata": {
    "execution": {
     "iopub.execute_input": "2020-11-02T11:20:07.168083Z",
     "iopub.status.busy": "2020-11-02T11:20:07.167263Z",
     "iopub.status.idle": "2020-11-02T11:20:07.210172Z",
     "shell.execute_reply": "2020-11-02T11:20:07.210894Z"
    },
    "papermill": {
     "duration": 0.229773,
     "end_time": "2020-11-02T11:20:07.211076",
     "exception": false,
     "start_time": "2020-11-02T11:20:06.981303",
     "status": "completed"
    },
    "tags": []
   },
   "outputs": [],
   "source": [
    "# Building model on top of training dataset\n",
    "\n",
    "model = LinearRegression().fit(x_train , y_train)"
   ]
  },
  {
   "cell_type": "code",
   "execution_count": 100,
   "metadata": {
    "execution": {
     "iopub.execute_input": "2020-11-02T11:20:07.578690Z",
     "iopub.status.busy": "2020-11-02T11:20:07.577807Z",
     "iopub.status.idle": "2020-11-02T11:20:07.583191Z",
     "shell.execute_reply": "2020-11-02T11:20:07.583888Z"
    },
    "papermill": {
     "duration": 0.192207,
     "end_time": "2020-11-02T11:20:07.584075",
     "exception": false,
     "start_time": "2020-11-02T11:20:07.391868",
     "status": "completed"
    },
    "tags": []
   },
   "outputs": [],
   "source": [
    "# Prediction on train data\n",
    "\n",
    "pred_train_LR = model.predict(x_train)"
   ]
  },
  {
   "cell_type": "code",
   "execution_count": 101,
   "metadata": {
    "execution": {
     "iopub.execute_input": "2020-11-02T11:20:07.953547Z",
     "iopub.status.busy": "2020-11-02T11:20:07.952645Z",
     "iopub.status.idle": "2020-11-02T11:20:07.956368Z",
     "shell.execute_reply": "2020-11-02T11:20:07.955577Z"
    },
    "papermill": {
     "duration": 0.188795,
     "end_time": "2020-11-02T11:20:07.956506",
     "exception": false,
     "start_time": "2020-11-02T11:20:07.767711",
     "status": "completed"
    },
    "tags": []
   },
   "outputs": [],
   "source": [
    "# Prediction on test data\n",
    "\n",
    "pred_test_LR= model.predict(x_test)"
   ]
  },
  {
   "cell_type": "code",
   "execution_count": 102,
   "metadata": {
    "execution": {
     "iopub.execute_input": "2020-11-02T11:20:08.322257Z",
     "iopub.status.busy": "2020-11-02T11:20:08.321137Z",
     "iopub.status.idle": "2020-11-02T11:20:08.324481Z",
     "shell.execute_reply": "2020-11-02T11:20:08.323846Z"
    },
    "papermill": {
     "duration": 0.189087,
     "end_time": "2020-11-02T11:20:08.324610",
     "exception": false,
     "start_time": "2020-11-02T11:20:08.135523",
     "status": "completed"
    },
    "tags": []
   },
   "outputs": [],
   "source": [
    "# RMSE for train data\n",
    "\n",
    "RMSE_train_LR= np.sqrt(mean_squared_error(y_train, pred_train_LR))"
   ]
  },
  {
   "cell_type": "code",
   "execution_count": 103,
   "metadata": {
    "execution": {
     "iopub.execute_input": "2020-11-02T11:20:08.688962Z",
     "iopub.status.busy": "2020-11-02T11:20:08.688015Z",
     "iopub.status.idle": "2020-11-02T11:20:08.690661Z",
     "shell.execute_reply": "2020-11-02T11:20:08.691269Z"
    },
    "papermill": {
     "duration": 0.185304,
     "end_time": "2020-11-02T11:20:08.691445",
     "exception": false,
     "start_time": "2020-11-02T11:20:08.506141",
     "status": "completed"
    },
    "tags": []
   },
   "outputs": [],
   "source": [
    "# RMSE for test data\n",
    "\n",
    "RMSE_test_LR= np.sqrt(mean_squared_error(y_test, pred_test_LR))"
   ]
  },
  {
   "cell_type": "code",
   "execution_count": 104,
   "metadata": {
    "execution": {
     "iopub.execute_input": "2020-11-02T11:20:09.053868Z",
     "iopub.status.busy": "2020-11-02T11:20:09.052918Z",
     "iopub.status.idle": "2020-11-02T11:20:09.056429Z",
     "shell.execute_reply": "2020-11-02T11:20:09.057215Z"
    },
    "papermill": {
     "duration": 0.188462,
     "end_time": "2020-11-02T11:20:09.057412",
     "exception": false,
     "start_time": "2020-11-02T11:20:08.868950",
     "status": "completed"
    },
    "tags": []
   },
   "outputs": [
    {
     "name": "stdout",
     "output_type": "stream",
     "text": [
      "Root Mean Squared Error for Train data = 0.2753110017967314\n",
      "Root Mean Squared Error for Test data = 0.24540661786977747\n"
     ]
    }
   ],
   "source": [
    "print(\"Root Mean Squared Error for Train data = \"+str(RMSE_train_LR))\n",
    "print(\"Root Mean Squared Error for Test data = \"+str(RMSE_test_LR))"
   ]
  },
  {
   "cell_type": "code",
   "execution_count": 105,
   "metadata": {
    "execution": {
     "iopub.execute_input": "2020-11-02T11:20:09.422164Z",
     "iopub.status.busy": "2020-11-02T11:20:09.421369Z",
     "iopub.status.idle": "2020-11-02T11:20:09.427844Z",
     "shell.execute_reply": "2020-11-02T11:20:09.427074Z"
    },
    "papermill": {
     "duration": 0.190418,
     "end_time": "2020-11-02T11:20:09.427973",
     "exception": false,
     "start_time": "2020-11-02T11:20:09.237555",
     "status": "completed"
    },
    "tags": []
   },
   "outputs": [
    {
     "data": {
      "text/plain": [
       "0.7495502651880404"
      ]
     },
     "execution_count": 105,
     "metadata": {},
     "output_type": "execute_result"
    }
   ],
   "source": [
    "# Calculate R_square for train data\n",
    "\n",
    "from sklearn.metrics import r2_score\n",
    "\n",
    "r2_score(y_train, pred_train_LR)"
   ]
  },
  {
   "cell_type": "code",
   "execution_count": 106,
   "metadata": {
    "execution": {
     "iopub.execute_input": "2020-11-02T11:20:09.793602Z",
     "iopub.status.busy": "2020-11-02T11:20:09.792595Z",
     "iopub.status.idle": "2020-11-02T11:20:09.797288Z",
     "shell.execute_reply": "2020-11-02T11:20:09.796693Z"
    },
    "papermill": {
     "duration": 0.189304,
     "end_time": "2020-11-02T11:20:09.797418",
     "exception": false,
     "start_time": "2020-11-02T11:20:09.608114",
     "status": "completed"
    },
    "tags": []
   },
   "outputs": [
    {
     "data": {
      "text/plain": [
       "0.7827019104296598"
      ]
     },
     "execution_count": 106,
     "metadata": {},
     "output_type": "execute_result"
    }
   ],
   "source": [
    "r2_score(y_test, pred_test_LR)"
   ]
  },
  {
   "cell_type": "markdown",
   "metadata": {
    "papermill": {
     "duration": 0.181303,
     "end_time": "2020-11-02T11:20:10.157871",
     "exception": false,
     "start_time": "2020-11-02T11:20:09.976568",
     "status": "completed"
    },
    "tags": []
   },
   "source": [
    "DECISION TREE MODEL"
   ]
  },
  {
   "cell_type": "code",
   "execution_count": 107,
   "metadata": {
    "execution": {
     "iopub.execute_input": "2020-11-02T11:20:10.528019Z",
     "iopub.status.busy": "2020-11-02T11:20:10.527198Z",
     "iopub.status.idle": "2020-11-02T11:20:10.541640Z",
     "shell.execute_reply": "2020-11-02T11:20:10.540960Z"
    },
    "papermill": {
     "duration": 0.201935,
     "end_time": "2020-11-02T11:20:10.541791",
     "exception": false,
     "start_time": "2020-11-02T11:20:10.339856",
     "status": "completed"
    },
    "tags": []
   },
   "outputs": [],
   "source": [
    "DT_MODEL = DecisionTreeRegressor(max_depth = 2).fit(x_train,y_train)"
   ]
  },
  {
   "cell_type": "code",
   "execution_count": 108,
   "metadata": {
    "execution": {
     "iopub.execute_input": "2020-11-02T11:20:10.912807Z",
     "iopub.status.busy": "2020-11-02T11:20:10.911961Z",
     "iopub.status.idle": "2020-11-02T11:20:10.919582Z",
     "shell.execute_reply": "2020-11-02T11:20:10.918673Z"
    },
    "papermill": {
     "duration": 0.196395,
     "end_time": "2020-11-02T11:20:10.919721",
     "exception": false,
     "start_time": "2020-11-02T11:20:10.723326",
     "status": "completed"
    },
    "tags": []
   },
   "outputs": [],
   "source": [
    "# Prediction on train data\n",
    "\n",
    "pred_train_DT = DT_MODEL.predict(x_train)\n",
    "\n",
    "\n",
    "\n",
    "# Prediction on test data\n",
    "\n",
    "pred_test_DT = DT_MODEL.predict(x_test)"
   ]
  },
  {
   "cell_type": "code",
   "execution_count": 109,
   "metadata": {
    "execution": {
     "iopub.execute_input": "2020-11-02T11:20:11.288962Z",
     "iopub.status.busy": "2020-11-02T11:20:11.288149Z",
     "iopub.status.idle": "2020-11-02T11:20:11.293094Z",
     "shell.execute_reply": "2020-11-02T11:20:11.292278Z"
    },
    "papermill": {
     "duration": 0.191557,
     "end_time": "2020-11-02T11:20:11.293229",
     "exception": false,
     "start_time": "2020-11-02T11:20:11.101672",
     "status": "completed"
    },
    "tags": []
   },
   "outputs": [],
   "source": [
    "# Calculating RMSE for train data\n",
    "\n",
    "RMSE_train_DT = np.sqrt(mean_squared_error(y_train, pred_train_DT))\n",
    "\n",
    "\n",
    "\n",
    "# Calculating RMSE for test data\n",
    "\n",
    "RMSE_test_DT = np.sqrt(mean_squared_error(y_test, pred_test_DT))"
   ]
  },
  {
   "cell_type": "code",
   "execution_count": 110,
   "metadata": {
    "execution": {
     "iopub.execute_input": "2020-11-02T11:20:11.663253Z",
     "iopub.status.busy": "2020-11-02T11:20:11.662243Z",
     "iopub.status.idle": "2020-11-02T11:20:11.667751Z",
     "shell.execute_reply": "2020-11-02T11:20:11.666931Z"
    },
    "papermill": {
     "duration": 0.193809,
     "end_time": "2020-11-02T11:20:11.667935",
     "exception": false,
     "start_time": "2020-11-02T11:20:11.474126",
     "status": "completed"
    },
    "tags": []
   },
   "outputs": [
    {
     "name": "stdout",
     "output_type": "stream",
     "text": [
      "Root Mean Squared Error for Train data = 0.29962109020770195\n",
      "Root Mean Squared Error for Test data = 0.2867460617158618\n"
     ]
    }
   ],
   "source": [
    "print(\"Root Mean Squared Error for Train data = \"+str(RMSE_train_DT))\n",
    "print(\"Root Mean Squared Error for Test data = \"+str(RMSE_test_DT))"
   ]
  },
  {
   "cell_type": "code",
   "execution_count": 111,
   "metadata": {
    "execution": {
     "iopub.execute_input": "2020-11-02T11:20:12.036342Z",
     "iopub.status.busy": "2020-11-02T11:20:12.035326Z",
     "iopub.status.idle": "2020-11-02T11:20:12.041482Z",
     "shell.execute_reply": "2020-11-02T11:20:12.040803Z"
    },
    "papermill": {
     "duration": 0.19164,
     "end_time": "2020-11-02T11:20:12.041621",
     "exception": false,
     "start_time": "2020-11-02T11:20:11.849981",
     "status": "completed"
    },
    "tags": []
   },
   "outputs": [
    {
     "data": {
      "text/plain": [
       "0.7033678616157002"
      ]
     },
     "execution_count": 111,
     "metadata": {},
     "output_type": "execute_result"
    }
   ],
   "source": [
    "# R_square calculation for train data\n",
    "\n",
    "r2_score(y_train, pred_train_DT)"
   ]
  },
  {
   "cell_type": "code",
   "execution_count": 112,
   "metadata": {
    "execution": {
     "iopub.execute_input": "2020-11-02T11:20:12.414463Z",
     "iopub.status.busy": "2020-11-02T11:20:12.413120Z",
     "iopub.status.idle": "2020-11-02T11:20:12.417902Z",
     "shell.execute_reply": "2020-11-02T11:20:12.418552Z"
    },
    "papermill": {
     "duration": 0.194295,
     "end_time": "2020-11-02T11:20:12.418751",
     "exception": false,
     "start_time": "2020-11-02T11:20:12.224456",
     "status": "completed"
    },
    "tags": []
   },
   "outputs": [
    {
     "data": {
      "text/plain": [
       "0.7033268167661032"
      ]
     },
     "execution_count": 112,
     "metadata": {},
     "output_type": "execute_result"
    }
   ],
   "source": [
    "# R_square calculation for test data\n",
    "\n",
    "r2_score(y_test, pred_test_DT)"
   ]
  },
  {
   "cell_type": "markdown",
   "metadata": {
    "papermill": {
     "duration": 0.181493,
     "end_time": "2020-11-02T11:20:12.783961",
     "exception": false,
     "start_time": "2020-11-02T11:20:12.602468",
     "status": "completed"
    },
    "tags": []
   },
   "source": [
    "RANDOM FOREST MODEL"
   ]
  },
  {
   "cell_type": "code",
   "execution_count": 113,
   "metadata": {
    "execution": {
     "iopub.execute_input": "2020-11-02T11:20:13.156412Z",
     "iopub.status.busy": "2020-11-02T11:20:13.155638Z",
     "iopub.status.idle": "2020-11-02T11:20:22.510341Z",
     "shell.execute_reply": "2020-11-02T11:20:22.509516Z"
    },
    "papermill": {
     "duration": 9.54602,
     "end_time": "2020-11-02T11:20:22.510471",
     "exception": false,
     "start_time": "2020-11-02T11:20:12.964451",
     "status": "completed"
    },
    "tags": []
   },
   "outputs": [],
   "source": [
    "RF_MODEL = RandomForestRegressor(n_estimators = 200).fit(x_train,y_train)"
   ]
  },
  {
   "cell_type": "code",
   "execution_count": 114,
   "metadata": {
    "execution": {
     "iopub.execute_input": "2020-11-02T11:20:22.886485Z",
     "iopub.status.busy": "2020-11-02T11:20:22.885652Z",
     "iopub.status.idle": "2020-11-02T11:20:23.685695Z",
     "shell.execute_reply": "2020-11-02T11:20:23.684961Z"
    },
    "papermill": {
     "duration": 0.99256,
     "end_time": "2020-11-02T11:20:23.685837",
     "exception": false,
     "start_time": "2020-11-02T11:20:22.693277",
     "status": "completed"
    },
    "tags": []
   },
   "outputs": [],
   "source": [
    "# Prediction on train data\n",
    "\n",
    "pred_train_RF = RF_MODEL.predict(x_train)\n",
    "\n",
    "# Prediction on test data\n",
    "\n",
    "pred_test_RF = RF_MODEL.predict(x_test)"
   ]
  },
  {
   "cell_type": "code",
   "execution_count": 115,
   "metadata": {
    "execution": {
     "iopub.execute_input": "2020-11-02T11:20:24.061125Z",
     "iopub.status.busy": "2020-11-02T11:20:24.060320Z",
     "iopub.status.idle": "2020-11-02T11:20:24.064261Z",
     "shell.execute_reply": "2020-11-02T11:20:24.064988Z"
    },
    "papermill": {
     "duration": 0.19448,
     "end_time": "2020-11-02T11:20:24.065158",
     "exception": false,
     "start_time": "2020-11-02T11:20:23.870678",
     "status": "completed"
    },
    "tags": []
   },
   "outputs": [],
   "source": [
    "# Calculating RMSE for train data\n",
    "\n",
    "RMSE_train_RF = np.sqrt(mean_squared_error(y_train, pred_train_RF))\n",
    "\n",
    "# Calculating RMSE for test data\n",
    "\n",
    "RMSE_test_RF = np.sqrt(mean_squared_error(y_test, pred_test_RF))"
   ]
  },
  {
   "cell_type": "code",
   "execution_count": 116,
   "metadata": {
    "execution": {
     "iopub.execute_input": "2020-11-02T11:20:24.436452Z",
     "iopub.status.busy": "2020-11-02T11:20:24.435641Z",
     "iopub.status.idle": "2020-11-02T11:20:24.439941Z",
     "shell.execute_reply": "2020-11-02T11:20:24.439272Z"
    },
    "papermill": {
     "duration": 0.191673,
     "end_time": "2020-11-02T11:20:24.440084",
     "exception": false,
     "start_time": "2020-11-02T11:20:24.248411",
     "status": "completed"
    },
    "tags": []
   },
   "outputs": [
    {
     "name": "stdout",
     "output_type": "stream",
     "text": [
      "Root Mean Squared Error for Train data = 0.09523608472018584\n",
      "Root Mean Squared Error for Test data = 0.23475365501750287\n"
     ]
    }
   ],
   "source": [
    "print(\"Root Mean Squared Error for Train data = \"+str(RMSE_train_RF))\n",
    "print(\"Root Mean Squared Error for Test data = \"+str(RMSE_test_RF))"
   ]
  },
  {
   "cell_type": "code",
   "execution_count": 117,
   "metadata": {
    "execution": {
     "iopub.execute_input": "2020-11-02T11:20:24.821346Z",
     "iopub.status.busy": "2020-11-02T11:20:24.820581Z",
     "iopub.status.idle": "2020-11-02T11:20:24.827098Z",
     "shell.execute_reply": "2020-11-02T11:20:24.826431Z"
    },
    "papermill": {
     "duration": 0.201291,
     "end_time": "2020-11-02T11:20:24.827234",
     "exception": false,
     "start_time": "2020-11-02T11:20:24.625943",
     "status": "completed"
    },
    "tags": []
   },
   "outputs": [
    {
     "data": {
      "text/plain": [
       "0.9700307062836262"
      ]
     },
     "execution_count": 117,
     "metadata": {},
     "output_type": "execute_result"
    }
   ],
   "source": [
    "# Calculate R_square for train data\n",
    "\n",
    "r2_score(y_train, pred_train_RF)"
   ]
  },
  {
   "cell_type": "code",
   "execution_count": 118,
   "metadata": {
    "execution": {
     "iopub.execute_input": "2020-11-02T11:20:25.205727Z",
     "iopub.status.busy": "2020-11-02T11:20:25.204831Z",
     "iopub.status.idle": "2020-11-02T11:20:25.209703Z",
     "shell.execute_reply": "2020-11-02T11:20:25.208968Z"
    },
    "papermill": {
     "duration": 0.196651,
     "end_time": "2020-11-02T11:20:25.209880",
     "exception": false,
     "start_time": "2020-11-02T11:20:25.013229",
     "status": "completed"
    },
    "tags": []
   },
   "outputs": [
    {
     "data": {
      "text/plain": [
       "0.8011580134340182"
      ]
     },
     "execution_count": 118,
     "metadata": {},
     "output_type": "execute_result"
    }
   ],
   "source": [
    "# Calculate R_square for test data\n",
    "\n",
    "r2_score(y_test, pred_test_RF)"
   ]
  },
  {
   "cell_type": "markdown",
   "metadata": {
    "papermill": {
     "duration": 0.186194,
     "end_time": "2020-11-02T11:20:25.580524",
     "exception": false,
     "start_time": "2020-11-02T11:20:25.394330",
     "status": "completed"
    },
    "tags": []
   },
   "source": [
    "GRADIENT BOOSTING"
   ]
  },
  {
   "cell_type": "code",
   "execution_count": 119,
   "metadata": {
    "execution": {
     "iopub.execute_input": "2020-11-02T11:20:25.960308Z",
     "iopub.status.busy": "2020-11-02T11:20:25.959138Z",
     "iopub.status.idle": "2020-11-02T11:20:27.189638Z",
     "shell.execute_reply": "2020-11-02T11:20:27.188844Z"
    },
    "papermill": {
     "duration": 1.424829,
     "end_time": "2020-11-02T11:20:27.189785",
     "exception": false,
     "start_time": "2020-11-02T11:20:25.764956",
     "status": "completed"
    },
    "tags": []
   },
   "outputs": [],
   "source": [
    "GB_MODEL = GradientBoostingRegressor().fit(x_train, y_train)"
   ]
  },
  {
   "cell_type": "code",
   "execution_count": 120,
   "metadata": {
    "execution": {
     "iopub.execute_input": "2020-11-02T11:20:27.572618Z",
     "iopub.status.busy": "2020-11-02T11:20:27.571546Z",
     "iopub.status.idle": "2020-11-02T11:20:27.608366Z",
     "shell.execute_reply": "2020-11-02T11:20:27.607541Z"
    },
    "papermill": {
     "duration": 0.232119,
     "end_time": "2020-11-02T11:20:27.608490",
     "exception": false,
     "start_time": "2020-11-02T11:20:27.376371",
     "status": "completed"
    },
    "tags": []
   },
   "outputs": [],
   "source": [
    "# Prediction on train data\n",
    "\n",
    "pred_train_GB = GB_MODEL.predict(x_train)\n",
    "\n",
    "\n",
    "\n",
    "# Prediction on test data\n",
    "\n",
    "pred_test_GB = GB_MODEL.predict(x_test)"
   ]
  },
  {
   "cell_type": "code",
   "execution_count": 121,
   "metadata": {
    "execution": {
     "iopub.execute_input": "2020-11-02T11:20:27.988044Z",
     "iopub.status.busy": "2020-11-02T11:20:27.986919Z",
     "iopub.status.idle": "2020-11-02T11:20:27.990724Z",
     "shell.execute_reply": "2020-11-02T11:20:27.989962Z"
    },
    "papermill": {
     "duration": 0.19617,
     "end_time": "2020-11-02T11:20:27.990886",
     "exception": false,
     "start_time": "2020-11-02T11:20:27.794716",
     "status": "completed"
    },
    "tags": []
   },
   "outputs": [],
   "source": [
    "# RMSE for train data\n",
    "\n",
    "RMSE_train_GB = np.sqrt(mean_squared_error(y_train, pred_train_GB))\n",
    "\n",
    "\n",
    "# RMSE for test data\n",
    "\n",
    "RMSE_test_GB = np.sqrt(mean_squared_error(y_test, pred_test_GB))"
   ]
  },
  {
   "cell_type": "code",
   "execution_count": 122,
   "metadata": {
    "execution": {
     "iopub.execute_input": "2020-11-02T11:20:28.393437Z",
     "iopub.status.busy": "2020-11-02T11:20:28.392544Z",
     "iopub.status.idle": "2020-11-02T11:20:28.395782Z",
     "shell.execute_reply": "2020-11-02T11:20:28.396862Z"
    },
    "papermill": {
     "duration": 0.218912,
     "end_time": "2020-11-02T11:20:28.397044",
     "exception": false,
     "start_time": "2020-11-02T11:20:28.178132",
     "status": "completed"
    },
    "tags": []
   },
   "outputs": [
    {
     "name": "stdout",
     "output_type": "stream",
     "text": [
      "Root Mean Squared Error for Train data = 0.22754316149645537\n",
      "Root Mean Squared Error for Test data = 0.22741982916285536\n"
     ]
    }
   ],
   "source": [
    "print(\"Root Mean Squared Error for Train data = \"+str(RMSE_train_GB))\n",
    "print(\"Root Mean Squared Error for Test data = \"+str(RMSE_test_GB))"
   ]
  },
  {
   "cell_type": "code",
   "execution_count": 123,
   "metadata": {
    "execution": {
     "iopub.execute_input": "2020-11-02T11:20:28.779033Z",
     "iopub.status.busy": "2020-11-02T11:20:28.777895Z",
     "iopub.status.idle": "2020-11-02T11:20:28.783521Z",
     "shell.execute_reply": "2020-11-02T11:20:28.784152Z"
    },
    "papermill": {
     "duration": 0.200078,
     "end_time": "2020-11-02T11:20:28.784333",
     "exception": false,
     "start_time": "2020-11-02T11:20:28.584255",
     "status": "completed"
    },
    "tags": []
   },
   "outputs": [
    {
     "data": {
      "text/plain": [
       "0.8289193000175024"
      ]
     },
     "execution_count": 123,
     "metadata": {},
     "output_type": "execute_result"
    }
   ],
   "source": [
    "# Calculate R_square for train data\n",
    "\n",
    "r2_score(y_train, pred_train_GB)"
   ]
  },
  {
   "cell_type": "code",
   "execution_count": 124,
   "metadata": {
    "execution": {
     "iopub.execute_input": "2020-11-02T11:20:29.210806Z",
     "iopub.status.busy": "2020-11-02T11:20:29.209791Z",
     "iopub.status.idle": "2020-11-02T11:20:29.214480Z",
     "shell.execute_reply": "2020-11-02T11:20:29.213751Z"
    },
    "papermill": {
     "duration": 0.197616,
     "end_time": "2020-11-02T11:20:29.214601",
     "exception": false,
     "start_time": "2020-11-02T11:20:29.016985",
     "status": "completed"
    },
    "tags": []
   },
   "outputs": [
    {
     "data": {
      "text/plain": [
       "0.813387803062378"
      ]
     },
     "execution_count": 124,
     "metadata": {},
     "output_type": "execute_result"
    }
   ],
   "source": [
    "# Calculate R_square for test data\n",
    "\n",
    "r2_score(y_test, pred_test_GB)"
   ]
  },
  {
   "cell_type": "markdown",
   "metadata": {
    "papermill": {
     "duration": 0.186415,
     "end_time": "2020-11-02T11:20:29.588011",
     "exception": false,
     "start_time": "2020-11-02T11:20:29.401596",
     "status": "completed"
    },
    "tags": []
   },
   "source": [
    "OPTIMIZATION OF RESULTS ( with PARAMETERS TUNING)"
   ]
  },
  {
   "cell_type": "code",
   "execution_count": 160,
   "metadata": {
    "execution": {
     "iopub.execute_input": "2020-11-02T11:20:29.973675Z",
     "iopub.status.busy": "2020-11-02T11:20:29.972886Z",
     "iopub.status.idle": "2020-11-02T11:20:29.978795Z",
     "shell.execute_reply": "2020-11-02T11:20:29.977787Z"
    },
    "papermill": {
     "duration": 0.200213,
     "end_time": "2020-11-02T11:20:29.978977",
     "exception": false,
     "start_time": "2020-11-02T11:20:29.778764",
     "status": "completed"
    },
    "tags": []
   },
   "outputs": [
    {
     "name": "stdout",
     "output_type": "stream",
     "text": [
      "Parameters currently in use:\n",
      "\n",
      "{'bootstrap': True,\n",
      " 'ccp_alpha': 0.0,\n",
      " 'criterion': 'squared_error',\n",
      " 'max_depth': None,\n",
      " 'max_features': 1.0,\n",
      " 'max_leaf_nodes': None,\n",
      " 'max_samples': None,\n",
      " 'min_impurity_decrease': 0.0,\n",
      " 'min_samples_leaf': 1,\n",
      " 'min_samples_split': 2,\n",
      " 'min_weight_fraction_leaf': 0.0,\n",
      " 'monotonic_cst': None,\n",
      " 'n_estimators': 100,\n",
      " 'n_jobs': None,\n",
      " 'oob_score': False,\n",
      " 'random_state': 42,\n",
      " 'verbose': 0,\n",
      " 'warm_start': False}\n"
     ]
    }
   ],
   "source": [
    "from sklearn.ensemble import RandomForestRegressor\n",
    "rf = RandomForestRegressor(random_state = 42)\n",
    "from pprint import pprint\n",
    "\n",
    "# Look at parameters used by our current forest\n",
    "print('Parameters currently in use:\\n')\n",
    "pprint(rf.get_params())"
   ]
  },
  {
   "cell_type": "markdown",
   "metadata": {
    "papermill": {
     "duration": 0.192314,
     "end_time": "2020-11-02T11:20:30.361812",
     "exception": false,
     "start_time": "2020-11-02T11:20:30.169498",
     "status": "completed"
    },
    "tags": []
   },
   "source": [
    "Random Hyperparameter Grid"
   ]
  },
  {
   "cell_type": "code",
   "execution_count": 126,
   "metadata": {
    "execution": {
     "iopub.execute_input": "2020-11-02T11:20:30.746267Z",
     "iopub.status.busy": "2020-11-02T11:20:30.745153Z",
     "iopub.status.idle": "2020-11-02T11:20:30.748771Z",
     "shell.execute_reply": "2020-11-02T11:20:30.748014Z"
    },
    "papermill": {
     "duration": 0.199767,
     "end_time": "2020-11-02T11:20:30.748924",
     "exception": false,
     "start_time": "2020-11-02T11:20:30.549157",
     "status": "completed"
    },
    "tags": []
   },
   "outputs": [],
   "source": [
    "from sklearn.model_selection import train_test_split,RandomizedSearchCV\n",
    "\n",
    "\n",
    "# Random Search CV on Random Forest Model\n",
    "\n",
    "RRF = RandomForestRegressor(random_state = 0)\n",
    "n_estimator = list(range(1,20,2))\n",
    "depth = list(range(1,100,2))\n"
   ]
  },
  {
   "cell_type": "code",
   "execution_count": 127,
   "metadata": {
    "execution": {
     "iopub.execute_input": "2020-11-02T11:20:31.161502Z",
     "iopub.status.busy": "2020-11-02T11:20:31.160405Z",
     "iopub.status.idle": "2020-11-02T11:20:39.347469Z",
     "shell.execute_reply": "2020-11-02T11:20:39.348120Z"
    },
    "papermill": {
     "duration": 8.411423,
     "end_time": "2020-11-02T11:20:39.348279",
     "exception": false,
     "start_time": "2020-11-02T11:20:30.936856",
     "status": "completed"
    },
    "tags": []
   },
   "outputs": [],
   "source": [
    "# Create the random grid\n",
    "\n",
    "rand_grid = {'n_estimators': n_estimator,\n",
    "               'max_depth': depth}\n",
    "\n",
    "randomcv_rf = RandomizedSearchCV(RRF, param_distributions = rand_grid, n_iter = 5, cv = 5, random_state=0)\n",
    "\n",
    "randomcv_rf = randomcv_rf.fit(x_train,y_train)\n",
    "prediction_RRF = randomcv_rf.predict(x_test)\n",
    "\n",
    "view_best_params_RRF = randomcv_rf.best_params_\n",
    "\n",
    "best_model = randomcv_rf.best_estimator_\n",
    "\n",
    "predictions_RRF = best_model.predict(x_test)"
   ]
  },
  {
   "cell_type": "code",
   "execution_count": 128,
   "metadata": {
    "execution": {
     "iopub.execute_input": "2020-11-02T11:20:39.732352Z",
     "iopub.status.busy": "2020-11-02T11:20:39.731434Z",
     "iopub.status.idle": "2020-11-02T11:20:39.734470Z",
     "shell.execute_reply": "2020-11-02T11:20:39.735174Z"
    },
    "papermill": {
     "duration": 0.197566,
     "end_time": "2020-11-02T11:20:39.735334",
     "exception": false,
     "start_time": "2020-11-02T11:20:39.537768",
     "status": "completed"
    },
    "tags": []
   },
   "outputs": [],
   "source": [
    "# R_square\n",
    "\n",
    "RRF_r2 = r2_score(y_test, predictions_RRF)"
   ]
  },
  {
   "cell_type": "code",
   "execution_count": 129,
   "metadata": {
    "execution": {
     "iopub.execute_input": "2020-11-02T11:20:40.117825Z",
     "iopub.status.busy": "2020-11-02T11:20:40.116674Z",
     "iopub.status.idle": "2020-11-02T11:20:40.120518Z",
     "shell.execute_reply": "2020-11-02T11:20:40.119725Z"
    },
    "papermill": {
     "duration": 0.198715,
     "end_time": "2020-11-02T11:20:40.120641",
     "exception": false,
     "start_time": "2020-11-02T11:20:39.921926",
     "status": "completed"
    },
    "tags": []
   },
   "outputs": [],
   "source": [
    "# Calculating RMSE\n",
    "\n",
    "RRF_rmse = np.sqrt(mean_squared_error(y_test,predictions_RRF))\n"
   ]
  },
  {
   "cell_type": "code",
   "execution_count": 158,
   "metadata": {
    "execution": {
     "iopub.execute_input": "2020-11-02T11:20:40.508766Z",
     "iopub.status.busy": "2020-11-02T11:20:40.507729Z",
     "iopub.status.idle": "2020-11-02T11:20:40.512617Z",
     "shell.execute_reply": "2020-11-02T11:20:40.511665Z"
    },
    "papermill": {
     "duration": 0.198251,
     "end_time": "2020-11-02T11:20:40.512765",
     "exception": false,
     "start_time": "2020-11-02T11:20:40.314514",
     "status": "completed"
    },
    "tags": []
   },
   "outputs": [
    {
     "name": "stdout",
     "output_type": "stream",
     "text": [
      "Random Search CV Random Forest Model Performance:\n",
      "Best Parameters =  {'n_estimators': 15, 'max_depth': 9}\n",
      "R-squared = 0.8.\n",
      "RMSE =  0.2373410611350033\n"
     ]
    }
   ],
   "source": [
    "print('Random Search CV Random Forest Model Performance:')\n",
    "print('Best Parameters = ',view_best_params_RRF)\n",
    "print('R-squared = {:0.2}.'.format(RRF_r2))\n",
    "print('RMSE = ',RRF_rmse)"
   ]
  },
  {
   "cell_type": "code",
   "execution_count": 131,
   "metadata": {
    "execution": {
     "iopub.execute_input": "2020-11-02T11:20:40.900388Z",
     "iopub.status.busy": "2020-11-02T11:20:40.899459Z",
     "iopub.status.idle": "2020-11-02T11:20:40.905577Z",
     "shell.execute_reply": "2020-11-02T11:20:40.904946Z"
    },
    "papermill": {
     "duration": 0.201978,
     "end_time": "2020-11-02T11:20:40.905700",
     "exception": false,
     "start_time": "2020-11-02T11:20:40.703722",
     "status": "completed"
    },
    "tags": []
   },
   "outputs": [
    {
     "name": "stdout",
     "output_type": "stream",
     "text": [
      "Parameters currently in use:\n",
      "\n",
      "{'alpha': 0.9,\n",
      " 'ccp_alpha': 0.0,\n",
      " 'criterion': 'friedman_mse',\n",
      " 'init': None,\n",
      " 'learning_rate': 0.1,\n",
      " 'loss': 'squared_error',\n",
      " 'max_depth': 3,\n",
      " 'max_features': None,\n",
      " 'max_leaf_nodes': None,\n",
      " 'min_impurity_decrease': 0.0,\n",
      " 'min_samples_leaf': 1,\n",
      " 'min_samples_split': 2,\n",
      " 'min_weight_fraction_leaf': 0.0,\n",
      " 'n_estimators': 100,\n",
      " 'n_iter_no_change': None,\n",
      " 'random_state': 42,\n",
      " 'subsample': 1.0,\n",
      " 'tol': 0.0001,\n",
      " 'validation_fraction': 0.1,\n",
      " 'verbose': 0,\n",
      " 'warm_start': False}\n"
     ]
    }
   ],
   "source": [
    "gb = GradientBoostingRegressor(random_state = 42)\n",
    "from pprint import pprint\n",
    "\n",
    "# Look at parameters used by our current forest\n",
    "\n",
    "print('Parameters currently in use:\\n')\n",
    "pprint(gb.get_params())"
   ]
  },
  {
   "cell_type": "code",
   "execution_count": 132,
   "metadata": {
    "execution": {
     "iopub.execute_input": "2020-11-02T11:20:41.293166Z",
     "iopub.status.busy": "2020-11-02T11:20:41.292115Z",
     "iopub.status.idle": "2020-11-02T11:20:41.295485Z",
     "shell.execute_reply": "2020-11-02T11:20:41.294893Z"
    },
    "papermill": {
     "duration": 0.199758,
     "end_time": "2020-11-02T11:20:41.295621",
     "exception": false,
     "start_time": "2020-11-02T11:20:41.095863",
     "status": "completed"
    },
    "tags": []
   },
   "outputs": [],
   "source": [
    "# Random Search CV on gradient boosting model\n",
    "\n",
    "gb = GradientBoostingRegressor(random_state = 0)\n",
    "n_estimator = list(range(1,20,2))\n",
    "depth = list(range(1,100,2))"
   ]
  },
  {
   "cell_type": "code",
   "execution_count": 133,
   "metadata": {
    "execution": {
     "iopub.execute_input": "2020-11-02T11:20:41.687493Z",
     "iopub.status.busy": "2020-11-02T11:20:41.686613Z",
     "iopub.status.idle": "2020-11-02T11:20:54.083039Z",
     "shell.execute_reply": "2020-11-02T11:20:54.083707Z"
    },
    "papermill": {
     "duration": 12.599116,
     "end_time": "2020-11-02T11:20:54.083913",
     "exception": false,
     "start_time": "2020-11-02T11:20:41.484797",
     "status": "completed"
    },
    "tags": []
   },
   "outputs": [],
   "source": [
    "# Create the random grid\n",
    "\n",
    "rand_grid = {'n_estimators': n_estimator,\n",
    "               'max_depth': depth}\n",
    "\n",
    "randomcv_gb = RandomizedSearchCV(gb, param_distributions = rand_grid, n_iter = 5, cv = 5, random_state=0)\n",
    "\n",
    "randomcv_gb = randomcv_gb.fit(x_train,y_train)\n",
    "predictions_gb = randomcv_gb.predict(x_test)\n",
    "\n",
    "\n",
    "view_best_params_gb = randomcv_gb.best_params_\n",
    "best_model = randomcv_gb.best_estimator_\n",
    "\n",
    "predictions_gb = best_model.predict(x_test)"
   ]
  },
  {
   "cell_type": "code",
   "execution_count": 134,
   "metadata": {
    "execution": {
     "iopub.execute_input": "2020-11-02T11:20:54.471574Z",
     "iopub.status.busy": "2020-11-02T11:20:54.470557Z",
     "iopub.status.idle": "2020-11-02T11:20:54.475143Z",
     "shell.execute_reply": "2020-11-02T11:20:54.474538Z"
    },
    "papermill": {
     "duration": 0.199949,
     "end_time": "2020-11-02T11:20:54.475277",
     "exception": false,
     "start_time": "2020-11-02T11:20:54.275328",
     "status": "completed"
    },
    "tags": []
   },
   "outputs": [],
   "source": [
    "# R_square\n",
    "\n",
    "gb_r2 = r2_score(y_test, predictions_gb)\n",
    "\n",
    "\n",
    "# Calculating RMSE\n",
    "\n",
    "gb_rmse = np.sqrt(mean_squared_error(y_test,predictions_gb))\n"
   ]
  },
  {
   "cell_type": "code",
   "execution_count": 135,
   "metadata": {
    "execution": {
     "iopub.execute_input": "2020-11-02T11:20:54.864043Z",
     "iopub.status.busy": "2020-11-02T11:20:54.863068Z",
     "iopub.status.idle": "2020-11-02T11:20:54.868419Z",
     "shell.execute_reply": "2020-11-02T11:20:54.867654Z"
    },
    "papermill": {
     "duration": 0.201139,
     "end_time": "2020-11-02T11:20:54.868581",
     "exception": false,
     "start_time": "2020-11-02T11:20:54.667442",
     "status": "completed"
    },
    "tags": []
   },
   "outputs": [
    {
     "name": "stdout",
     "output_type": "stream",
     "text": [
      "Random Search CV Gradient Boosting Model Performance:\n",
      "Best Parameters =  {'n_estimators': 15, 'max_depth': 9}\n",
      "R-squared = 0.77.\n",
      "RMSE =  0.25226513358657066\n"
     ]
    }
   ],
   "source": [
    "print('Random Search CV Gradient Boosting Model Performance:')\n",
    "print('Best Parameters = ',view_best_params_gb)\n",
    "print('R-squared = {:0.2}.'.format(gb_r2))\n",
    "print('RMSE = ', gb_rmse)"
   ]
  },
  {
   "cell_type": "markdown",
   "metadata": {},
   "source": [
    "Grid Search and Cross Validation"
   ]
  },
  {
   "cell_type": "code",
   "execution_count": 136,
   "metadata": {
    "execution": {
     "iopub.execute_input": "2020-11-02T11:20:55.305413Z",
     "iopub.status.busy": "2020-11-02T11:20:55.304295Z",
     "iopub.status.idle": "2020-11-02T11:20:55.307688Z",
     "shell.execute_reply": "2020-11-02T11:20:55.307033Z"
    },
    "papermill": {
     "duration": 0.247049,
     "end_time": "2020-11-02T11:20:55.307845",
     "exception": false,
     "start_time": "2020-11-02T11:20:55.060796",
     "status": "completed"
    },
    "tags": []
   },
   "outputs": [],
   "source": [
    "from sklearn.model_selection import GridSearchCV  \n",
    "\n",
    "# Grid Search CV for random Forest model\n",
    "\n",
    "regr = RandomForestRegressor(random_state = 0)\n",
    "n_estimator = list(range(11,20,1))\n",
    "depth = list(range(5,15,2))"
   ]
  },
  {
   "cell_type": "code",
   "execution_count": 137,
   "metadata": {
    "execution": {
     "iopub.execute_input": "2020-11-02T11:20:55.712202Z",
     "iopub.status.busy": "2020-11-02T11:20:55.711194Z",
     "iopub.status.idle": "2020-11-02T11:20:55.714257Z",
     "shell.execute_reply": "2020-11-02T11:20:55.713491Z"
    },
    "papermill": {
     "duration": 0.199923,
     "end_time": "2020-11-02T11:20:55.714384",
     "exception": false,
     "start_time": "2020-11-02T11:20:55.514461",
     "status": "completed"
    },
    "tags": []
   },
   "outputs": [],
   "source": [
    "# Create the grid\n",
    "\n",
    "grid_search = {'n_estimators': n_estimator,\n",
    "               'max_depth': depth}\n"
   ]
  },
  {
   "cell_type": "code",
   "execution_count": 166,
   "metadata": {
    "execution": {
     "iopub.execute_input": "2020-11-02T11:20:56.104005Z",
     "iopub.status.busy": "2020-11-02T11:20:56.103216Z",
     "iopub.status.idle": "2020-11-02T11:22:08.451570Z",
     "shell.execute_reply": "2020-11-02T11:22:08.450638Z"
    },
    "papermill": {
     "duration": 72.546629,
     "end_time": "2020-11-02T11:22:08.451725",
     "exception": false,
     "start_time": "2020-11-02T11:20:55.905096",
     "status": "completed"
    },
    "tags": []
   },
   "outputs": [
    {
     "name": "stdout",
     "output_type": "stream",
     "text": [
      "Fitting 5 folds for each of 45 candidates, totalling 225 fits\n"
     ]
    }
   ],
   "source": [
    "# Grid Search Cross-Validation with 5 fold CV\n",
    "\n",
    "gridcv_rf = GridSearchCV(regr, param_grid = grid_search, cv = 5, verbose=1)\n",
    "\n",
    "gridcv_rf = gridcv_rf.fit(x_train,y_train)\n",
    "\n",
    "view_best_params_GRF = gridcv_rf.best_params_\n"
   ]
  },
  {
   "cell_type": "code",
   "execution_count": 139,
   "metadata": {
    "execution": {
     "iopub.execute_input": "2020-11-02T11:22:08.842030Z",
     "iopub.status.busy": "2020-11-02T11:22:08.841249Z",
     "iopub.status.idle": "2020-11-02T11:22:08.849579Z",
     "shell.execute_reply": "2020-11-02T11:22:08.848962Z"
    },
    "papermill": {
     "duration": 0.207766,
     "end_time": "2020-11-02T11:22:08.849721",
     "exception": false,
     "start_time": "2020-11-02T11:22:08.641955",
     "status": "completed"
    },
    "tags": []
   },
   "outputs": [],
   "source": [
    "#Apply model on test data\n",
    "\n",
    "predictions_GRF = gridcv_rf.predict(x_test)"
   ]
  },
  {
   "cell_type": "code",
   "execution_count": 140,
   "metadata": {
    "execution": {
     "iopub.execute_input": "2020-11-02T11:22:09.240477Z",
     "iopub.status.busy": "2020-11-02T11:22:09.239719Z",
     "iopub.status.idle": "2020-11-02T11:22:09.243479Z",
     "shell.execute_reply": "2020-11-02T11:22:09.242844Z"
    },
    "papermill": {
     "duration": 0.200941,
     "end_time": "2020-11-02T11:22:09.243607",
     "exception": false,
     "start_time": "2020-11-02T11:22:09.042666",
     "status": "completed"
    },
    "tags": []
   },
   "outputs": [],
   "source": [
    "# R_square\n",
    "\n",
    "GRF_r2 = r2_score(y_test, predictions_GRF)"
   ]
  },
  {
   "cell_type": "code",
   "execution_count": 141,
   "metadata": {
    "execution": {
     "iopub.execute_input": "2020-11-02T11:22:09.631034Z",
     "iopub.status.busy": "2020-11-02T11:22:09.630206Z",
     "iopub.status.idle": "2020-11-02T11:22:09.633946Z",
     "shell.execute_reply": "2020-11-02T11:22:09.633267Z"
    },
    "papermill": {
     "duration": 0.200237,
     "end_time": "2020-11-02T11:22:09.634071",
     "exception": false,
     "start_time": "2020-11-02T11:22:09.433834",
     "status": "completed"
    },
    "tags": []
   },
   "outputs": [],
   "source": [
    "# Calculating RMSE\n",
    "\n",
    "GRF_rmse = np.sqrt(mean_squared_error(y_test,predictions_GRF))\n"
   ]
  },
  {
   "cell_type": "code",
   "execution_count": 165,
   "metadata": {
    "execution": {
     "iopub.execute_input": "2020-11-02T11:22:10.027256Z",
     "iopub.status.busy": "2020-11-02T11:22:10.026415Z",
     "iopub.status.idle": "2020-11-02T11:22:10.029632Z",
     "shell.execute_reply": "2020-11-02T11:22:10.031322Z"
    },
    "papermill": {
     "duration": 0.204661,
     "end_time": "2020-11-02T11:22:10.031542",
     "exception": false,
     "start_time": "2020-11-02T11:22:09.826881",
     "status": "completed"
    },
    "tags": []
   },
   "outputs": [
    {
     "name": "stdout",
     "output_type": "stream",
     "text": [
      "Grid Search CV Random Forest Model Performance:\n",
      "Best Parameters =  {'max_depth': 7, 'n_estimators': 15}\n",
      "R-squared = 0.8.\n",
      "RMSE =  0.23711854543717428\n"
     ]
    }
   ],
   "source": [
    "print('Grid Search CV Random Forest Model Performance:')\n",
    "\n",
    "print('Best Parameters = ',view_best_params_GRF)\n",
    "print('R-squared = {:0.2}.'.format(GRF_r2))\n",
    "print('RMSE = ',(GRF_rmse))"
   ]
  },
  {
   "cell_type": "code",
   "execution_count": 163,
   "metadata": {
    "execution": {
     "iopub.execute_input": "2020-11-02T11:22:10.429966Z",
     "iopub.status.busy": "2020-11-02T11:22:10.429092Z",
     "iopub.status.idle": "2020-11-02T11:22:10.432721Z",
     "shell.execute_reply": "2020-11-02T11:22:10.432121Z"
    },
    "papermill": {
     "duration": 0.200832,
     "end_time": "2020-11-02T11:22:10.432903",
     "exception": false,
     "start_time": "2020-11-02T11:22:10.232071",
     "status": "completed"
    },
    "tags": []
   },
   "outputs": [],
   "source": [
    "# Grid Search CV for gradient boosting\n",
    "\n",
    "gb = GradientBoostingRegressor(random_state = 0)\n",
    "n_estimator = list(range(11,20,1))\n",
    "depth = list(range(5,15,2))"
   ]
  },
  {
   "cell_type": "code",
   "execution_count": 144,
   "metadata": {
    "execution": {
     "iopub.execute_input": "2020-11-02T11:22:10.829293Z",
     "iopub.status.busy": "2020-11-02T11:22:10.828472Z",
     "iopub.status.idle": "2020-11-02T11:22:10.831985Z",
     "shell.execute_reply": "2020-11-02T11:22:10.831231Z"
    },
    "papermill": {
     "duration": 0.206475,
     "end_time": "2020-11-02T11:22:10.832116",
     "exception": false,
     "start_time": "2020-11-02T11:22:10.625641",
     "status": "completed"
    },
    "tags": []
   },
   "outputs": [],
   "source": [
    "# Create the grid\n",
    "\n",
    "grid_search = {'n_estimators': n_estimator,\n",
    "               'max_depth': depth}\n"
   ]
  },
  {
   "cell_type": "code",
   "execution_count": 161,
   "metadata": {
    "execution": {
     "iopub.execute_input": "2020-11-02T11:22:11.228488Z",
     "iopub.status.busy": "2020-11-02T11:22:11.227338Z",
     "iopub.status.idle": "2020-11-02T11:23:52.439772Z",
     "shell.execute_reply": "2020-11-02T11:23:52.438911Z"
    },
    "papermill": {
     "duration": 101.413314,
     "end_time": "2020-11-02T11:23:52.439930",
     "exception": false,
     "start_time": "2020-11-02T11:22:11.026616",
     "status": "completed"
    },
    "tags": []
   },
   "outputs": [],
   "source": [
    "# Grid Search Cross-Validation with 5 fold CV\n",
    "\n",
    "gridcv_gb = GridSearchCV(gb, param_grid = grid_search, cv = 5)\n",
    "\n",
    "gridcv_gb = gridcv_gb.fit(x_train,y_train)\n",
    "view_best_params_Ggb = gridcv_gb.best_params_\n"
   ]
  },
  {
   "cell_type": "code",
   "execution_count": 146,
   "metadata": {
    "execution": {
     "iopub.execute_input": "2020-11-02T11:23:52.840310Z",
     "iopub.status.busy": "2020-11-02T11:23:52.839477Z",
     "iopub.status.idle": "2020-11-02T11:23:52.847157Z",
     "shell.execute_reply": "2020-11-02T11:23:52.846481Z"
    },
    "papermill": {
     "duration": 0.209601,
     "end_time": "2020-11-02T11:23:52.847291",
     "exception": false,
     "start_time": "2020-11-02T11:23:52.637690",
     "status": "completed"
    },
    "tags": []
   },
   "outputs": [],
   "source": [
    "# Apply model on test data\n",
    "\n",
    "predictions_Ggb = gridcv_gb.predict(x_test)"
   ]
  },
  {
   "cell_type": "code",
   "execution_count": 147,
   "metadata": {
    "execution": {
     "iopub.execute_input": "2020-11-02T11:23:53.247157Z",
     "iopub.status.busy": "2020-11-02T11:23:53.246074Z",
     "iopub.status.idle": "2020-11-02T11:23:53.249670Z",
     "shell.execute_reply": "2020-11-02T11:23:53.248944Z"
    },
    "papermill": {
     "duration": 0.204806,
     "end_time": "2020-11-02T11:23:53.249814",
     "exception": false,
     "start_time": "2020-11-02T11:23:53.045008",
     "status": "completed"
    },
    "tags": []
   },
   "outputs": [],
   "source": [
    "# R_square\n",
    "\n",
    "Ggb_r2 = r2_score(y_test, predictions_Ggb)"
   ]
  },
  {
   "cell_type": "code",
   "execution_count": 148,
   "metadata": {
    "execution": {
     "iopub.execute_input": "2020-11-02T11:23:53.640222Z",
     "iopub.status.busy": "2020-11-02T11:23:53.639389Z",
     "iopub.status.idle": "2020-11-02T11:23:53.643270Z",
     "shell.execute_reply": "2020-11-02T11:23:53.642458Z"
    },
    "papermill": {
     "duration": 0.201524,
     "end_time": "2020-11-02T11:23:53.643400",
     "exception": false,
     "start_time": "2020-11-02T11:23:53.441876",
     "status": "completed"
    },
    "tags": []
   },
   "outputs": [],
   "source": [
    "# Calculating RMSE\n",
    "\n",
    "Ggb_rmse = np.sqrt(mean_squared_error(y_test,predictions_Ggb))\n"
   ]
  },
  {
   "cell_type": "code",
   "execution_count": null,
   "metadata": {
    "execution": {
     "iopub.execute_input": "2020-11-02T11:23:54.039537Z",
     "iopub.status.busy": "2020-11-02T11:23:54.038624Z",
     "iopub.status.idle": "2020-11-02T11:23:54.044458Z",
     "shell.execute_reply": "2020-11-02T11:23:54.043896Z"
    },
    "papermill": {
     "duration": 0.206678,
     "end_time": "2020-11-02T11:23:54.044582",
     "exception": false,
     "start_time": "2020-11-02T11:23:53.837904",
     "status": "completed"
    },
    "tags": []
   },
   "outputs": [
    {
     "name": "stdout",
     "output_type": "stream",
     "text": [
      "Grid Search CV Gradient Boosting regression Model Performance:\n",
      "Best Parameters =  {'max_depth': 5, 'n_estimators': 19}\n",
      "R-squared = 0.8.\n",
      "RMSE =  0.23724212611002213\n"
     ]
    }
   ],
   "source": [
    "print('Grid Search CV Gradient Boosting Model Performance:')\n",
    "\n",
    "print('Best Parameters = ',view_best_params_Ggb)\n",
    "print('R-squared = {:0.2}.'.format(Ggb_r2))\n",
    "print('RMSE = ',(Ggb_rmse))"
   ]
  },
  {
   "cell_type": "markdown",
   "metadata": {
    "papermill": {
     "duration": 0.192618,
     "end_time": "2020-11-02T11:23:54.432996",
     "exception": false,
     "start_time": "2020-11-02T11:23:54.240378",
     "status": "completed"
    },
    "tags": []
   },
   "source": [
    "#                             **FARE PREDICTION** (from cleaned and processed test dataset)"
   ]
  },
  {
   "cell_type": "markdown",
   "metadata": {
    "papermill": {
     "duration": 0.240924,
     "end_time": "2020-11-02T11:23:54.868924",
     "exception": false,
     "start_time": "2020-11-02T11:23:54.628000",
     "status": "completed"
    },
    "tags": []
   },
   "source": [
    "* We already have cleaned and processed test and training dataset. \n",
    "* Hence, we will be predicting using grid search CV for **Random Forest Model.**"
   ]
  },
  {
   "cell_type": "code",
   "execution_count": 150,
   "metadata": {
    "execution": {
     "iopub.execute_input": "2020-11-02T11:23:55.316846Z",
     "iopub.status.busy": "2020-11-02T11:23:55.315839Z",
     "iopub.status.idle": "2020-11-02T11:23:55.320454Z",
     "shell.execute_reply": "2020-11-02T11:23:55.319350Z"
    },
    "papermill": {
     "duration": 0.254087,
     "end_time": "2020-11-02T11:23:55.320651",
     "exception": false,
     "start_time": "2020-11-02T11:23:55.066564",
     "status": "completed"
    },
    "tags": []
   },
   "outputs": [],
   "source": [
    "# Grid Search CV for random Forest model\n",
    "\n",
    "regr = RandomForestRegressor(random_state = 0)\n",
    "n_estimator = list(range(11,20,1))\n",
    "depth = list(range(5,15,2))"
   ]
  },
  {
   "cell_type": "code",
   "execution_count": 151,
   "metadata": {
    "execution": {
     "iopub.execute_input": "2020-11-02T11:23:55.729465Z",
     "iopub.status.busy": "2020-11-02T11:23:55.728471Z",
     "iopub.status.idle": "2020-11-02T11:23:55.730974Z",
     "shell.execute_reply": "2020-11-02T11:23:55.731542Z"
    },
    "papermill": {
     "duration": 0.20402,
     "end_time": "2020-11-02T11:23:55.731699",
     "exception": false,
     "start_time": "2020-11-02T11:23:55.527679",
     "status": "completed"
    },
    "tags": []
   },
   "outputs": [],
   "source": [
    "# Create the grid\n",
    "\n",
    "grid_search = {'n_estimators': n_estimator,\n",
    "               'max_depth': depth}\n"
   ]
  },
  {
   "cell_type": "code",
   "execution_count": 152,
   "metadata": {
    "execution": {
     "iopub.execute_input": "2020-11-02T11:23:56.132191Z",
     "iopub.status.busy": "2020-11-02T11:23:56.131067Z",
     "iopub.status.idle": "2020-11-02T11:25:08.672929Z",
     "shell.execute_reply": "2020-11-02T11:25:08.672103Z"
    },
    "papermill": {
     "duration": 72.745197,
     "end_time": "2020-11-02T11:25:08.673062",
     "exception": false,
     "start_time": "2020-11-02T11:23:55.927865",
     "status": "completed"
    },
    "tags": []
   },
   "outputs": [],
   "source": [
    "# Grid Search Cross-Validation with 5 fold CV\n",
    "\n",
    "gridcv_rf = GridSearchCV(regr, param_grid = grid_search, cv = 5)\n",
    "\n",
    "gridcv_rf = gridcv_rf.fit(x_train,y_train)\n",
    "\n",
    "view_best_params_GRF = gridcv_rf.best_params_\n"
   ]
  },
  {
   "cell_type": "code",
   "execution_count": 153,
   "metadata": {
    "execution": {
     "iopub.execute_input": "2020-11-02T11:25:09.078788Z",
     "iopub.status.busy": "2020-11-02T11:25:09.077643Z",
     "iopub.status.idle": "2020-11-02T11:25:09.082041Z",
     "shell.execute_reply": "2020-11-02T11:25:09.081324Z"
    },
    "papermill": {
     "duration": 0.2081,
     "end_time": "2020-11-02T11:25:09.082164",
     "exception": false,
     "start_time": "2020-11-02T11:25:08.874064",
     "status": "completed"
    },
    "tags": []
   },
   "outputs": [
    {
     "data": {
      "text/plain": [
       "passenger_count      int64\n",
       "Year                 int64\n",
       "Month                int64\n",
       "Date                 int64\n",
       "Day                  int64\n",
       "Hour                 int64\n",
       "distance           float64\n",
       "dtype: object"
      ]
     },
     "execution_count": 153,
     "metadata": {},
     "output_type": "execute_result"
    }
   ],
   "source": [
    "test.dtypes"
   ]
  },
  {
   "cell_type": "code",
   "execution_count": 154,
   "metadata": {
    "execution": {
     "iopub.execute_input": "2020-11-02T11:25:09.482066Z",
     "iopub.status.busy": "2020-11-02T11:25:09.481193Z",
     "iopub.status.idle": "2020-11-02T11:25:09.499617Z",
     "shell.execute_reply": "2020-11-02T11:25:09.498884Z"
    },
    "papermill": {
     "duration": 0.22081,
     "end_time": "2020-11-02T11:25:09.499756",
     "exception": false,
     "start_time": "2020-11-02T11:25:09.278946",
     "status": "completed"
    },
    "tags": []
   },
   "outputs": [
    {
     "data": {
      "text/plain": [
       "array([2.37543359, 2.39413478, 1.68070503, ..., 4.00620024, 3.30834716,\n",
       "       2.04017073])"
      ]
     },
     "execution_count": 154,
     "metadata": {},
     "output_type": "execute_result"
    }
   ],
   "source": [
    "#Apply model on test data\n",
    "\n",
    "predictions_GRF_test = gridcv_rf.predict(test)\n",
    "\n",
    "predictions_GRF_test"
   ]
  },
  {
   "cell_type": "code",
   "execution_count": 155,
   "metadata": {
    "execution": {
     "iopub.execute_input": "2020-11-02T11:25:09.898316Z",
     "iopub.status.busy": "2020-11-02T11:25:09.897233Z",
     "iopub.status.idle": "2020-11-02T11:25:09.900875Z",
     "shell.execute_reply": "2020-11-02T11:25:09.900248Z"
    },
    "papermill": {
     "duration": 0.205153,
     "end_time": "2020-11-02T11:25:09.900997",
     "exception": false,
     "start_time": "2020-11-02T11:25:09.695844",
     "status": "completed"
    },
    "tags": []
   },
   "outputs": [],
   "source": [
    "test['Predicted_fare'] = predictions_GRF_test"
   ]
  },
  {
   "cell_type": "code",
   "execution_count": 156,
   "metadata": {
    "execution": {
     "iopub.execute_input": "2020-11-02T11:25:10.310914Z",
     "iopub.status.busy": "2020-11-02T11:25:10.309864Z",
     "iopub.status.idle": "2020-11-02T11:25:10.314339Z",
     "shell.execute_reply": "2020-11-02T11:25:10.315057Z"
    },
    "papermill": {
     "duration": 0.216234,
     "end_time": "2020-11-02T11:25:10.315211",
     "exception": false,
     "start_time": "2020-11-02T11:25:10.098977",
     "status": "completed"
    },
    "tags": []
   },
   "outputs": [
    {
     "data": {
      "text/html": [
       "<div>\n",
       "<style scoped>\n",
       "    .dataframe tbody tr th:only-of-type {\n",
       "        vertical-align: middle;\n",
       "    }\n",
       "\n",
       "    .dataframe tbody tr th {\n",
       "        vertical-align: top;\n",
       "    }\n",
       "\n",
       "    .dataframe thead th {\n",
       "        text-align: right;\n",
       "    }\n",
       "</style>\n",
       "<table border=\"1\" class=\"dataframe\">\n",
       "  <thead>\n",
       "    <tr style=\"text-align: right;\">\n",
       "      <th></th>\n",
       "      <th>passenger_count</th>\n",
       "      <th>Year</th>\n",
       "      <th>Month</th>\n",
       "      <th>Date</th>\n",
       "      <th>Day</th>\n",
       "      <th>Hour</th>\n",
       "      <th>distance</th>\n",
       "      <th>Predicted_fare</th>\n",
       "    </tr>\n",
       "  </thead>\n",
       "  <tbody>\n",
       "    <tr>\n",
       "      <th>0</th>\n",
       "      <td>1</td>\n",
       "      <td>2015</td>\n",
       "      <td>1</td>\n",
       "      <td>27</td>\n",
       "      <td>1</td>\n",
       "      <td>13</td>\n",
       "      <td>1.200946</td>\n",
       "      <td>2.375434</td>\n",
       "    </tr>\n",
       "    <tr>\n",
       "      <th>1</th>\n",
       "      <td>1</td>\n",
       "      <td>2015</td>\n",
       "      <td>1</td>\n",
       "      <td>27</td>\n",
       "      <td>1</td>\n",
       "      <td>13</td>\n",
       "      <td>1.231205</td>\n",
       "      <td>2.394135</td>\n",
       "    </tr>\n",
       "    <tr>\n",
       "      <th>2</th>\n",
       "      <td>1</td>\n",
       "      <td>2011</td>\n",
       "      <td>10</td>\n",
       "      <td>8</td>\n",
       "      <td>5</td>\n",
       "      <td>11</td>\n",
       "      <td>0.481579</td>\n",
       "      <td>1.680705</td>\n",
       "    </tr>\n",
       "    <tr>\n",
       "      <th>3</th>\n",
       "      <td>1</td>\n",
       "      <td>2012</td>\n",
       "      <td>12</td>\n",
       "      <td>1</td>\n",
       "      <td>5</td>\n",
       "      <td>21</td>\n",
       "      <td>1.085538</td>\n",
       "      <td>2.218272</td>\n",
       "    </tr>\n",
       "    <tr>\n",
       "      <th>4</th>\n",
       "      <td>1</td>\n",
       "      <td>2012</td>\n",
       "      <td>12</td>\n",
       "      <td>1</td>\n",
       "      <td>5</td>\n",
       "      <td>21</td>\n",
       "      <td>1.854312</td>\n",
       "      <td>2.786595</td>\n",
       "    </tr>\n",
       "  </tbody>\n",
       "</table>\n",
       "</div>"
      ],
      "text/plain": [
       "   passenger_count  Year  Month  Date  Day  Hour  distance  Predicted_fare\n",
       "0                1  2015      1    27    1    13  1.200946        2.375434\n",
       "1                1  2015      1    27    1    13  1.231205        2.394135\n",
       "2                1  2011     10     8    5    11  0.481579        1.680705\n",
       "3                1  2012     12     1    5    21  1.085538        2.218272\n",
       "4                1  2012     12     1    5    21  1.854312        2.786595"
      ]
     },
     "execution_count": 156,
     "metadata": {},
     "output_type": "execute_result"
    }
   ],
   "source": [
    "test.head()"
   ]
  },
  {
   "cell_type": "code",
   "execution_count": 157,
   "metadata": {
    "execution": {
     "iopub.execute_input": "2020-11-02T11:25:10.714381Z",
     "iopub.status.busy": "2020-11-02T11:25:10.713544Z",
     "iopub.status.idle": "2020-11-02T11:25:11.100167Z",
     "shell.execute_reply": "2020-11-02T11:25:11.099310Z"
    },
    "papermill": {
     "duration": 0.589162,
     "end_time": "2020-11-02T11:25:11.100314",
     "exception": false,
     "start_time": "2020-11-02T11:25:10.511152",
     "status": "completed"
    },
    "tags": []
   },
   "outputs": [],
   "source": [
    "test.to_csv('test.csv')"
   ]
  }
 ],
 "metadata": {
  "kernelspec": {
   "display_name": "Python 3",
   "language": "python",
   "name": "python3"
  },
  "language_info": {
   "codemirror_mode": {
    "name": "ipython",
    "version": 3
   },
   "file_extension": ".py",
   "mimetype": "text/x-python",
   "name": "python",
   "nbconvert_exporter": "python",
   "pygments_lexer": "ipython3",
   "version": "3.12.6"
  },
  "papermill": {
   "duration": 355.400456,
   "end_time": "2020-11-02T11:25:11.407656",
   "environment_variables": {},
   "exception": null,
   "input_path": "__notebook__.ipynb",
   "output_path": "__notebook__.ipynb",
   "parameters": {},
   "start_time": "2020-11-02T11:19:16.007200",
   "version": "2.1.0"
  }
 },
 "nbformat": 4,
 "nbformat_minor": 4
}
